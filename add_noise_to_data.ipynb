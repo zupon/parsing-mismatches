{
 "cells": [
  {
   "cell_type": "code",
   "execution_count": 1,
   "id": "63843d88",
   "metadata": {},
   "outputs": [],
   "source": [
    "import functions as f\n",
    "from collections import Counter"
   ]
  },
  {
   "cell_type": "code",
   "execution_count": 2,
   "id": "6078d2ed",
   "metadata": {},
   "outputs": [],
   "source": [
    "# language = \"gd\"\n",
    "language = \"ga\""
   ]
  },
  {
   "cell_type": "code",
   "execution_count": 3,
   "id": "6735bfa6",
   "metadata": {},
   "outputs": [],
   "source": [
    "if language == \"gd\":\n",
    "    directory = \"data/UD_Scottish_Gaelic-ARCOSG/\"\n",
    "    train_file = directory+\"gd_arcosg-ud-train-removeLines.conllu\"\n",
    "    dev_file = directory+\"gd_arcosg-ud-dev-removeLines.conllu\""
   ]
  },
  {
   "cell_type": "code",
   "execution_count": 4,
   "id": "6a9ff492",
   "metadata": {},
   "outputs": [],
   "source": [
    "if language == \"ga\":\n",
    "    directory = \"data/UD_Irish-IDT/\"\n",
    "    train_file = directory+\"ga_idt-ud-train.conllu\"\n",
    "    dev_file = directory+\"ga_idt-ud-dev.conllu\""
   ]
  },
  {
   "cell_type": "code",
   "execution_count": null,
   "id": "a41f9f2e",
   "metadata": {},
   "outputs": [],
   "source": [
    "# if language == \"en\":\n",
    "#     directory = \"data/ud-en-gum/\"\n",
    "#     train_file = directory+\"\"\n",
    "#     dev_file = directory+\"\""
   ]
  },
  {
   "cell_type": "code",
   "execution_count": 5,
   "id": "7ce05a59",
   "metadata": {},
   "outputs": [],
   "source": [
    "# noise_method = \"none\"\n",
    "# noise_method = \"freq\"\n",
    "noise_method = 10"
   ]
  },
  {
   "cell_type": "code",
   "execution_count": 6,
   "id": "01610ff0",
   "metadata": {},
   "outputs": [],
   "source": [
    "train_outfile = \"train_data/\"+language+\"/\"+language+\"_noise=\"+str(noise_method)+\"-ud-train.conllu\""
   ]
  },
  {
   "cell_type": "code",
   "execution_count": 7,
   "id": "e983a69f",
   "metadata": {},
   "outputs": [],
   "source": [
    "dev_outfile = \"dev_data/\"+language+\"/\"+language+\"_noise=\"+str(noise_method)+\"-ud-dev.conllu\""
   ]
  },
  {
   "cell_type": "code",
   "execution_count": 8,
   "id": "a395cd0b",
   "metadata": {},
   "outputs": [
    {
     "data": {
      "text/plain": [
       "'train_data/ga/ga_noise=none-ud-train.conllu'"
      ]
     },
     "execution_count": 8,
     "metadata": {},
     "output_type": "execute_result"
    }
   ],
   "source": [
    "train_outfile"
   ]
  },
  {
   "cell_type": "code",
   "execution_count": 9,
   "id": "3ac57095",
   "metadata": {},
   "outputs": [
    {
     "data": {
      "text/plain": [
       "'dev_data/ga/ga_noise=none-ud-dev.conllu'"
      ]
     },
     "execution_count": 9,
     "metadata": {},
     "output_type": "execute_result"
    }
   ],
   "source": [
    "dev_outfile"
   ]
  },
  {
   "cell_type": "code",
   "execution_count": 10,
   "id": "80289ff4",
   "metadata": {},
   "outputs": [],
   "source": [
    "train_relations, train_tokens_with_relations = f.process_data_for_noise(train_file)"
   ]
  },
  {
   "cell_type": "code",
   "execution_count": 11,
   "id": "5855e5d7",
   "metadata": {},
   "outputs": [],
   "source": [
    "dev_relations, dev_tokens_with_relations = f.process_data_for_noise(dev_file)"
   ]
  },
  {
   "cell_type": "code",
   "execution_count": 12,
   "id": "507ab8a6",
   "metadata": {},
   "outputs": [
    {
     "name": "stdout",
     "output_type": "stream",
     "text": [
      "No noise will be added to the data! Original data will be output!\n",
      "\n",
      "Writing data to 'train_data/ga/ga_noise=none-ud-train.conllu'...\n"
     ]
    },
    {
     "name": "stderr",
     "output_type": "stream",
     "text": [
      "100%|████████████████████████████████████| 4005/4005 [00:00<00:00, 23241.75it/s]"
     ]
    },
    {
     "name": "stdout",
     "output_type": "stream",
     "text": [
      "\n",
      "0 lines changed out of 95,881 total lines (0.0%)\n"
     ]
    },
    {
     "name": "stderr",
     "output_type": "stream",
     "text": [
      "\n"
     ]
    }
   ],
   "source": [
    "f.add_noise_to_data(train_file, train_relations, train_tokens_with_relations, noise_method, train_outfile)"
   ]
  },
  {
   "cell_type": "code",
   "execution_count": 13,
   "id": "313a43c0",
   "metadata": {},
   "outputs": [
    {
     "name": "stdout",
     "output_type": "stream",
     "text": [
      "No noise will be added to the data! Original data will be output!\n",
      "\n",
      "Writing data to 'dev_data/ga/ga_noise=none-ud-dev.conllu'...\n"
     ]
    },
    {
     "name": "stderr",
     "output_type": "stream",
     "text": [
      "100%|██████████████████████████████████████| 451/451 [00:00<00:00, 19656.37it/s]"
     ]
    },
    {
     "name": "stdout",
     "output_type": "stream",
     "text": [
      "\n",
      "0 lines changed out of 10,000 total lines (0.0%)\n"
     ]
    },
    {
     "name": "stderr",
     "output_type": "stream",
     "text": [
      "\n"
     ]
    }
   ],
   "source": [
    "f.add_noise_to_data(dev_file, dev_relations, dev_tokens_with_relations, noise_method, dev_outfile)"
   ]
  },
  {
   "cell_type": "code",
   "execution_count": null,
   "id": "2f99fc46",
   "metadata": {},
   "outputs": [],
   "source": []
  }
 ],
 "metadata": {
  "kernelspec": {
   "display_name": "Python 3 (ipykernel)",
   "language": "python",
   "name": "python3"
  },
  "language_info": {
   "codemirror_mode": {
    "name": "ipython",
    "version": 3
   },
   "file_extension": ".py",
   "mimetype": "text/x-python",
   "name": "python",
   "nbconvert_exporter": "python",
   "pygments_lexer": "ipython3",
   "version": "3.7.4"
  }
 },
 "nbformat": 4,
 "nbformat_minor": 5
}
