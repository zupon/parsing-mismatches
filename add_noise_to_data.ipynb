{
 "cells": [
  {
   "cell_type": "code",
   "execution_count": 41,
   "id": "63843d88",
   "metadata": {},
   "outputs": [],
   "source": [
    "import functions as f\n",
    "from collections import Counter"
   ]
  },
  {
   "cell_type": "code",
   "execution_count": 42,
   "id": "6078d2ed",
   "metadata": {},
   "outputs": [],
   "source": [
    "# language = \"gd\"\n",
    "# language = \"ga\"\n",
    "# language = \"hr\"\n",
    "# language = \"sl\"\n",
    "language = \"es\""
   ]
  },
  {
   "cell_type": "code",
   "execution_count": 43,
   "id": "1ff5f2b5",
   "metadata": {},
   "outputs": [],
   "source": [
    "train_sents = 1000\n",
    "dev_sents = 1000"
   ]
  },
  {
   "cell_type": "code",
   "execution_count": 44,
   "id": "6735bfa6",
   "metadata": {},
   "outputs": [],
   "source": [
    "if language == \"gd\":\n",
    "    directory = \"data/UD_Scottish_Gaelic-ARCOSG/\"\n",
    "    train_file = directory+\"gd_arcosg-ud-train-removeLines.conllu\"\n",
    "    dev_file = directory+\"gd_arcosg-ud-dev-removeLines.conllu\""
   ]
  },
  {
   "cell_type": "code",
   "execution_count": 45,
   "id": "6a9ff492",
   "metadata": {},
   "outputs": [],
   "source": [
    "if language == \"ga\":\n",
    "    directory = \"data/UD_Irish-IDT/\"\n",
    "    train_file = directory+\"ga_idt-ud-train.conllu\"\n",
    "    dev_file = directory+\"ga_idt-ud-dev.conllu\""
   ]
  },
  {
   "cell_type": "code",
   "execution_count": 46,
   "id": "da3148c4",
   "metadata": {},
   "outputs": [],
   "source": [
    "if language == \"hr\":\n",
    "    directory = \"data/UD_Croatian-SET/\"\n",
    "    train_file = directory+\"hr_set-ud-train.conllu\"\n",
    "    dev_file = directory+\"hr_set-ud-dev.conllu\""
   ]
  },
  {
   "cell_type": "code",
   "execution_count": 47,
   "id": "46c2ce67",
   "metadata": {},
   "outputs": [],
   "source": [
    "if language == \"sl\":\n",
    "    directory = \"data/UD_Slovenian-SSJ/\"\n",
    "    train_file = directory+\"sl_ssj-ud-train.conllu\"\n",
    "    dev_file = directory+\"sl_ssj-ud-dev.conllu\""
   ]
  },
  {
   "cell_type": "code",
   "execution_count": 48,
   "id": "158bfbeb",
   "metadata": {},
   "outputs": [],
   "source": [
    "if language == \"es\":\n",
    "    directory = \"data/UD_Spanish-AnCora/\"\n",
    "    train_file = directory+\"es_ancora-ud-train.conllu\"\n",
    "    dev_file = directory+\"es_ancora-ud-dev.conllu\""
   ]
  },
  {
   "cell_type": "code",
   "execution_count": 49,
   "id": "a41f9f2e",
   "metadata": {},
   "outputs": [],
   "source": [
    "if language == \"ca\":\n",
    "    directory = \"data/UD_Catalan-AnCora/\"\n",
    "    train_file = directory+\"ca_ancora-ud-train.conllu\"\n",
    "    dev_file = directory+\"ca_ancora-ud-dev.conllu\""
   ]
  },
  {
   "cell_type": "code",
   "execution_count": 50,
   "id": "7ce05a59",
   "metadata": {},
   "outputs": [],
   "source": [
    "# noise_method = [\"none\", \"freq\"]\n",
    "noise_method = [10, 20, 30, 40, 50]"
   ]
  },
  {
   "cell_type": "code",
   "execution_count": 51,
   "id": "80289ff4",
   "metadata": {},
   "outputs": [],
   "source": [
    "train_relations, train_tokens_with_relations = f.process_data_for_noise(train_file)"
   ]
  },
  {
   "cell_type": "code",
   "execution_count": 52,
   "id": "5855e5d7",
   "metadata": {},
   "outputs": [],
   "source": [
    "dev_relations, dev_tokens_with_relations = f.process_data_for_noise(dev_file)"
   ]
  },
  {
   "cell_type": "code",
   "execution_count": 53,
   "id": "507ab8a6",
   "metadata": {},
   "outputs": [
    {
     "name": "stdout",
     "output_type": "stream",
     "text": [
      "total sentences in file:  14305\n",
      "Noise method:  randomly replace 10% of relations (3,341 out of 33,411 overall).\n",
      "\n",
      "Writing data to 'train_data/es/es_noise=10_tokens-ud-train.conllu'...\n"
     ]
    },
    {
     "name": "stderr",
     "output_type": "stream",
     "text": [
      "100%|███████████████████████████████████████| 1000/1000 [25:20<00:00,  1.52s/it]\n"
     ]
    },
    {
     "name": "stdout",
     "output_type": "stream",
     "text": [
      "\n",
      "3,341 lines changed out of 33,411 total lines (9.999700697375117%)\n",
      "total sentences in file:  1654\n",
      "Noise method:  randomly replace 10% of relations (3,484 out of 34,840 overall).\n",
      "\n",
      "Writing data to 'dev_data/es/es_noise=10_tokens-ud-dev.conllu'...\n"
     ]
    },
    {
     "name": "stderr",
     "output_type": "stream",
     "text": [
      "100%|███████████████████████████████████████| 1000/1000 [03:09<00:00,  5.28it/s]\n"
     ]
    },
    {
     "name": "stdout",
     "output_type": "stream",
     "text": [
      "\n",
      "3,484 lines changed out of 34,840 total lines (10.0%)\n",
      "total sentences in file:  14305\n",
      "Noise method:  randomly replace 20% of relations (6,682 out of 33,411 overall).\n",
      "\n",
      "Writing data to 'train_data/es/es_noise=20_tokens-ud-train.conllu'...\n"
     ]
    },
    {
     "name": "stderr",
     "output_type": "stream",
     "text": [
      "100%|███████████████████████████████████████| 1000/1000 [56:54<00:00,  3.41s/it]\n"
     ]
    },
    {
     "name": "stdout",
     "output_type": "stream",
     "text": [
      "\n",
      "6,682 lines changed out of 33,411 total lines (19.999401394750233%)\n",
      "total sentences in file:  1654\n",
      "Noise method:  randomly replace 20% of relations (6,968 out of 34,840 overall).\n",
      "\n",
      "Writing data to 'dev_data/es/es_noise=20_tokens-ud-dev.conllu'...\n"
     ]
    },
    {
     "name": "stderr",
     "output_type": "stream",
     "text": [
      "100%|███████████████████████████████████████| 1000/1000 [06:14<00:00,  2.67it/s]\n"
     ]
    },
    {
     "name": "stdout",
     "output_type": "stream",
     "text": [
      "\n",
      "6,968 lines changed out of 34,840 total lines (20.0%)\n",
      "total sentences in file:  14305\n",
      "Noise method:  randomly replace 30% of relations (10,023 out of 33,411 overall).\n",
      "\n",
      "Writing data to 'train_data/es/es_noise=30_tokens-ud-train.conllu'...\n"
     ]
    },
    {
     "name": "stderr",
     "output_type": "stream",
     "text": [
      "100%|█████████████████████████████████████| 1000/1000 [1:25:12<00:00,  5.11s/it]\n"
     ]
    },
    {
     "name": "stdout",
     "output_type": "stream",
     "text": [
      "\n",
      "10,023 lines changed out of 33,411 total lines (29.999102092125344%)\n",
      "total sentences in file:  1654\n",
      "Noise method:  randomly replace 30% of relations (10,452 out of 34,840 overall).\n",
      "\n",
      "Writing data to 'dev_data/es/es_noise=30_tokens-ud-dev.conllu'...\n"
     ]
    },
    {
     "name": "stderr",
     "output_type": "stream",
     "text": [
      "100%|███████████████████████████████████████| 1000/1000 [09:19<00:00,  1.79it/s]\n"
     ]
    },
    {
     "name": "stdout",
     "output_type": "stream",
     "text": [
      "\n",
      "10,452 lines changed out of 34,840 total lines (30.0%)\n",
      "total sentences in file:  14305\n",
      "Noise method:  randomly replace 40% of relations (13,364 out of 33,411 overall).\n",
      "\n",
      "Writing data to 'train_data/es/es_noise=40_tokens-ud-train.conllu'...\n"
     ]
    },
    {
     "name": "stderr",
     "output_type": "stream",
     "text": [
      "100%|█████████████████████████████████████| 1000/1000 [1:53:10<00:00,  6.79s/it]\n"
     ]
    },
    {
     "name": "stdout",
     "output_type": "stream",
     "text": [
      "\n",
      "13,364 lines changed out of 33,411 total lines (39.998802789500466%)\n",
      "total sentences in file:  1654\n",
      "Noise method:  randomly replace 40% of relations (13,936 out of 34,840 overall).\n",
      "\n",
      "Writing data to 'dev_data/es/es_noise=40_tokens-ud-dev.conllu'...\n"
     ]
    },
    {
     "name": "stderr",
     "output_type": "stream",
     "text": [
      "100%|███████████████████████████████████████| 1000/1000 [12:14<00:00,  1.36it/s]\n"
     ]
    },
    {
     "name": "stdout",
     "output_type": "stream",
     "text": [
      "\n",
      "13,936 lines changed out of 34,840 total lines (40.0%)\n",
      "total sentences in file:  14305\n",
      "Noise method:  randomly replace 50% of relations (16,705 out of 33,411 overall).\n",
      "\n",
      "Writing data to 'train_data/es/es_noise=50_tokens-ud-train.conllu'...\n"
     ]
    },
    {
     "name": "stderr",
     "output_type": "stream",
     "text": [
      "100%|█████████████████████████████████████| 1000/1000 [2:21:53<00:00,  8.51s/it]\n"
     ]
    },
    {
     "name": "stdout",
     "output_type": "stream",
     "text": [
      "\n",
      "16,705 lines changed out of 33,411 total lines (49.99850348687558%)\n",
      "total sentences in file:  1654\n",
      "Noise method:  randomly replace 50% of relations (17,420 out of 34,840 overall).\n",
      "\n",
      "Writing data to 'dev_data/es/es_noise=50_tokens-ud-dev.conllu'...\n"
     ]
    },
    {
     "name": "stderr",
     "output_type": "stream",
     "text": [
      "100%|███████████████████████████████████████| 1000/1000 [15:19<00:00,  1.09it/s]"
     ]
    },
    {
     "name": "stdout",
     "output_type": "stream",
     "text": [
      "\n",
      "17,420 lines changed out of 34,840 total lines (50.0%)\n"
     ]
    },
    {
     "name": "stderr",
     "output_type": "stream",
     "text": [
      "\n"
     ]
    }
   ],
   "source": [
    "for i in noise_method:\n",
    "    train_outfile = \"train_data/\"+language+\"/\"+language+\"_noise=\"+str(i)+\"_tokens-ud-train.conllu\"    \n",
    "    f.add_noise_to_data(train_file, train_relations, train_tokens_with_relations, i, train_outfile, train_sents)\n",
    "    dev_outfile = \"dev_data/\"+language+\"/\"+language+\"_noise=\"+str(i)+\"_tokens-ud-dev.conllu\"    \n",
    "    f.add_noise_to_data(dev_file, dev_relations, dev_tokens_with_relations, i, dev_outfile, dev_sents)    "
   ]
  },
  {
   "cell_type": "code",
   "execution_count": null,
   "id": "313a43c0",
   "metadata": {},
   "outputs": [],
   "source": []
  },
  {
   "cell_type": "code",
   "execution_count": null,
   "id": "2f99fc46",
   "metadata": {},
   "outputs": [],
   "source": []
  }
 ],
 "metadata": {
  "kernelspec": {
   "display_name": "Python 3 (ipykernel)",
   "language": "python",
   "name": "python3"
  },
  "language_info": {
   "codemirror_mode": {
    "name": "ipython",
    "version": 3
   },
   "file_extension": ".py",
   "mimetype": "text/x-python",
   "name": "python",
   "nbconvert_exporter": "python",
   "pygments_lexer": "ipython3",
   "version": "3.7.4"
  }
 },
 "nbformat": 4,
 "nbformat_minor": 5
}
