{
 "cells": [
  {
   "cell_type": "code",
   "execution_count": 1,
   "id": "0f7c3d29",
   "metadata": {},
   "outputs": [],
   "source": [
    "import sys\n",
    "from tqdm import tqdm\n",
    "from collections import Counter\n",
    "import functions as f\n",
    "import get_conversions_bilingual_vectors as conv"
   ]
  },
  {
   "cell_type": "code",
   "execution_count": 2,
   "id": "f10853bf",
   "metadata": {
    "scrolled": true
   },
   "outputs": [
    {
     "name": "stdout",
     "output_type": "stream",
     "text": [
      "loading vectors...\n",
      "Generating training data based on noise_type: 20_tokens\n",
      "1,000 sentences processed\n",
      "33,411 tokens processed\n",
      "Average sentence length:\t33.411\n",
      "26,099 head-dependent:relation pairs\n",
      "28,315 head-dependent-relation:sentence triples\n",
      "13,123 sentences processed\n",
      "429,121 tokens processed\n",
      "Average sentence length:\t32.69991617770327\n",
      "239,065 head-dependent:relation pairs\n",
      "243,362 head-dependent-relation:sentence triples\n",
      "\n",
      "DEBUG\tget_conversions_bilingual_vectors\n"
     ]
    },
    {
     "name": "stderr",
     "output_type": "stream",
     "text": [
      "  1%|▋                                                                                               | 175/26099 [11:01<27:13:22,  3.78s/it]\n"
     ]
    },
    {
     "ename": "KeyboardInterrupt",
     "evalue": "",
     "output_type": "error",
     "traceback": [
      "\u001b[0;31m---------------------------------------------------------------------------\u001b[0m",
      "\u001b[0;31mKeyboardInterrupt\u001b[0m                         Traceback (most recent call last)",
      "\u001b[0;32m/tmp/ipykernel_7565/3003914660.py\u001b[0m in \u001b[0;36m<module>\u001b[0;34m\u001b[0m\n\u001b[1;32m     32\u001b[0m     \u001b[0;31m# vector conversion only\u001b[0m\u001b[0;34m\u001b[0m\u001b[0;34m\u001b[0m\u001b[0;34m\u001b[0m\u001b[0m\n\u001b[1;32m     33\u001b[0m     conversion_es = conv.get_conversions_bilingual_vectors(list_es, list_ca,\n\u001b[0;32m---> 34\u001b[0;31m                                                     vectors_es, vectors_ca)\n\u001b[0m\u001b[1;32m     35\u001b[0m     \u001b[0mconverted_corpus_es\u001b[0m \u001b[0;34m=\u001b[0m \u001b[0mcorpus_es\u001b[0m\u001b[0;34m[\u001b[0m\u001b[0;34m:\u001b[0m\u001b[0;34m-\u001b[0m\u001b[0;36m16\u001b[0m\u001b[0;34m]\u001b[0m\u001b[0;34m+\u001b[0m\u001b[0;34m\"_conversion=vectors_DEBUG-ud-train.conllu\"\u001b[0m\u001b[0;34m\u001b[0m\u001b[0;34m\u001b[0m\u001b[0m\n\u001b[1;32m     36\u001b[0m \u001b[0;34m\u001b[0m\u001b[0m\n",
      "\u001b[0;32m~/githubRepos/parsing-mismatches/get_conversions_bilingual_vectors.py\u001b[0m in \u001b[0;36mget_conversions_bilingual_vectors\u001b[0;34m(this_data, other_data, vector_file_this, vector_file_that)\u001b[0m\n\u001b[1;32m     49\u001b[0m         new_pairs = f.get_new_pairs(set(head_word_replacements),\n\u001b[1;32m     50\u001b[0m                                   \u001b[0mset\u001b[0m\u001b[0;34m(\u001b[0m\u001b[0mdependent_word_replacements\u001b[0m\u001b[0;34m)\u001b[0m\u001b[0;34m,\u001b[0m\u001b[0;34m\u001b[0m\u001b[0;34m\u001b[0m\u001b[0m\n\u001b[0;32m---> 51\u001b[0;31m                                   other_data)\n\u001b[0m\u001b[1;32m     52\u001b[0m         \u001b[0mchanged_pairs\u001b[0m \u001b[0;34m+=\u001b[0m \u001b[0mlen\u001b[0m\u001b[0;34m(\u001b[0m\u001b[0mnew_pairs\u001b[0m\u001b[0;34m)\u001b[0m\u001b[0;34m\u001b[0m\u001b[0;34m\u001b[0m\u001b[0m\n\u001b[1;32m     53\u001b[0m \u001b[0;31m#         print(f\"new pairs:\\t{len(new_pairs)}\")\u001b[0m\u001b[0;34m\u001b[0m\u001b[0;34m\u001b[0m\u001b[0;34m\u001b[0m\u001b[0m\n",
      "\u001b[0;32m~/githubRepos/parsing-mismatches/functions.py\u001b[0m in \u001b[0;36mget_new_pairs\u001b[0;34m(head_replacements, dependent_replacements, other_data)\u001b[0m\n\u001b[1;32m    657\u001b[0m     \u001b[0;32mfor\u001b[0m \u001b[0mhead\u001b[0m \u001b[0;32min\u001b[0m \u001b[0mhead_replacements\u001b[0m\u001b[0;34m:\u001b[0m\u001b[0;34m\u001b[0m\u001b[0;34m\u001b[0m\u001b[0m\n\u001b[1;32m    658\u001b[0m         \u001b[0;32mfor\u001b[0m \u001b[0mdependent\u001b[0m \u001b[0;32min\u001b[0m \u001b[0mdependent_replacements\u001b[0m\u001b[0;34m:\u001b[0m\u001b[0;34m\u001b[0m\u001b[0;34m\u001b[0m\u001b[0m\n\u001b[0;32m--> 659\u001b[0;31m             \u001b[0;32mif\u001b[0m \u001b[0;34m(\u001b[0m\u001b[0mhead\u001b[0m\u001b[0;34m,\u001b[0m \u001b[0mdependent\u001b[0m\u001b[0;34m)\u001b[0m \u001b[0;32min\u001b[0m \u001b[0mlist\u001b[0m\u001b[0;34m(\u001b[0m\u001b[0mother_data\u001b[0m\u001b[0;34m.\u001b[0m\u001b[0mkeys\u001b[0m\u001b[0;34m(\u001b[0m\u001b[0;34m)\u001b[0m\u001b[0;34m)\u001b[0m\u001b[0;34m:\u001b[0m\u001b[0;34m\u001b[0m\u001b[0;34m\u001b[0m\u001b[0m\n\u001b[0m\u001b[1;32m    660\u001b[0m                 \u001b[0mnew_pairs\u001b[0m\u001b[0;34m.\u001b[0m\u001b[0mappend\u001b[0m\u001b[0;34m(\u001b[0m\u001b[0;34m(\u001b[0m\u001b[0mhead\u001b[0m\u001b[0;34m,\u001b[0m\u001b[0mdependent\u001b[0m\u001b[0;34m)\u001b[0m\u001b[0;34m)\u001b[0m\u001b[0;34m\u001b[0m\u001b[0;34m\u001b[0m\u001b[0m\n\u001b[1;32m    661\u001b[0m     \u001b[0;32mreturn\u001b[0m \u001b[0mnew_pairs\u001b[0m\u001b[0;34m\u001b[0m\u001b[0;34m\u001b[0m\u001b[0m\n",
      "\u001b[0;31mKeyboardInterrupt\u001b[0m: "
     ]
    }
   ],
   "source": [
    "# set hyperparameters\n",
    "# noise_type = [\"none\", \"freq\", \"10_types\", \"20_types\", \"30_types\", \"40_types\", \"50_types\"]\n",
    "# noise_type = [\"none_tokens\"]\n",
    "# noise_type = [\"freq_tokens\"]\n",
    "# noise_type = ['none_tokens']\n",
    "# noise_type = ['freq_tokens', '10_tokens', '20_tokens', '30_tokens']\n",
    "# noise_type = ['10_tokens']\n",
    "noise_type = ['20_tokens']\n",
    "# noise_type = ['30_tokens']\n",
    "top_n = 20\n",
    "threshold = 0.0\n",
    "\n",
    "# # load vectors\n",
    "print(\"loading vectors...\")\n",
    "\n",
    "vectors_es = \"wiki.es.align.magnitude\"\n",
    "vectors_ca = \"wiki.ca.align.magnitude\"\n",
    "\n",
    "for noise in noise_type:\n",
    "    print(f\"Generating training data based on noise_type: {noise}\")\n",
    "\n",
    "    corpus_es = \"train_data/es/es_noise=\"+str(noise)+\"-ud-train.conllu\"\n",
    "#     corpus_es = \"dev_data/es/es_noise=\"+str(noise)+\"-ud-dev.conllu\"\n",
    "#     corpus_ca = \"train_data/ca/ca_noise=none-ud-train.conllu\"\n",
    "    corpus_ca = \"data/UD_Catalan-AnCora/ca_ancora-ud-train.conllu\"\n",
    "#     corpus_ca = \"data/UD_Catalan-AnCora/ca_ancora-ud-dev.conllu\"\n",
    "\n",
    "    # train data\n",
    "    list_es, sentences_es = f.process_training_data(corpus_es)\n",
    "    list_ca, sentences_ca = f.process_training_data(corpus_ca)\n",
    "\n",
    "    # vector conversion only\n",
    "    conversion_es = conv.get_conversions_bilingual_vectors(list_es, list_ca,\n",
    "                                                    vectors_es, vectors_ca)\n",
    "    converted_corpus_es = corpus_es[:-16]+\"_conversion=vectors_DEBUG-ud-train.conllu\"\n",
    "\n",
    "#     i = 0\n",
    "#     j = len(conversion_hr)\n",
    "#     for item in conversion_hr:\n",
    "#         if len(list(conversion_hr[item])) != 0:\n",
    "#     #         print(item, conversion_hr[item])\n",
    "#             i += 1\n",
    "\n",
    "#     print(f\"Total word pairs:\\t{j}\")\n",
    "#     print(f\"Word pairs w/ other relations:\\t{i}\")\n",
    "\n",
    "    (total_lines, changed) = f.apply_conversions_bilingual(corpus_es, converted_corpus_es, conversion_es)\n",
    "    print(f\"Total lines:\\t{total_lines}\")\n",
    "    print(f\"Lines changed:\\t{changed}\")"
   ]
  }
 ],
 "metadata": {
  "kernelspec": {
   "display_name": "Python 3 (ipykernel)",
   "language": "python",
   "name": "python3"
  },
  "language_info": {
   "codemirror_mode": {
    "name": "ipython",
    "version": 3
   },
   "file_extension": ".py",
   "mimetype": "text/x-python",
   "name": "python",
   "nbconvert_exporter": "python",
   "pygments_lexer": "ipython3",
   "version": "3.7.4"
  }
 },
 "nbformat": 4,
 "nbformat_minor": 5
}
