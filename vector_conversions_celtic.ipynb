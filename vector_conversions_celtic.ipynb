{
 "cells": [
  {
   "cell_type": "code",
   "execution_count": 1,
   "id": "1a40954a",
   "metadata": {},
   "outputs": [],
   "source": [
    "import sys\n",
    "from tqdm import tqdm\n",
    "from collections import Counter\n",
    "import functions as f\n",
    "import get_conversions_bilingual_vectors as conv"
   ]
  },
  {
   "cell_type": "code",
   "execution_count": null,
   "id": "1afd8738",
   "metadata": {},
   "outputs": [
    {
     "name": "stdout",
     "output_type": "stream",
     "text": [
      "loading vectors...\n",
      "Generating training data based on noise_type: 20_tokens\n",
      "2,613 sentences processed\n",
      "51,610 tokens processed\n",
      "Average sentence length:\t19.751243781094526\n",
      "29,476 head-dependent:relation pairs\n",
      "35,045 head-dependent-relation:sentence triples\n",
      "4,005 sentences processed\n",
      "95,881 tokens processed\n",
      "Average sentence length:\t23.940324594257177\n",
      "63,769 head-dependent:relation pairs\n",
      "64,946 head-dependent-relation:sentence triples\n",
      "\n",
      "DEBUG\tget_conversions_bilingual_vectors\n"
     ]
    },
    {
     "name": "stderr",
     "output_type": "stream",
     "text": [
      "  6%|█████▉                                                                                          | 1840/29476 [27:27<7:48:19,  1.02s/it]"
     ]
    }
   ],
   "source": [
    "# set hyperparameters\n",
    "# noise_type = [\"none\", \"freq\", \"10_types\", \"20_types\", \"30_types\", \"40_types\", \"50_types\"]\n",
    "# noise_type = [\"none_tokens\"]\n",
    "# noise_type = [\"freq_tokens\"]\n",
    "# noise_type = ['none_tokens']\n",
    "# noise_type = ['freq_tokens', '10_tokens', '20_tokens', '30_tokens']\n",
    "# noise_type = ['10_tokens']\n",
    "noise_type = ['20_tokens']\n",
    "# noise_type = ['30_tokens']\n",
    "top_n = 20\n",
    "threshold = 0.0\n",
    "\n",
    "# load vectors\n",
    "print(\"loading vectors...\")\n",
    "vectors_dir = \"./gd-ga-en-vecs/\"\n",
    "vectors_gd = vectors_dir+\"src=gd_tgt=ga/vectors-gd-aligned-w-ga.magnitude\"\n",
    "vectors_ga = vectors_dir+\"src=gd_tgt=ga/vectors-ga-aligned-w-gd.magnitude\"\n",
    "\n",
    "for noise in noise_type:\n",
    "    print(f\"Generating training data based on noise_type: {noise}\")\n",
    "\n",
    "    # Train data\n",
    "    corpus_gd = \"train_data/gd/gd_noise=\"+str(noise)+\"-ud-train.conllu\"\n",
    "    corpus_ga = \"train_data/ga/ga_noise=none-ud-train.conllu\"\n",
    "    \n",
    "#     corpus_gd = \"dev_data/gd/gd_noise=\"+str(noise)+\"-ud-dev.conllu\"\n",
    "#     corpus_ga = \"dev_data/ga/ga_noise=none-ud-dev.conllu\"\n",
    "\n",
    "    list_gd, sentences_gd = f.process_training_data(corpus_gd)\n",
    "    list_ga, sentences_ga = f.process_training_data(corpus_ga)    \n",
    "\n",
    "    # vector conversion only\n",
    "    conversion_gd = conv.get_conversions_bilingual_vectors(list_gd, list_ga,\n",
    "                                                    vectors_gd, vectors_ga)\n",
    "    converted_corpus_gd = corpus_gd[:-16]+\"_conversion=vectors_DEBUG-ud-train.conllu\"\n",
    "\n",
    "#     i = 0\n",
    "#     j = len(conversion_hr)\n",
    "#     for item in conversion_hr:\n",
    "#         if len(list(conversion_hr[item])) != 0:\n",
    "#     #         print(item, conversion_hr[item])\n",
    "#             i += 1\n",
    "\n",
    "#     print(f\"Total word pairs:\\t{j}\")\n",
    "#     print(f\"Word pairs w/ other relations:\\t{i}\")\n",
    "\n",
    "    (total_lines, changed) = f.apply_conversions_bilingual(corpus_es, converted_corpus_es, conversion_es)\n",
    "    print(f\"Total lines:\\t{total_lines}\")\n",
    "    print(f\"Lines changed:\\t{changed}\")"
   ]
  },
  {
   "cell_type": "code",
   "execution_count": null,
   "id": "d0ade335",
   "metadata": {},
   "outputs": [],
   "source": []
  }
 ],
 "metadata": {
  "kernelspec": {
   "display_name": "Python 3 (ipykernel)",
   "language": "python",
   "name": "python3"
  },
  "language_info": {
   "codemirror_mode": {
    "name": "ipython",
    "version": 3
   },
   "file_extension": ".py",
   "mimetype": "text/x-python",
   "name": "python",
   "nbconvert_exporter": "python",
   "pygments_lexer": "ipython3",
   "version": "3.7.4"
  }
 },
 "nbformat": 4,
 "nbformat_minor": 5
}
