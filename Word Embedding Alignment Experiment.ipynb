{
 "cells": [
  {
   "cell_type": "markdown",
   "id": "dae328dd",
   "metadata": {},
   "source": [
    "# Aligning word embeddings for Scottish Gaelic -- Irish"
   ]
  },
  {
   "cell_type": "markdown",
   "id": "ab399923",
   "metadata": {},
   "source": [
    "I aligned fastText word embeddings for Scottish Gaelic -- Irish. This notebook shows some evidence that the alignment worked (to some extent)."
   ]
  },
  {
   "cell_type": "code",
   "execution_count": 1,
   "id": "c4e16477",
   "metadata": {},
   "outputs": [],
   "source": [
    "from pymagnitude import *"
   ]
  },
  {
   "cell_type": "code",
   "execution_count": 2,
   "id": "af7c70ca",
   "metadata": {},
   "outputs": [],
   "source": [
    "# Original unaligned word vectors\n",
    "gd_original = Magnitude(\"gd-ga-en-vecs/vectors-gd.magnitude\")\n",
    "ga_original = Magnitude(\"gd-ga-en-vecs/vectors-ga.magnitude\")"
   ]
  },
  {
   "cell_type": "markdown",
   "id": "5348ba04",
   "metadata": {},
   "source": [
    "## Src = gd, Tgt = ga"
   ]
  },
  {
   "cell_type": "code",
   "execution_count": 3,
   "id": "005da978",
   "metadata": {},
   "outputs": [],
   "source": [
    "# Aligned word vectors using Kevin Scannell's bilingual dictionary for training\n",
    "# src = gd, tgt = ga\n",
    "gd_aligned = Magnitude(\"gd-ga-en-vecs/src=gd_tgt=ga/vectors-gd-aligned-w-ga.magnitude\")\n",
    "ga_aligned = Magnitude(\"gd-ga-en-vecs/src=gd_tgt=ga/vectors-ga-aligned-w-gd.magnitude\")"
   ]
  },
  {
   "cell_type": "markdown",
   "id": "e8424eaa",
   "metadata": {},
   "source": [
    "## Distance and Similarity of Cognates"
   ]
  },
  {
   "cell_type": "markdown",
   "id": "d582b0c6",
   "metadata": {},
   "source": [
    "### Identical surface forms *athair*--*athair* 'father'"
   ]
  },
  {
   "cell_type": "markdown",
   "id": "b8f6dd05",
   "metadata": {},
   "source": [
    "The distance between cognates when using the original word embeddings is greater than the distance when using the aligned word vectors."
   ]
  },
  {
   "cell_type": "code",
   "execution_count": 4,
   "id": "e06b9091",
   "metadata": {},
   "outputs": [
    {
     "data": {
      "text/plain": [
       "1.3714929"
      ]
     },
     "execution_count": 4,
     "metadata": {},
     "output_type": "execute_result"
    }
   ],
   "source": [
    "gd_original.distance(gd_original.query(\"athair\"), ga_original.query(\"athair\"))"
   ]
  },
  {
   "cell_type": "code",
   "execution_count": 5,
   "id": "ab087a0e",
   "metadata": {},
   "outputs": [
    {
     "data": {
      "text/plain": [
       "0.9214781"
      ]
     },
     "execution_count": 5,
     "metadata": {},
     "output_type": "execute_result"
    }
   ],
   "source": [
    "gd_aligned.distance(gd_aligned.query(\"athair\"), ga_aligned.query(\"athair\"))"
   ]
  },
  {
   "cell_type": "markdown",
   "id": "6f29f9b0",
   "metadata": {},
   "source": [
    "Conversely, similarity between cognates is greater when using aligned word embeddings compared to the original unaligned word embeddings."
   ]
  },
  {
   "cell_type": "code",
   "execution_count": 6,
   "id": "398fabe2",
   "metadata": {},
   "outputs": [
    {
     "data": {
      "text/plain": [
       "0.059503734"
      ]
     },
     "execution_count": 6,
     "metadata": {},
     "output_type": "execute_result"
    }
   ],
   "source": [
    "gd_original.similarity(gd_original.query(\"athair\"), ga_original.query(\"athair\"))"
   ]
  },
  {
   "cell_type": "code",
   "execution_count": 7,
   "id": "9ac0ef32",
   "metadata": {},
   "outputs": [
    {
     "data": {
      "text/plain": [
       "0.575439"
      ]
     },
     "execution_count": 7,
     "metadata": {},
     "output_type": "execute_result"
    }
   ],
   "source": [
    "gd_aligned.similarity(gd_aligned.query(\"athair\"), ga_aligned.query(\"athair\"))"
   ]
  },
  {
   "cell_type": "markdown",
   "id": "e5405fa1",
   "metadata": {},
   "source": [
    "### Different surface forms *thidsear*--*múinteoir* 'teacher'"
   ]
  },
  {
   "cell_type": "markdown",
   "id": "8645a9c5",
   "metadata": {},
   "source": [
    "As with identical surface forms, the distance of cognates decreases when using the aligned word vectors"
   ]
  },
  {
   "cell_type": "code",
   "execution_count": 8,
   "id": "418fb4b8",
   "metadata": {},
   "outputs": [
    {
     "data": {
      "text/plain": [
       "1.4716123"
      ]
     },
     "execution_count": 8,
     "metadata": {},
     "output_type": "execute_result"
    }
   ],
   "source": [
    "gd_original.distance(gd_original.query(\"tìdsear\"), ga_original.query(\"múinteoir\"))"
   ]
  },
  {
   "cell_type": "code",
   "execution_count": 9,
   "id": "bee0a974",
   "metadata": {},
   "outputs": [
    {
     "data": {
      "text/plain": [
       "1.1173369"
      ]
     },
     "execution_count": 9,
     "metadata": {},
     "output_type": "execute_result"
    }
   ],
   "source": [
    "gd_aligned.distance(gd_aligned.query(\"tìdsear\"), ga_aligned.query(\"múinteoir\"))"
   ]
  },
  {
   "cell_type": "markdown",
   "id": "a8450351",
   "metadata": {},
   "source": [
    "Similarity similarity increases when using the aligned word vectors compared to the unaligned ones."
   ]
  },
  {
   "cell_type": "code",
   "execution_count": 10,
   "id": "2ec6347c",
   "metadata": {},
   "outputs": [
    {
     "data": {
      "text/plain": [
       "-0.08282142"
      ]
     },
     "execution_count": 10,
     "metadata": {},
     "output_type": "execute_result"
    }
   ],
   "source": [
    "gd_original.similarity(gd_original.query(\"tìdsear\"), ga_original.query(\"múinteoir\"))"
   ]
  },
  {
   "cell_type": "code",
   "execution_count": 11,
   "id": "83b0a0d5",
   "metadata": {},
   "outputs": [
    {
     "data": {
      "text/plain": [
       "0.37577924"
      ]
     },
     "execution_count": 11,
     "metadata": {},
     "output_type": "execute_result"
    }
   ],
   "source": [
    "gd_aligned.similarity(gd_aligned.query(\"tìdsear\"), ga_aligned.query(\"múinteoir\"))"
   ]
  },
  {
   "cell_type": "markdown",
   "id": "98ffca32",
   "metadata": {},
   "source": [
    "## Most similar embeddings"
   ]
  },
  {
   "cell_type": "markdown",
   "id": "93206d29",
   "metadata": {},
   "source": [
    "### Identical surface forms *athair*--*athair* 'father'"
   ]
  },
  {
   "cell_type": "markdown",
   "id": "17fe8069",
   "metadata": {},
   "source": [
    "#### Original word vectors"
   ]
  },
  {
   "cell_type": "markdown",
   "id": "1164475a",
   "metadata": {},
   "source": [
    "The most similar entries to _athair_ in both the original Scottish Gaelic and Irish word embeddings are closely related words."
   ]
  },
  {
   "cell_type": "markdown",
   "id": "ad01540e",
   "metadata": {},
   "source": [
    "For Scottish Gaelic, for example, we see _mathair_ 'mother' and _leas-athair_ 'stepfather'. However, there are some odd entries that are only similar in their surface form, e.g. _Nathair_ 'snake' (could be corruption of _n-athair_ 'their father'?) or _Bathair_ 'goods'."
   ]
  },
  {
   "cell_type": "code",
   "execution_count": 12,
   "id": "4dc2657a",
   "metadata": {},
   "outputs": [
    {
     "data": {
      "text/plain": [
       "[('leas-athair', 0.7714895),\n",
       " ('àrd-athair', 0.7699828),\n",
       " ('mhathair', 0.76533455),\n",
       " ('t-athair', 0.7603621),\n",
       " ('mathair', 0.7544086),\n",
       " ('h-athair', 0.7522838),\n",
       " ('Mathair', 0.75154734),\n",
       " ('Nathair', 0.7480391),\n",
       " ('t-àrd-athair', 0.73647505),\n",
       " ('Bathair', 0.7290089)]"
      ]
     },
     "execution_count": 12,
     "metadata": {},
     "output_type": "execute_result"
    }
   ],
   "source": [
    "gd_original.most_similar(\"athair\", topn=10)"
   ]
  },
  {
   "cell_type": "markdown",
   "id": "a3cfd538",
   "metadata": {},
   "source": [
    "Top 10:\n",
    "1. stepfather\n",
    "2. stepfather\n",
    "3. mother\n",
    "4. the father\n",
    "5. mother\n",
    "6. her father\n",
    "7. mother\n",
    "8. **Snake** (or *n-athair* 'their father'?) \n",
    "9. the great-grandfather\n",
    "10. goods"
   ]
  },
  {
   "cell_type": "markdown",
   "id": "9b0cf82a",
   "metadata": {},
   "source": [
    "For Irish, we see similar words like _mháthair_ 'mother' and _sheanathair_ 'grandfather', but also some odd names like _Théodebald_, _Gondioque_, and _Aminah_."
   ]
  },
  {
   "cell_type": "code",
   "execution_count": 13,
   "id": "fe37d18d",
   "metadata": {},
   "outputs": [
    {
     "data": {
      "text/plain": [
       "[('mháthair', 0.58177733),\n",
       " ('t-athair', 0.5201826),\n",
       " ('h-athair', 0.50818443),\n",
       " ('sheanathair', 0.5013288),\n",
       " ('n-athair', 0.49979436),\n",
       " ('shin-seanathair', 0.48902076),\n",
       " ('shean-athair', 0.4642293),\n",
       " ('Théodebald', 0.4593647),\n",
       " ('Gondioque', 0.4590472),\n",
       " ('Aminah', 0.45837396)]"
      ]
     },
     "execution_count": 13,
     "metadata": {},
     "output_type": "execute_result"
    }
   ],
   "source": [
    "ga_original.most_similar(\"athair\", topn=10)"
   ]
  },
  {
   "cell_type": "markdown",
   "id": "b05c6247",
   "metadata": {},
   "source": [
    "Top 10:\n",
    "1. mother\n",
    "2. the father\n",
    "3. father\n",
    "4. grandfather\n",
    "5. their father\n",
    "6. great-grandfather\n",
    "7. grandfather\n",
    "8. **Théodebald**\n",
    "9. **Gondioque**\n",
    "10. **Aminah**"
   ]
  },
  {
   "cell_type": "markdown",
   "id": "ace7ed91",
   "metadata": {},
   "source": [
    "#### Unaligned word vector comparison"
   ]
  },
  {
   "cell_type": "markdown",
   "id": "354ffc89",
   "metadata": {},
   "source": [
    "When we try to get similar entries across unaligned word embeddings, we see that they are definitely not aligned. In this case, we take the word vector for _athair_ from the Irish word embeddings and find the most similar word vectors to it in the Scottish Gaelic word embeddings, and vice versa. Notice that we no longer see the related terms like 'mother' or 'step/grandfather'"
   ]
  },
  {
   "cell_type": "code",
   "execution_count": 14,
   "id": "fb6e1c1f",
   "metadata": {},
   "outputs": [
    {
     "data": {
      "text/plain": [
       "[('Spartan', 0.21923038),\n",
       " ('Albion', 0.21457234),\n",
       " ('Tartan', 0.20621169),\n",
       " ('bheanntan', 0.20374598),\n",
       " ('1,902km', 0.20359457),\n",
       " ('Bishop', 0.20356673),\n",
       " ('star', 0.20177013),\n",
       " ('agree', 0.2008923),\n",
       " ('tartan', 0.19916904),\n",
       " ('Là-bàis', 0.19887699)]"
      ]
     },
     "execution_count": 14,
     "metadata": {},
     "output_type": "execute_result"
    }
   ],
   "source": [
    "gd_original.most_similar(ga_original.query(\"athair\"), topn=10)"
   ]
  },
  {
   "cell_type": "markdown",
   "id": "8dce0f8d",
   "metadata": {},
   "source": [
    "Top 10:\n",
    "1. **Spartan**\n",
    "2. **Albion**\n",
    "3. **Tartan**\n",
    "4. **mountains**\n",
    "5. **1902km**\n",
    "6. **Bishop**\n",
    "7. **star**\n",
    "8. **agree**\n",
    "9. **tartan**\n",
    "10. **day of death**"
   ]
  },
  {
   "cell_type": "code",
   "execution_count": 15,
   "id": "f8f9ae4f",
   "metadata": {},
   "outputs": [
    {
     "data": {
      "text/plain": [
       "[('dheoin', 0.29285294),\n",
       " ('dímhorfach', 0.27654022),\n",
       " ('ró-shona', 0.26213565),\n",
       " ('fhéinscrúdú', 0.2587552),\n",
       " ('roicéad', 0.25809878),\n",
       " ('tascanna', 0.25144416),\n",
       " ('fútsa', 0.2504164),\n",
       " ('ndáríre', 0.24929008),\n",
       " ('mhionscrúdú', 0.24743652),\n",
       " ('oireas', 0.24653216)]"
      ]
     },
     "execution_count": 15,
     "metadata": {},
     "output_type": "execute_result"
    }
   ],
   "source": [
    "ga_original.most_similar(gd_original.query(\"athair\"), topn=10)"
   ]
  },
  {
   "cell_type": "markdown",
   "id": "bf92b841",
   "metadata": {},
   "source": [
    "Top 10:\n",
    "1. **voluntarily**\n",
    "2. **degenerate**\n",
    "3. **too happy**\n",
    "4. **self-examination**\n",
    "5. **rocket**\n",
    "6. **tasks**\n",
    "7. **about you**\n",
    "8. **in fact**\n",
    "9. **scrutiny**\n",
    "10. **time** (?)"
   ]
  },
  {
   "cell_type": "markdown",
   "id": "cdbe50f1",
   "metadata": {},
   "source": [
    "#### Aligned word vector comparison"
   ]
  },
  {
   "cell_type": "markdown",
   "id": "be8be272",
   "metadata": {},
   "source": [
    "However, when we do the same procedure using the aligned word embeddings, we once again see the familiar, similar terms. This is good evidence that, at least in some cases, the word embedding alignment was successful."
   ]
  },
  {
   "cell_type": "code",
   "execution_count": 16,
   "id": "849bb82f",
   "metadata": {
    "scrolled": true
   },
   "outputs": [
    {
     "data": {
      "text/plain": [
       "[('athair', 0.575439),\n",
       " ('mhathair', 0.4998223),\n",
       " ('h-athair', 0.49022955),\n",
       " ('mathair', 0.47973418),\n",
       " ('phiuthair', 0.4791753),\n",
       " ('àrd-athair', 0.47690833),\n",
       " ('leas-athair', 0.47433442),\n",
       " ('mic-bhràthair', 0.47367144),\n",
       " ('Bràthair', 0.47073084),\n",
       " ('Bhràthair', 0.4641339)]"
      ]
     },
     "execution_count": 16,
     "metadata": {},
     "output_type": "execute_result"
    }
   ],
   "source": [
    "gd_aligned.most_similar(ga_aligned.query(\"athair\"), topn=10)"
   ]
  },
  {
   "cell_type": "markdown",
   "id": "f9c2d010",
   "metadata": {},
   "source": [
    "Top 10:\n",
    "1. father\n",
    "2. mother\n",
    "3. her father\n",
    "4. mother\n",
    "5. sister\n",
    "6. stepfather\n",
    "7. stepfather\n",
    "8. nephews\n",
    "9. brother\n",
    "10. brother"
   ]
  },
  {
   "cell_type": "code",
   "execution_count": 17,
   "id": "4457cac4",
   "metadata": {},
   "outputs": [
    {
     "data": {
      "text/plain": [
       "[('athair', 0.575439),\n",
       " ('h-athair', 0.44955707),\n",
       " ('máthair', 0.44419354),\n",
       " ('mhathair', 0.44060296),\n",
       " ('shin-seanathair', 0.42478544),\n",
       " ('seanathair', 0.41890094),\n",
       " ('sheanathair', 0.41703337),\n",
       " ('Ardathair', 0.4120913),\n",
       " ('shean-athair', 0.40566164),\n",
       " ('n-athair', 0.4001657)]"
      ]
     },
     "execution_count": 17,
     "metadata": {},
     "output_type": "execute_result"
    }
   ],
   "source": [
    "ga_aligned.most_similar(gd_aligned.query(\"athair\"), topn=10)"
   ]
  },
  {
   "cell_type": "markdown",
   "id": "5548bb3b",
   "metadata": {},
   "source": [
    "Top 10:\n",
    "1. father\n",
    "2. father\n",
    "3. mother\n",
    "4. mother\n",
    "5. great-grandfather\n",
    "6. grandfather\n",
    "7. grandfather\n",
    "8. grandfather\n",
    "9. grandfather\n",
    "10. their father"
   ]
  },
  {
   "cell_type": "markdown",
   "id": "b2965aeb",
   "metadata": {},
   "source": [
    "In order to continue, how many other examples should I consider? The alignment appears to work for _athair_ 'father', but it may break down elsewhere. What else should I try in order to be reasonably confident in these results?"
   ]
  },
  {
   "cell_type": "markdown",
   "id": "4a532ebb",
   "metadata": {},
   "source": [
    "### Different surface forms *tìdsear*--*múinteoir* 'teacher'"
   ]
  },
  {
   "cell_type": "markdown",
   "id": "b1fa3aae",
   "metadata": {},
   "source": [
    "##### Original word vectors"
   ]
  },
  {
   "cell_type": "code",
   "execution_count": 18,
   "id": "d7b2804f",
   "metadata": {},
   "outputs": [
    {
     "data": {
      "text/plain": [
       "[('thìdsear', 0.7221449),\n",
       " ('bùidsear', 0.70341194),\n",
       " ('poidsear', 0.6913197),\n",
       " ('Mhàidsear', 0.6801137),\n",
       " ('Fleidsear', 0.67649484),\n",
       " ('Boildsear', 0.6738622),\n",
       " ('tìdsear-piana', 0.6710552),\n",
       " ('tidsear', 0.66696274),\n",
       " ('Màidsear', 0.6398938),\n",
       " ('ghàidsear', 0.6365607)]"
      ]
     },
     "execution_count": 18,
     "metadata": {},
     "output_type": "execute_result"
    }
   ],
   "source": [
    "gd_original.most_similar(\"tìdsear\", topn=10)"
   ]
  },
  {
   "cell_type": "markdown",
   "id": "6cfe14db",
   "metadata": {},
   "source": [
    "Top 10:\n",
    "1. teacher\n",
    "2. butcher\n",
    "3. poacher (?)\n",
    "4. Major\n",
    "5. **Fleidsear** (name? Aonghas Fleidsear)\n",
    "6. **Boildsear** (SG name in The Hobbit for Fredegar Bolger)\n",
    "7. piano teacher\n",
    "8. teacher\n",
    "9. Major\n",
    "10. gauger/exciseman/catcher"
   ]
  },
  {
   "cell_type": "code",
   "execution_count": 19,
   "id": "6d719ff3",
   "metadata": {},
   "outputs": [
    {
     "data": {
      "text/plain": [
       "[('Múinteoir', 0.66677696),\n",
       " ('bunmhúinteoir', 0.61109895),\n",
       " ('Iarmhúinteoir', 0.59405947),\n",
       " ('Mhúinteoir', 0.57933664),\n",
       " ('scoth-mhúinteoir', 0.57555544),\n",
       " ('muinteoir', 0.5748805),\n",
       " ('mhúinteoir', 0.5688859),\n",
       " ('Iar-mhúinteoir', 0.556272),\n",
       " ('iarmhúinteoir', 0.54384166),\n",
       " ('Fuinteoir', 0.5346435)]"
      ]
     },
     "execution_count": 19,
     "metadata": {},
     "output_type": "execute_result"
    }
   ],
   "source": [
    "ga_original.most_similar(\"múinteoir\", topn=10)"
   ]
  },
  {
   "cell_type": "markdown",
   "id": "a0f275f2",
   "metadata": {},
   "source": [
    "Top 10:\n",
    "1. teacher\n",
    "2. primary teacher\n",
    "3. former teacher\n",
    "4. teacher\n",
    "5. excellent teacher\n",
    "6. teacher\n",
    "7. teacher\n",
    "8. former teacher\n",
    "9. former teacher\n",
    "10. teacher (misspelled?)"
   ]
  },
  {
   "cell_type": "markdown",
   "id": "63593399",
   "metadata": {},
   "source": [
    "#### Unaligned word vector comparison"
   ]
  },
  {
   "cell_type": "code",
   "execution_count": 20,
   "id": "13e62f55",
   "metadata": {},
   "outputs": [
    {
     "data": {
      "text/plain": [
       "[('Ounceland', 0.1916768),\n",
       " ('Stòr', 0.18859445),\n",
       " ('fhag', 0.1851612),\n",
       " ('fo-bhailtean', 0.18509023),\n",
       " ('rèabhailtean', 0.18382232),\n",
       " ('iom-bailtean', 0.18359554),\n",
       " ('tàmailtean', 0.18334988),\n",
       " ('recycle', 0.18286756),\n",
       " ('Nollaig', 0.18228635),\n",
       " ('iomall-bhailtean', 0.18077886)]"
      ]
     },
     "execution_count": 20,
     "metadata": {},
     "output_type": "execute_result"
    }
   ],
   "source": [
    "gd_original.most_similar(ga_original.query(\"múinteoir\"), topn=10)"
   ]
  },
  {
   "cell_type": "markdown",
   "id": "955d27bc",
   "metadata": {},
   "source": [
    "Top 10:\n",
    "1. **Ounceland** (traditional Scottish land measurement)\n",
    "2. **source**\n",
    "3. **leave**\n",
    "4. **suburbs**\n",
    "5. **revolutions**\n",
    "6. **suburbs**\n",
    "7. **insults**\n",
    "8. **recycle**\n",
    "9. **Christmas**\n",
    "10. **suburbs**"
   ]
  },
  {
   "cell_type": "code",
   "execution_count": 21,
   "id": "a58f5ddc",
   "metadata": {},
   "outputs": [
    {
     "data": {
      "text/plain": [
       "[('Vanhanen', 0.25243953),\n",
       " ('Moane', 0.2466792),\n",
       " ('Goody', 0.24587086),\n",
       " ('Nord-Sud', 0.24368005),\n",
       " ('Mattraw', 0.2426495),\n",
       " ('Daydream', 0.2421751),\n",
       " ('Lynn', 0.24175812),\n",
       " ('Ghoebbels', 0.24150711),\n",
       " ('gnáthocsaigine', 0.23977983),\n",
       " ('Hinchcliffw', 0.23965335)]"
      ]
     },
     "execution_count": 21,
     "metadata": {},
     "output_type": "execute_result"
    }
   ],
   "source": [
    "ga_original.most_similar(gd_original.query(\"tìdsear\"), topn=10)"
   ]
  },
  {
   "cell_type": "markdown",
   "id": "bcde1d0d",
   "metadata": {},
   "source": [
    "Top 10:\n",
    "1. **Vanhanen**\n",
    "2. **Moane**\n",
    "3. **Goody**\n",
    "4. **Nord-Sud**\n",
    "5. **Mattraw**\n",
    "6. **Daydream**\n",
    "7. **Lynn**\n",
    "8. **Goebbels**\n",
    "9. **normal oxygen**\n",
    "10. **Hinchcliffw**"
   ]
  },
  {
   "cell_type": "markdown",
   "id": "8c1f435a",
   "metadata": {},
   "source": [
    "##### Aligned word vector comparison"
   ]
  },
  {
   "cell_type": "code",
   "execution_count": 22,
   "id": "f9ddf0dd",
   "metadata": {},
   "outputs": [
    {
     "data": {
      "text/plain": [
       "[('fear-teagaisg', 0.53558624),\n",
       " ('Neach-teagaisg-dannsa', 0.4949063),\n",
       " ('fhear-teagaisg', 0.4791184),\n",
       " ('neach-teagaisg', 0.47808105),\n",
       " ('Neach-teagaisg', 0.47394735),\n",
       " ('clàr-teagaisg', 0.46540892),\n",
       " ('bhocsair', 0.4291808),\n",
       " ('Theagaisg', 0.41435152),\n",
       " ('treòraiche-ciùil', 0.409761),\n",
       " ('Luchd-teagaisg', 0.408665)]"
      ]
     },
     "execution_count": 22,
     "metadata": {},
     "output_type": "execute_result"
    }
   ],
   "source": [
    "gd_aligned.most_similar(ga_aligned.query(\"múinteoir\"), topn=10)"
   ]
  },
  {
   "cell_type": "markdown",
   "id": "6dd57619",
   "metadata": {},
   "source": [
    "Top 10:\n",
    "1. teacher\n",
    "2. dance teacher\n",
    "3. teacher\n",
    "4. teacher\n",
    "5. teacher\n",
    "6. curriculum\n",
    "7. boxer\n",
    "8. teaching\n",
    "9. music guide\n",
    "10. teachers"
   ]
  },
  {
   "cell_type": "code",
   "execution_count": 23,
   "id": "8885e326",
   "metadata": {},
   "outputs": [
    {
     "data": {
      "text/plain": [
       "[('Yehudi', 0.43762973),\n",
       " ('phianódóir', 0.43374342),\n",
       " ('Lorenzini', 0.4251451),\n",
       " ('Debastien', 0.41626137),\n",
       " ('Comala', 0.41439307),\n",
       " ('Tereza', 0.40945715),\n",
       " ('Bonifacio', 0.40215826),\n",
       " ('Pianódóir', 0.40194356),\n",
       " ('Bonifacia', 0.39925823),\n",
       " ('Strozzi', 0.3992504)]"
      ]
     },
     "execution_count": 23,
     "metadata": {},
     "output_type": "execute_result"
    }
   ],
   "source": [
    "ga_aligned.most_similar(gd_aligned.query(\"tìdsear\"), topn=10)"
   ]
  },
  {
   "cell_type": "markdown",
   "id": "fd377d44",
   "metadata": {},
   "source": [
    "Top 10:\n",
    "1. **Yehudi**\n",
    "2. pianist\n",
    "3. **Lorenzini**\n",
    "4. **Debastien**\n",
    "5. **Comala**\n",
    "6. **Tereza**\n",
    "7. **Bonifacio**\n",
    "8. pianist\n",
    "9. **Bonafacia**\n",
    "10. **Strozzi**"
   ]
  },
  {
   "cell_type": "code",
   "execution_count": 45,
   "id": "34b59501",
   "metadata": {},
   "outputs": [],
   "source": [
    "# gd_original2 = Magnitude(\"gd-ga-en-vecs/gd-en/vectors-gd.magnitude\")\n",
    "# gd_aligned2 = Magnitude(\"gd-ga-en-vecs/gd-en/vectors-gd-aligned.magnitude\")\n",
    "# en_original = Magnitude(\"gd-ga-en-vecs/gd-en/vectors-en.magnitude\")\n",
    "# en_aligned = Magnitude(\"gd-ga-en-vecs/gd-en/vectors-en-aligned.magnitude\")"
   ]
  },
  {
   "cell_type": "code",
   "execution_count": null,
   "id": "2809bfd5",
   "metadata": {},
   "outputs": [],
   "source": [
    "# gd_original2.most_similar(\"athair\", topn=10)"
   ]
  },
  {
   "cell_type": "code",
   "execution_count": null,
   "id": "dfb45a0a",
   "metadata": {},
   "outputs": [],
   "source": [
    "# en_original.most_similar(\"father\", topn=10)"
   ]
  },
  {
   "cell_type": "code",
   "execution_count": null,
   "id": "c4b9638b",
   "metadata": {},
   "outputs": [],
   "source": [
    "# gd_original2.most_similar(en_original.query(\"father\"), topn=10)"
   ]
  },
  {
   "cell_type": "code",
   "execution_count": null,
   "id": "b8cf65a4",
   "metadata": {},
   "outputs": [],
   "source": [
    "# en_original.most_similar(gd_original2.query(\"athair\"), topn=10)"
   ]
  },
  {
   "cell_type": "markdown",
   "id": "3394ef22",
   "metadata": {},
   "source": [
    "Using aligned word embeddings"
   ]
  },
  {
   "cell_type": "code",
   "execution_count": null,
   "id": "181b079a",
   "metadata": {},
   "outputs": [],
   "source": [
    "# gd_aligned2.most_similar(en_aligned.query(\"father\"), topn=10)"
   ]
  },
  {
   "cell_type": "code",
   "execution_count": null,
   "id": "c3e4f355",
   "metadata": {},
   "outputs": [],
   "source": [
    "# en_aligned.most_similar(gd_aligned2.query(\"athair\"), topn=10)"
   ]
  },
  {
   "cell_type": "code",
   "execution_count": null,
   "id": "35689bf8",
   "metadata": {},
   "outputs": [],
   "source": [
    "# gd_original2.most_similar(en_original.query(\"cat\"), topn=10)"
   ]
  },
  {
   "cell_type": "code",
   "execution_count": null,
   "id": "3a95cdae",
   "metadata": {},
   "outputs": [],
   "source": [
    "# gd_aligned2.most_similar(en_aligned.query(\"cat\"), topn=10)"
   ]
  },
  {
   "cell_type": "code",
   "execution_count": null,
   "id": "248ed2fd",
   "metadata": {},
   "outputs": [],
   "source": []
  }
 ],
 "metadata": {
  "kernelspec": {
   "display_name": "Python 3 (ipykernel)",
   "language": "python",
   "name": "python3"
  },
  "language_info": {
   "codemirror_mode": {
    "name": "ipython",
    "version": 3
   },
   "file_extension": ".py",
   "mimetype": "text/x-python",
   "name": "python",
   "nbconvert_exporter": "python",
   "pygments_lexer": "ipython3",
   "version": "3.7.4"
  }
 },
 "nbformat": 4,
 "nbformat_minor": 5
}
