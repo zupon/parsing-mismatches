{
 "cells": [
  {
   "cell_type": "code",
   "execution_count": 1,
   "metadata": {},
   "outputs": [],
   "source": [
    "import sys\n",
    "from tqdm import tqdm\n",
    "from collections import Counter\n",
    "import functions as f"
   ]
  },
  {
   "cell_type": "markdown",
   "metadata": {},
   "source": [
    "### Set hyperparameters"
   ]
  },
  {
   "cell_type": "code",
   "execution_count": 2,
   "metadata": {},
   "outputs": [],
   "source": [
    "# Select number of similar words to create new word pairs\n",
    "top_n = 20\n",
    "# threshold = [0.95, 0.9, 0.8, 0.7, 0.6, 0.5, 0.4, 0.3, 0.2, 0.1, 0,0]\n",
    "threshold = 0.0\n",
    "\n",
    "# Select seed for training data (1-3)\n",
    "seed = 1\n",
    "\n",
    "# Select noise method\n",
    "# noise=\"none\"\n",
    "# noise=\"freq\"\n",
    "# noise=\"50_types\"\n",
    "noise=\"50_tokens\""
   ]
  },
  {
   "cell_type": "markdown",
   "metadata": {},
   "source": [
    "### Load corpora"
   ]
  },
  {
   "cell_type": "code",
   "execution_count": 3,
   "metadata": {},
   "outputs": [],
   "source": [
    "# corpus_A, corpus_B = f.load_corpus(language)"
   ]
  },
  {
   "cell_type": "markdown",
   "metadata": {},
   "source": [
    "### Load vectors"
   ]
  },
  {
   "cell_type": "code",
   "execution_count": 4,
   "metadata": {},
   "outputs": [],
   "source": [
    "vectors_dir = \"./gd-ga-en-vecs/\"\n",
    "vectors_gd = vectors_dir+\"src=gd_tgt=ga/vectors-gd-aligned-w-ga.magnitude\"\n",
    "vectors_ga = vectors_dir+\"src=gd_tgt=ga/vectors-ga-aligned-w-gd.magnitude\""
   ]
  },
  {
   "cell_type": "markdown",
   "metadata": {},
   "source": [
    "### Get word-word-relation triples for each corpus"
   ]
  },
  {
   "cell_type": "code",
   "execution_count": 5,
   "metadata": {},
   "outputs": [],
   "source": [
    "# Train Data\n",
    "# corpus_gd = \"train_data/gd/gd_noise=\"+str(noise)+\"-ud-train.conllu\"\n",
    "# corpus_ga = \"train_data/ga/ga_noise=none-ud-train.conllu\"\n",
    "# corpus_en = \"train_data/en/en_noise=none-ud-train.conllu\"\n",
    "\n",
    "# Dev Data\n",
    "corpus_gd = \"dev_data/gd/gd_noise=\"+str(noise)+\"-ud-dev.conllu\"\n",
    "corpus_ga = \"dev_data/ga/ga_noise=none-ud-dev.conllu\""
   ]
  },
  {
   "cell_type": "code",
   "execution_count": 6,
   "metadata": {},
   "outputs": [
    {
     "name": "stdout",
     "output_type": "stream",
     "text": [
      "646 sentences processed\n",
      "10,409 tokens processed\n",
      "Average sentence length:\t16.113003095975234\n",
      "7,410 head-dependent:relation pairs\n",
      "9,110 head-dependent-relation:sentence triples\n"
     ]
    }
   ],
   "source": [
    "list_gd, sentences_gd = f.process_training_data(corpus_gd)"
   ]
  },
  {
   "cell_type": "code",
   "execution_count": 7,
   "metadata": {},
   "outputs": [
    {
     "name": "stdout",
     "output_type": "stream",
     "text": [
      "451 sentences processed\n",
      "10,000 tokens processed\n",
      "Average sentence length:\t22.172949002217294\n",
      "8,685 head-dependent:relation pairs\n",
      "8,760 head-dependent-relation:sentence triples\n"
     ]
    }
   ],
   "source": [
    "list_ga, sentences_ga = f.process_training_data(corpus_ga)"
   ]
  },
  {
   "cell_type": "code",
   "execution_count": 8,
   "metadata": {},
   "outputs": [],
   "source": [
    "# output_A = language+\"_A_mismatches\"+\".tsv\"\n",
    "# output_B = language+\"_B_mismatches\"+\".tsv\"\n",
    "# get list for corpus A data\n",
    "# list_A, sentences_A = f.process_ud_data(corpus_A, num_sents_A)\n",
    "# get list for corpus B data\n",
    "# need to keep process_wsj_data for now for English data\n",
    "# list_B, sentences_B = f.process_wsj_data(corpus_B, num_sents_B)\n",
    "# list_B, sentences_B = f.process_ud_data(corpus_B, num_sents_B)"
   ]
  },
  {
   "cell_type": "markdown",
   "metadata": {},
   "source": [
    "### Load text dictionaries"
   ]
  },
  {
   "cell_type": "code",
   "execution_count": 9,
   "metadata": {},
   "outputs": [],
   "source": [
    "gd2ga_dict = \"gd2ga_dict.txt\"\n",
    "# # gd2en = \"\"\n",
    "# gd2ga_dict = {}\n",
    "# with open(gd2ga) as f:\n",
    "#     dictionary = f.readlines()\n",
    "# for item in dictionary:\n",
    "#     item = item.strip().lower().split(\"\\t\")\n",
    "#     if item[0] in gd2ga_dict:\n",
    "#         gd2ga_dict[item[0]].append(item[1])\n",
    "#     else:\n",
    "#         gd2ga_dict[item[0]] = [item[1]]"
   ]
  },
  {
   "cell_type": "code",
   "execution_count": 10,
   "metadata": {},
   "outputs": [],
   "source": [
    "# print(gd2ga_dict)"
   ]
  },
  {
   "cell_type": "markdown",
   "metadata": {},
   "source": [
    "### Create Converted Files"
   ]
  },
  {
   "cell_type": "markdown",
   "metadata": {},
   "source": [
    "#### Dictionary"
   ]
  },
  {
   "cell_type": "code",
   "execution_count": 11,
   "metadata": {
    "scrolled": true
   },
   "outputs": [
    {
     "name": "stderr",
     "output_type": "stream",
     "text": [
      "100%|█████████████████████████████████████████████████████████████████████████████████████████████| 7410/7410 [00:00<00:00, 9553.05it/s]"
     ]
    },
    {
     "name": "stdout",
     "output_type": "stream",
     "text": [
      "Original word pairs:\t7410\n",
      "New word pairs:\t101\n"
     ]
    },
    {
     "name": "stderr",
     "output_type": "stream",
     "text": [
      "\n"
     ]
    }
   ],
   "source": [
    "conversion_gd = f.get_conversions_bilingual_dict(sentences_gd,\n",
    "                                                 list_gd, list_ga,\n",
    "                                                 gd2ga_dict)"
   ]
  },
  {
   "cell_type": "code",
   "execution_count": 12,
   "metadata": {},
   "outputs": [
    {
     "data": {
      "text/plain": [
       "'dev_data/gd/gd_noise=50_toke_conversion=dict-ud-dev.conllu'"
      ]
     },
     "execution_count": 12,
     "metadata": {},
     "output_type": "execute_result"
    }
   ],
   "source": [
    "converted_corpus_gd = corpus_gd[:-16]+\"_conversion=dict-ud-dev.conllu\"\n",
    "converted_corpus_gd"
   ]
  },
  {
   "cell_type": "code",
   "execution_count": 13,
   "metadata": {},
   "outputs": [
    {
     "name": "stdout",
     "output_type": "stream",
     "text": [
      "Total word pairs:\t7410\n",
      "Word pairs w/ other relations in Irish:\t94\n"
     ]
    }
   ],
   "source": [
    "i = 0\n",
    "j = len(conversion_gd)\n",
    "for item in conversion_gd:\n",
    "    if len(list(conversion_gd[item])) != 0:\n",
    "#         print(item, conversion_gd[item])\n",
    "        i += 1\n",
    "\n",
    "print(f\"Total word pairs:\\t{j}\")\n",
    "print(f\"Word pairs w/ other relations in Irish:\\t{i}\")"
   ]
  },
  {
   "cell_type": "code",
   "execution_count": 14,
   "metadata": {},
   "outputs": [
    {
     "name": "stderr",
     "output_type": "stream",
     "text": [
      "100%|██████████████████████████████████████████████████████████████████████████████████████████████| 646/646 [00:00<00:00, 11195.49it/s]"
     ]
    },
    {
     "name": "stdout",
     "output_type": "stream",
     "text": [
      "Total lines:\t10409\n",
      "Number of lines changed:\t148\n"
     ]
    },
    {
     "name": "stderr",
     "output_type": "stream",
     "text": [
      "\n"
     ]
    }
   ],
   "source": [
    "(total_lines, changed) = f.apply_conversions_bilingual(corpus_gd, converted_corpus_gd, conversion_gd)"
   ]
  },
  {
   "cell_type": "code",
   "execution_count": 15,
   "metadata": {},
   "outputs": [
    {
     "name": "stdout",
     "output_type": "stream",
     "text": [
      "Total lines:\t10409\n",
      "Lines changed:\t148\n"
     ]
    }
   ],
   "source": [
    "print(f\"Total lines:\\t{total_lines}\")\n",
    "print(f\"Lines changed:\\t{changed}\")"
   ]
  },
  {
   "cell_type": "markdown",
   "metadata": {},
   "source": [
    "#### Vectors"
   ]
  },
  {
   "cell_type": "code",
   "execution_count": 16,
   "metadata": {},
   "outputs": [
    {
     "name": "stderr",
     "output_type": "stream",
     "text": [
      "100%|███████████████████████████████████████████████████████████████████████████████████████████████| 7410/7410 [24:49<00:00,  4.97it/s]"
     ]
    },
    {
     "name": "stdout",
     "output_type": "stream",
     "text": [
      "Original word pairs:\t7410\n",
      "New word pairs:\t1003\n"
     ]
    },
    {
     "name": "stderr",
     "output_type": "stream",
     "text": [
      "\n"
     ]
    }
   ],
   "source": [
    "conversion_gd = f.get_conversions_bilingual_vectors(sentences_gd,\n",
    "                                                    list_gd, list_ga,\n",
    "                                                    vectors_gd, vectors_ga)"
   ]
  },
  {
   "cell_type": "code",
   "execution_count": 17,
   "metadata": {},
   "outputs": [
    {
     "data": {
      "text/plain": [
       "'dev_data/gd/gd_noise=50_toke_conversion=vectors-ud-dev.conllu'"
      ]
     },
     "execution_count": 17,
     "metadata": {},
     "output_type": "execute_result"
    }
   ],
   "source": [
    "converted_corpus_gd = corpus_gd[:-16]+\"_conversion=vectors-ud-dev.conllu\"\n",
    "converted_corpus_gd"
   ]
  },
  {
   "cell_type": "code",
   "execution_count": 18,
   "metadata": {},
   "outputs": [
    {
     "name": "stdout",
     "output_type": "stream",
     "text": [
      "Total word pairs:\t7410\n",
      "Word pairs w/ other relations in Irish:\t491\n"
     ]
    }
   ],
   "source": [
    "i = 0\n",
    "j = len(conversion_gd)\n",
    "for item in conversion_gd:\n",
    "    if len(list(conversion_gd[item])) != 0:\n",
    "#         print(item, conversion_gd[item])\n",
    "        i += 1\n",
    "\n",
    "print(f\"Total word pairs:\\t{j}\")\n",
    "print(f\"Word pairs w/ other relations in Irish:\\t{i}\")"
   ]
  },
  {
   "cell_type": "code",
   "execution_count": 19,
   "metadata": {},
   "outputs": [
    {
     "name": "stderr",
     "output_type": "stream",
     "text": [
      "100%|███████████████████████████████████████████████████████████████████████████████████████████████| 646/646 [00:00<00:00, 8119.82it/s]"
     ]
    },
    {
     "name": "stdout",
     "output_type": "stream",
     "text": [
      "Total lines:\t10409\n",
      "Number of lines changed:\t989\n"
     ]
    },
    {
     "name": "stderr",
     "output_type": "stream",
     "text": [
      "\n"
     ]
    }
   ],
   "source": [
    "(total_lines, changed) = f.apply_conversions_bilingual(corpus_gd, converted_corpus_gd, conversion_gd)"
   ]
  },
  {
   "cell_type": "code",
   "execution_count": 20,
   "metadata": {},
   "outputs": [
    {
     "name": "stdout",
     "output_type": "stream",
     "text": [
      "Total lines:\t10409\n",
      "Lines changed:\t989\n"
     ]
    }
   ],
   "source": [
    "print(f\"Total lines:\\t{total_lines}\")\n",
    "print(f\"Lines changed:\\t{changed}\")"
   ]
  },
  {
   "cell_type": "markdown",
   "metadata": {},
   "source": [
    "#### Dictionary + Vectors"
   ]
  },
  {
   "cell_type": "code",
   "execution_count": 21,
   "metadata": {},
   "outputs": [
    {
     "name": "stderr",
     "output_type": "stream",
     "text": [
      "100%|███████████████████████████████████████████████████████████████████████████████████████████████| 7410/7410 [02:50<00:00, 43.49it/s]"
     ]
    },
    {
     "name": "stdout",
     "output_type": "stream",
     "text": [
      "Original word pairs:\t7410\n",
      "New word pairs:\t779\n"
     ]
    },
    {
     "name": "stderr",
     "output_type": "stream",
     "text": [
      "\n"
     ]
    }
   ],
   "source": [
    "conversion_gd = f.get_conversions_bilingual_dict_vectors(sentences_gd,\n",
    "                                                         list_gd, list_ga,\n",
    "                                                         vectors_gd, vectors_ga,\n",
    "                                                         gd2ga_dict)"
   ]
  },
  {
   "cell_type": "code",
   "execution_count": 22,
   "metadata": {},
   "outputs": [
    {
     "data": {
      "text/plain": [
       "'dev_data/gd/gd_noise=50_toke_conversion=dict+vectors-ud-dev.conllu'"
      ]
     },
     "execution_count": 22,
     "metadata": {},
     "output_type": "execute_result"
    }
   ],
   "source": [
    "converted_corpus_gd = corpus_gd[:-16]+\"_conversion=dict+vectors-ud-dev.conllu\"\n",
    "converted_corpus_gd"
   ]
  },
  {
   "cell_type": "code",
   "execution_count": 23,
   "metadata": {},
   "outputs": [
    {
     "name": "stdout",
     "output_type": "stream",
     "text": [
      "Total word pairs:\t7410\n",
      "Word pairs w/ other relations in Irish:\t317\n"
     ]
    }
   ],
   "source": [
    "i = 0\n",
    "j = len(conversion_gd)\n",
    "for item in conversion_gd:\n",
    "    if len(list(conversion_gd[item])) != 0:\n",
    "#         print(item, conversion_gd[item])\n",
    "        i += 1\n",
    "\n",
    "print(f\"Total word pairs:\\t{j}\")\n",
    "print(f\"Word pairs w/ other relations in Irish:\\t{i}\")"
   ]
  },
  {
   "cell_type": "code",
   "execution_count": 24,
   "metadata": {},
   "outputs": [
    {
     "name": "stderr",
     "output_type": "stream",
     "text": [
      "100%|███████████████████████████████████████████████████████████████████████████████████████████████| 646/646 [00:00<00:00, 9978.94it/s]"
     ]
    },
    {
     "name": "stdout",
     "output_type": "stream",
     "text": [
      "Total lines:\t10409\n",
      "Number of lines changed:\t580\n"
     ]
    },
    {
     "name": "stderr",
     "output_type": "stream",
     "text": [
      "\n"
     ]
    }
   ],
   "source": [
    "(total_lines, changed) = f.apply_conversions_bilingual(corpus_gd, converted_corpus_gd, conversion_gd)"
   ]
  },
  {
   "cell_type": "code",
   "execution_count": 25,
   "metadata": {},
   "outputs": [
    {
     "name": "stdout",
     "output_type": "stream",
     "text": [
      "Total lines:\t10409\n",
      "Lines changed:\t580\n"
     ]
    }
   ],
   "source": [
    "print(f\"Total lines:\\t{total_lines}\")\n",
    "print(f\"Lines changed:\\t{changed}\")"
   ]
  },
  {
   "cell_type": "markdown",
   "metadata": {},
   "source": [
    "#### Vectors + Dictionary"
   ]
  },
  {
   "cell_type": "code",
   "execution_count": 26,
   "metadata": {},
   "outputs": [
    {
     "name": "stderr",
     "output_type": "stream",
     "text": [
      "100%|███████████████████████████████████████████████████████████████████████████████████████████████| 7410/7410 [01:48<00:00, 68.11it/s]"
     ]
    },
    {
     "name": "stdout",
     "output_type": "stream",
     "text": [
      "Original word pairs:\t7410\n",
      "New word pairs:\t31\n"
     ]
    },
    {
     "name": "stderr",
     "output_type": "stream",
     "text": [
      "\n"
     ]
    }
   ],
   "source": [
    "conversion_gd = f.get_conversions_bilingual_vectors_dict(sentences_gd,\n",
    "                                                         list_gd, list_ga,\n",
    "                                                         vectors_gd, vectors_ga,\n",
    "                                                         gd2ga_dict)"
   ]
  },
  {
   "cell_type": "code",
   "execution_count": 27,
   "metadata": {},
   "outputs": [
    {
     "data": {
      "text/plain": [
       "'dev_data/gd/gd_noise=50_toke_conversion=vectors+dict-ud-dev.conllu'"
      ]
     },
     "execution_count": 27,
     "metadata": {},
     "output_type": "execute_result"
    }
   ],
   "source": [
    "converted_corpus_gd = corpus_gd[:-16]+\"_conversion=vectors+dict-ud-dev.conllu\"\n",
    "converted_corpus_gd"
   ]
  },
  {
   "cell_type": "code",
   "execution_count": 28,
   "metadata": {},
   "outputs": [
    {
     "name": "stdout",
     "output_type": "stream",
     "text": [
      "Total word pairs:\t7410\n",
      "Word pairs w/ other relations in Irish:\t31\n"
     ]
    }
   ],
   "source": [
    "i = 0\n",
    "j = len(conversion_gd)\n",
    "for item in conversion_gd:\n",
    "    if len(list(conversion_gd[item])) != 0:\n",
    "#         print(item, conversion_gd[item])\n",
    "        i += 1\n",
    "\n",
    "print(f\"Total word pairs:\\t{j}\")\n",
    "print(f\"Word pairs w/ other relations in Irish:\\t{i}\")"
   ]
  },
  {
   "cell_type": "code",
   "execution_count": 29,
   "metadata": {},
   "outputs": [
    {
     "name": "stderr",
     "output_type": "stream",
     "text": [
      "100%|███████████████████████████████████████████████████████████████████████████████████████████████| 646/646 [00:00<00:00, 9404.30it/s]"
     ]
    },
    {
     "name": "stdout",
     "output_type": "stream",
     "text": [
      "Total lines:\t10409\n",
      "Number of lines changed:\t65\n"
     ]
    },
    {
     "name": "stderr",
     "output_type": "stream",
     "text": [
      "\n"
     ]
    }
   ],
   "source": [
    "(total_lines, changed) = f.apply_conversions_bilingual(corpus_gd, converted_corpus_gd, conversion_gd)"
   ]
  },
  {
   "cell_type": "code",
   "execution_count": 30,
   "metadata": {},
   "outputs": [
    {
     "name": "stdout",
     "output_type": "stream",
     "text": [
      "Total lines:\t10409\n",
      "Lines changed:\t65\n"
     ]
    }
   ],
   "source": [
    "print(f\"Total lines:\\t{total_lines}\")\n",
    "print(f\"Lines changed:\\t{changed}\")"
   ]
  },
  {
   "cell_type": "code",
   "execution_count": 31,
   "metadata": {},
   "outputs": [],
   "source": [
    "# conversion_gd = f.get_conversions_bilingual_vectors_vectors(sentences_gd,\n",
    "#                                                             list_gd, list_ga,\n",
    "#                                                             vectors_gd, vectors_ga)"
   ]
  },
  {
   "cell_type": "code",
   "execution_count": 32,
   "metadata": {},
   "outputs": [],
   "source": [
    "# conversion_gd = f.get_conversions_bilingual(sentences_gd, \n",
    "#                                             list_gd, \n",
    "#                                             list_ga,\n",
    "#                                             vectors_gd,\n",
    "#                                             vectors_ga,\n",
    "#                                             top_n)\n",
    "# converted_corpus_gd = corpus_gd[:-4]+\"_converted_pretrained=\"+vector_type+\".conllu\"\n",
    "# f.apply_conversions(corpus_gd, converted_corpus_gd, conversion_gd)"
   ]
  },
  {
   "cell_type": "markdown",
   "metadata": {},
   "source": [
    "#### Create converted files for corpus A and corpus B"
   ]
  },
  {
   "cell_type": "code",
   "execution_count": 33,
   "metadata": {},
   "outputs": [],
   "source": [
    "# converted_corpus_A_pretrained = corpus_A[:-4]+\"_converted_pretrained=\"+vector_type+\".conllu\"\n",
    "# converted_corpus_B_pretrained = corpus_B[:-4]+\"_converted_pretrained=\"+vector_type+\".conllu\""
   ]
  },
  {
   "cell_type": "code",
   "execution_count": 34,
   "metadata": {},
   "outputs": [],
   "source": [
    "# f.apply_conversions(corpus_A, converted_corpus_A_pretrained, conversion_A_pretrained)\n",
    "# f.apply_conversions(corpus_B, converted_corpus_B_pretrained, conversion_B_pretrained)"
   ]
  },
  {
   "cell_type": "code",
   "execution_count": 35,
   "metadata": {},
   "outputs": [],
   "source": [
    "# conversion_B_BERT = f.get_conversions_pretrained(mismatches_B, \n",
    "#                                                        sentences_B, \n",
    "#                                                        list_B, \n",
    "#                                                        list_A,\n",
    "#                                                        vectors,\n",
    "\n",
    "#                                                        top_n,\n",
    "#                                                        threshold)\n",
    "# converted_corpus_B_BERT = corpus_B[:-4]+\"_converted_BERT.conllu\"\n",
    "# f.apply_conversions(corpus_B, converted_corpus_B_BERT, conversion_B_BERT)"
   ]
  },
  {
   "cell_type": "code",
   "execution_count": null,
   "metadata": {},
   "outputs": [],
   "source": []
  }
 ],
 "metadata": {
  "kernelspec": {
   "display_name": "Python 3 (ipykernel)",
   "language": "python",
   "name": "python3"
  },
  "language_info": {
   "codemirror_mode": {
    "name": "ipython",
    "version": 3
   },
   "file_extension": ".py",
   "mimetype": "text/x-python",
   "name": "python",
   "nbconvert_exporter": "python",
   "pygments_lexer": "ipython3",
   "version": "3.7.4"
  }
 },
 "nbformat": 4,
 "nbformat_minor": 4
}
