{
 "cells": [
  {
   "cell_type": "code",
   "execution_count": 1,
   "metadata": {},
   "outputs": [],
   "source": [
    "import sys\n",
    "from tqdm import tqdm\n",
    "from collections import Counter\n",
    "import functions as f\n",
    "import get_conversions_bilingual_vectors as conv"
   ]
  },
  {
   "cell_type": "markdown",
   "metadata": {},
   "source": [
    "## Do everything in two loops (seeds & noise)"
   ]
  },
  {
   "cell_type": "code",
   "execution_count": 2,
   "metadata": {},
   "outputs": [
    {
     "name": "stdout",
     "output_type": "stream",
     "text": [
      "loading vectors...\n",
      "Generating training data based on noise_type: 20_tokens\n",
      "1,000 sentences processed\n",
      "33,411 tokens processed\n",
      "Average sentence length:\t33.411\n",
      "26,099 head-dependent:relation pairs\n",
      "28,315 head-dependent-relation:sentence triples\n",
      "13,123 sentences processed\n",
      "429,121 tokens processed\n",
      "Average sentence length:\t32.69991617770327\n",
      "239,065 head-dependent:relation pairs\n",
      "243,362 head-dependent-relation:sentence triples\n",
      "\n",
      "DEBUG\tget_conversions_bilingual_vectors\n"
     ]
    },
    {
     "name": "stderr",
     "output_type": "stream",
     "text": [
      "\r",
      "  0%|                                                                                                                | 0/50 [00:00<?, ?it/s]"
     ]
    },
    {
     "name": "stdout",
     "output_type": "stream",
     "text": [
      "\n",
      "============\n",
      "head-dependent pair:\t presidente \t El\n",
      "Top 10 most similar in other vectors to head word 'presidente':\n",
      "[('president', 0.83336437), ('presidentvicepresident', 0.76849467), ('expresident', 0.7594948), ('exvicepresident', 0.7268781), ('copresident', 0.7141023), ('presidentprimer', 0.71225667), ('vicepresident', 0.70283747), ('presiden', 0.7022451), ('president»', 0.6913984), ('president/a', 0.68688977)]\n",
      "Top 10 most similar in other vectors to dependent word'El':\n",
      "[('el', 0.5614175152067451), ('del', 0.5447595998186521), ('aquest', 0.4915420689312296), ('qual', 0.4691566475597281), ('al', 0.4642009210739102), ('mateix', 0.45182395626930316), ('あ行', 0.44513340308974225), ('primer', 0.44479654559507653), ('de', 0.43954461338855033), ('∂ω', 0.4389648642176162)]\n",
      "\n",
      "head_word_replacements:\t10\n",
      "['president', 'presidentvicepresident', 'expresident', 'exvicepresident', 'copresident', 'presidentprimer', 'vicepresident', 'presiden', 'president»', 'president/a']\n",
      "dependent_word_replacements:\t10\n",
      "['el', 'del', 'aquest', 'qual', 'al', 'mateix', 'あ行', 'primer', 'de', '∂ω']\n"
     ]
    },
    {
     "name": "stderr",
     "output_type": "stream",
     "text": [
      "\r",
      "  2%|██                                                                                                      | 1/50 [00:04<04:04,  4.99s/it]"
     ]
    },
    {
     "name": "stdout",
     "output_type": "stream",
     "text": [
      "new pairs:\n",
      "('president', 'el')\n",
      "('president', 'de')\n",
      "('president', 'qual')\n",
      "('vicepresident', 'primer')\n",
      "('vicepresident', 'el')\n",
      "('vicepresident', 'de')\n",
      "new pairs:\t6\n",
      "\n",
      "pair relations:\n",
      "det\n",
      "nmod\n",
      "case\n",
      "new relations:\n",
      "det\n",
      "case\n",
      "obj\n",
      "amod\n",
      "conversion dict value:\n",
      "Counter({'det': 194, 'case': 38, 'amod': 4, 'obj': 2})\n",
      "\n",
      "============\n",
      "head-dependent pair:\t mostró \t presidente\n",
      "Top 10 most similar in other vectors to head word 'mostró':\n",
      "[('mostrava', 0.6166518), ('mostrà', 0.60752213), ('mostrat', 0.56866074), ('mostrar', 0.56508636), ('demostrava', 0.5138662), ('mostraven', 0.5088141), ('expressava', 0.4903102), ('mostraren', 0.48959643), ('mostrés', 0.48722148), ('manifestava', 0.48632312)]\n",
      "Top 10 most similar in other vectors to dependent word'presidente':\n",
      "[('president', 0.83336437), ('presidentvicepresident', 0.76849467), ('expresident', 0.7594948), ('exvicepresident', 0.7268781), ('copresident', 0.7141023), ('presidentprimer', 0.71225667), ('vicepresident', 0.70283747), ('presiden', 0.7022451), ('president»', 0.6913984), ('president/a', 0.68688977)]\n",
      "\n",
      "head_word_replacements:\t10\n",
      "['mostrava', 'mostrà', 'mostrat', 'mostrar', 'demostrava', 'mostraven', 'expressava', 'mostraren', 'mostrés', 'manifestava']\n",
      "dependent_word_replacements:\t10\n",
      "['president', 'presidentvicepresident', 'expresident', 'exvicepresident', 'copresident', 'presidentprimer', 'vicepresident', 'presiden', 'president»', 'president/a']\n"
     ]
    },
    {
     "name": "stderr",
     "output_type": "stream",
     "text": [
      "\r",
      "  4%|████▏                                                                                                   | 2/50 [00:09<03:41,  4.62s/it]"
     ]
    },
    {
     "name": "stdout",
     "output_type": "stream",
     "text": [
      "new pairs:\n",
      "('mostrar', 'president')\n",
      "('mostrat', 'president')\n",
      "new pairs:\t2\n",
      "\n",
      "pair relations:\n",
      "nsubj\n",
      "case\n",
      "new relations:\n",
      "nsubj\n",
      "conversion dict value:\n",
      "Counter({'nsubj': 7})\n",
      "\n",
      "============\n",
      "head-dependent pair:\t órgano \t de\n",
      "Top 10 most similar in other vectors to head word 'órgano':\n",
      "[('òrgan', 0.73299897), ('órgan', 0.5735795), ('orgue', 0.5730078), ('òrgans', 0.5227312), ('organ', 0.5132071), ('orgue,', 0.51073945), ('col·legiat', 0.48884773), ('consultiu', 0.48501033), ('òrgue', 0.4831552), ('orga', 0.4756262)]\n",
      "Top 10 most similar in other vectors to dependent word'de':\n",
      "[('de', 0.74330294), (\"'\", 0.57788193), ('del', 0.55793023), ('d', 0.5549104), ('a', 0.55306077), ('la', 0.5422807), ('i', 0.5241881), (',', 0.5140227), ('x~', 0.5092948), ('l', 0.49390957)]\n",
      "\n",
      "head_word_replacements:\t10\n",
      "['òrgan', 'órgan', 'orgue', 'òrgans', 'organ', 'orgue,', 'col·legiat', 'consultiu', 'òrgue', 'orga']\n",
      "dependent_word_replacements:\t10\n",
      "['de', \"'\", 'del', 'd', 'a', 'la', 'i', ',', 'x~', 'l']\n"
     ]
    },
    {
     "name": "stderr",
     "output_type": "stream",
     "text": [
      "\r",
      "  6%|██████▏                                                                                                 | 3/50 [00:13<03:29,  4.47s/it]"
     ]
    },
    {
     "name": "stdout",
     "output_type": "stream",
     "text": [
      "new pairs:\n",
      "('orgue', 'i')\n",
      "('orgue', ',')\n",
      "('òrgan', \"'\")\n",
      "('òrgan', ',')\n",
      "('òrgan', 'a')\n",
      "('òrgan', 'de')\n",
      "('òrgans', 'i')\n",
      "('òrgans', 'a')\n",
      "('òrgans', 'de')\n",
      "new pairs:\t9\n",
      "\n",
      "pair relations:\n",
      "case\n",
      "new relations:\n",
      "cc\n",
      "punct\n",
      "nmod\n",
      "case\n",
      "conversion dict value:\n",
      "Counter({'case': 7, 'cc': 2, 'punct': 2, 'nmod': 2})\n",
      "\n",
      "============\n",
      "head-dependent pair:\t órgano \t el\n",
      "Top 10 most similar in other vectors to head word 'órgano':\n",
      "[('òrgan', 0.73299897), ('órgan', 0.5735795), ('orgue', 0.5730078), ('òrgans', 0.5227312), ('organ', 0.5132071), ('orgue,', 0.51073945), ('col·legiat', 0.48884773), ('consultiu', 0.48501033), ('òrgue', 0.4831552), ('orga', 0.4756262)]\n",
      "Top 10 most similar in other vectors to dependent word'el':\n",
      "[('el', 0.66387546), ('del', 0.62886745), ('aquest', 0.58512557), ('qual', 0.52690804), ('mateix', 0.51868904), ('al', 0.51843226), ('de', 0.5155387), ('primer', 0.5052873), ('x~', 0.48803133), ('i—', 0.4842274)]\n",
      "\n",
      "head_word_replacements:\t10\n",
      "['òrgan', 'órgan', 'orgue', 'òrgans', 'organ', 'orgue,', 'col·legiat', 'consultiu', 'òrgue', 'orga']\n",
      "dependent_word_replacements:\t10\n",
      "['el', 'del', 'aquest', 'qual', 'mateix', 'al', 'de', 'primer', 'x~', 'i—']\n"
     ]
    },
    {
     "name": "stderr",
     "output_type": "stream",
     "text": [
      "\r",
      "  8%|████████▎                                                                                               | 4/50 [00:17<03:22,  4.40s/it]"
     ]
    },
    {
     "name": "stdout",
     "output_type": "stream",
     "text": [
      "new pairs:\n",
      "('òrgan', 'el')\n",
      "('òrgan', 'aquest')\n",
      "('òrgan', 'de')\n",
      "('òrgans', 'de')\n",
      "new pairs:\t4\n",
      "\n",
      "pair relations:\n",
      "amod\n",
      "new relations:\n",
      "det\n",
      "case\n",
      "conversion dict value:\n",
      "Counter({'det': 3, 'case': 3})\n",
      "\n",
      "============\n",
      "head-dependent pair:\t presidente \t órgano\n",
      "Top 10 most similar in other vectors to head word 'presidente':\n",
      "[('president', 0.83336437), ('presidentvicepresident', 0.76849467), ('expresident', 0.7594948), ('exvicepresident', 0.7268781), ('copresident', 0.7141023), ('presidentprimer', 0.71225667), ('vicepresident', 0.70283747), ('presiden', 0.7022451), ('president»', 0.6913984), ('president/a', 0.68688977)]\n",
      "Top 10 most similar in other vectors to dependent word'órgano':\n",
      "[('òrgan', 0.73299897), ('órgan', 0.5735795), ('orgue', 0.5730078), ('òrgans', 0.5227312), ('organ', 0.5132071), ('orgue,', 0.51073945), ('col·legiat', 0.48884773), ('consultiu', 0.48501033), ('òrgue', 0.4831552), ('orga', 0.4756262)]\n",
      "\n",
      "head_word_replacements:\t10\n",
      "['president', 'presidentvicepresident', 'expresident', 'exvicepresident', 'copresident', 'presidentprimer', 'vicepresident', 'presiden', 'president»', 'president/a']\n",
      "dependent_word_replacements:\t10\n",
      "['òrgan', 'órgan', 'orgue', 'òrgans', 'organ', 'orgue,', 'col·legiat', 'consultiu', 'òrgue', 'orga']\n"
     ]
    },
    {
     "name": "stderr",
     "output_type": "stream",
     "text": [
      "\r",
      " 10%|██████████▍                                                                                             | 5/50 [00:22<03:17,  4.38s/it]"
     ]
    },
    {
     "name": "stdout",
     "output_type": "stream",
     "text": [
      "new pairs:\n",
      "('president', 'òrgan')\n",
      "new pairs:\t1\n",
      "\n",
      "pair relations:\n",
      "nmod\n",
      "new relations:\n",
      "nmod\n",
      "conversion dict value:\n",
      "Counter({'nmod': 1})\n",
      "\n",
      "============\n",
      "head-dependent pair:\t órgano \t regulador\n",
      "Top 10 most similar in other vectors to head word 'órgano':\n",
      "[('òrgan', 0.73299897), ('órgan', 0.5735795), ('orgue', 0.5730078), ('òrgans', 0.5227312), ('organ', 0.5132071), ('orgue,', 0.51073945), ('col·legiat', 0.48884773), ('consultiu', 0.48501033), ('òrgue', 0.4831552), ('orga', 0.4756262)]\n",
      "Top 10 most similar in other vectors to dependent word'regulador':\n",
      "[('regulador', 0.7407437), ('termoregulador', 0.63204086), ('reguladora', 0.62576365), ('reguladors', 0.6075822), ('regulatori', 0.57405853), ('regulació', 0.5685433), ('regulada', 0.56390727), ('reguladores', 0.5441498), ('regulant', 0.5426643), ('regula', 0.53419805)]\n",
      "\n",
      "head_word_replacements:\t10\n",
      "['òrgan', 'órgan', 'orgue', 'òrgans', 'organ', 'orgue,', 'col·legiat', 'consultiu', 'òrgue', 'orga']\n",
      "dependent_word_replacements:\t10\n",
      "['regulador', 'termoregulador', 'reguladora', 'reguladors', 'regulatori', 'regulació', 'regulada', 'reguladores', 'regulant', 'regula']\n"
     ]
    },
    {
     "name": "stderr",
     "output_type": "stream",
     "text": [
      "\r",
      " 12%|████████████▍                                                                                           | 6/50 [00:26<03:12,  4.37s/it]"
     ]
    },
    {
     "name": "stdout",
     "output_type": "stream",
     "text": [
      "new pairs:\n",
      "new pairs:\t0\n",
      "\n",
      "pair relations:\n",
      "amod\n",
      "new relations:\n",
      "conversion dict value:\n",
      "Counter()\n",
      "\n",
      "============\n",
      "head-dependent pair:\t Telecomunicaciones \t de\n",
      "Top 10 most similar in other vectors to head word 'Telecomunicaciones':\n",
      "[('telecomunicacions', 0.7339207881907837), ('telecomunicació', 0.7037301163060234), ('telecomunicaciones', 0.6583552219396706), ('telecomunicación', 0.6248590210168855), ('radiocomunicació', 0.6137039838482153), ('radiocomunicacions', 0.6135511688425631), ('comunicacional', 0.5860639536303377), ('electrocomunicació', 0.5717925952781704), ('communicacions', 0.566811788284638), ('comunicacions', 0.5547589088444935)]\n",
      "Top 10 most similar in other vectors to dependent word'de':\n",
      "[('de', 0.74330294), (\"'\", 0.57788193), ('del', 0.55793023), ('d', 0.5549104), ('a', 0.55306077), ('la', 0.5422807), ('i', 0.5241881), (',', 0.5140227), ('x~', 0.5092948), ('l', 0.49390957)]\n",
      "\n",
      "head_word_replacements:\t10\n",
      "['telecomunicacions', 'telecomunicació', 'telecomunicaciones', 'telecomunicación', 'radiocomunicació', 'radiocomunicacions', 'comunicacional', 'electrocomunicació', 'communicacions', 'comunicacions']\n",
      "dependent_word_replacements:\t10\n",
      "['de', \"'\", 'del', 'd', 'a', 'la', 'i', ',', 'x~', 'l']\n"
     ]
    },
    {
     "name": "stderr",
     "output_type": "stream",
     "text": [
      "\r",
      " 14%|██████████████▌                                                                                         | 7/50 [00:31<03:14,  4.52s/it]"
     ]
    },
    {
     "name": "stdout",
     "output_type": "stream",
     "text": [
      "new pairs:\n",
      "('telecomunicacions', 'i')\n",
      "('telecomunicacions', ',')\n",
      "('telecomunicacions', 'de')\n",
      "('telecomunicació', 'i')\n",
      "('telecomunicació', 'la')\n",
      "('telecomunicació', 'de')\n",
      "('comunicacions', 'i')\n",
      "('comunicacions', ',')\n",
      "('comunicacions', 'a')\n",
      "('comunicacions', 'de')\n",
      "new pairs:\t10\n",
      "\n",
      "pair relations:\n",
      "case\n",
      "new relations:\n",
      "cc\n",
      "punct\n",
      "case\n",
      "det\n",
      "conversion dict value:\n",
      "Counter({'case': 17, 'cc': 7, 'punct': 2, 'det': 1})\n",
      "\n",
      "============\n",
      "head-dependent pair:\t Telecomunicaciones \t las\n",
      "Top 10 most similar in other vectors to head word 'Telecomunicaciones':\n",
      "[('telecomunicacions', 0.7339207881907837), ('telecomunicació', 0.7037301163060234), ('telecomunicaciones', 0.6583552219396706), ('telecomunicación', 0.6248590210168855), ('radiocomunicació', 0.6137039838482153), ('radiocomunicacions', 0.6135511688425631), ('comunicacional', 0.5860639536303377), ('electrocomunicació', 0.5717925952781704), ('communicacions', 0.566811788284638), ('comunicacions', 0.5547589088444935)]\n",
      "Top 10 most similar in other vectors to dependent word'las':\n",
      "[('les', 0.57690024), ('aquestes', 0.48949176), ('estants', 0.4864323), ('els', 0.48307794), ('seves', 0.48121202), ('aquests', 0.47799188), ('fonamentacions', 0.4731453), ('aviàries', 0.46422112), ('lacions', 0.46421632), ('cions', 0.4633788)]\n",
      "\n",
      "head_word_replacements:\t10\n",
      "['telecomunicacions', 'telecomunicació', 'telecomunicaciones', 'telecomunicación', 'radiocomunicació', 'radiocomunicacions', 'comunicacional', 'electrocomunicació', 'communicacions', 'comunicacions']\n",
      "dependent_word_replacements:\t10\n",
      "['les', 'aquestes', 'estants', 'els', 'seves', 'aquests', 'fonamentacions', 'aviàries', 'lacions', 'cions']\n"
     ]
    },
    {
     "name": "stderr",
     "output_type": "stream",
     "text": [
      "\r",
      " 16%|████████████████▋                                                                                       | 8/50 [00:36<03:14,  4.64s/it]"
     ]
    },
    {
     "name": "stdout",
     "output_type": "stream",
     "text": [
      "new pairs:\n",
      "('telecomunicacions', 'les')\n",
      "('comunicacions', 'seves')\n",
      "('comunicacions', 'les')\n",
      "new pairs:\t3\n",
      "\n",
      "pair relations:\n",
      "det\n",
      "case\n",
      "new relations:\n",
      "det\n",
      "conversion dict value:\n",
      "Counter({'det': 9})\n",
      "\n",
      "============\n",
      "head-dependent pair:\t órgano \t Telecomunicaciones\n",
      "Top 10 most similar in other vectors to head word 'órgano':\n",
      "[('òrgan', 0.73299897), ('órgan', 0.5735795), ('orgue', 0.5730078), ('òrgans', 0.5227312), ('organ', 0.5132071), ('orgue,', 0.51073945), ('col·legiat', 0.48884773), ('consultiu', 0.48501033), ('òrgue', 0.4831552), ('orga', 0.4756262)]\n",
      "Top 10 most similar in other vectors to dependent word'Telecomunicaciones':\n",
      "[('telecomunicacions', 0.7339207881907837), ('telecomunicació', 0.7037301163060234), ('telecomunicaciones', 0.6583552219396706), ('telecomunicación', 0.6248590210168855), ('radiocomunicació', 0.6137039838482153), ('radiocomunicacions', 0.6135511688425631), ('comunicacional', 0.5860639536303377), ('electrocomunicació', 0.5717925952781704), ('communicacions', 0.566811788284638), ('comunicacions', 0.5547589088444935)]\n",
      "\n",
      "head_word_replacements:\t10\n",
      "['òrgan', 'órgan', 'orgue', 'òrgans', 'organ', 'orgue,', 'col·legiat', 'consultiu', 'òrgue', 'orga']\n",
      "dependent_word_replacements:\t10\n",
      "['telecomunicacions', 'telecomunicació', 'telecomunicaciones', 'telecomunicación', 'radiocomunicació', 'radiocomunicacions', 'comunicacional', 'electrocomunicació', 'communicacions', 'comunicacions']\n"
     ]
    },
    {
     "name": "stderr",
     "output_type": "stream",
     "text": [
      "\r",
      " 18%|██████████████████▋                                                                                     | 9/50 [00:41<03:17,  4.81s/it]"
     ]
    },
    {
     "name": "stdout",
     "output_type": "stream",
     "text": [
      "new pairs:\n",
      "new pairs:\t0\n",
      "\n",
      "pair relations:\n",
      "nmod\n",
      "new relations:\n",
      "conversion dict value:\n",
      "Counter()\n",
      "\n",
      "============\n",
      "head-dependent pair:\t mostró \t se\n",
      "Top 10 most similar in other vectors to head word 'mostró':\n",
      "[('mostrava', 0.6166518), ('mostrà', 0.60752213), ('mostrat', 0.56866074), ('mostrar', 0.56508636), ('demostrava', 0.5138662), ('mostraven', 0.5088141), ('expressava', 0.4903102), ('mostraren', 0.48959643), ('mostrés', 0.48722148), ('manifestava', 0.48632312)]\n",
      "Top 10 most similar in other vectors to dependent word'se':\n",
      "[('es', 0.5593871), ('aquesta', 0.53742516), ('que', 0.51869464), ('qual', 0.5093684), ('però', 0.50456816), ('quan', 0.50440806), ('aquest', 0.49154183), ('se', 0.4764561), ('què', 0.47527018), ('ja', 0.47333673)]\n",
      "\n",
      "head_word_replacements:\t10\n",
      "['mostrava', 'mostrà', 'mostrat', 'mostrar', 'demostrava', 'mostraven', 'expressava', 'mostraren', 'mostrés', 'manifestava']\n",
      "dependent_word_replacements:\t10\n",
      "['es', 'aquesta', 'que', 'qual', 'però', 'quan', 'aquest', 'se', 'què', 'ja']\n"
     ]
    },
    {
     "name": "stderr",
     "output_type": "stream",
     "text": [
      "\r",
      " 20%|████████████████████▌                                                                                  | 10/50 [00:45<03:05,  4.64s/it]"
     ]
    },
    {
     "name": "stdout",
     "output_type": "stream",
     "text": [
      "new pairs:\n",
      "('mostrava', 'ja')\n",
      "('mostrar', 'se')\n",
      "('mostrar', 'però')\n",
      "('mostrar', 'es')\n",
      "('mostrar', 'que')\n",
      "('manifestava', 'què')\n",
      "('mostrat', 'però')\n",
      "('mostrat', 'ja')\n",
      "('mostrat', 'que')\n",
      "('mostrat', 'qual')\n",
      "new pairs:\t10\n",
      "\n",
      "pair relations:\n",
      "expl:pv\n",
      "new relations:\n",
      "advmod\n",
      "obj\n",
      "cc\n",
      "iobj\n",
      "nsubj\n",
      "mark\n",
      "obl\n",
      "conversion dict value:\n",
      "Counter({'obj': 20, 'nsubj': 5, 'advmod': 2, 'cc': 2, 'iobj': 2, 'mark': 2, 'obl': 2})\n",
      "\n",
      "============\n",
      "head-dependent pair:\t #ROOT# \t mostró\n",
      "Top 10 most similar in other vectors to head word '#ROOT#':\n",
      "[('root', 0.4267186948817), ('loot', 0.4188298445117382), ('dalel', 0.41027684330435354), ('bottle', 0.40950816408063667), ('pushout', 0.40721715903402034), ('nettle', 0.4030998225082655), ('cottle', 0.40306517057316626), ('pusher', 0.40150329852203026), ('rooth', 0.4001701010735887), ('mottle', 0.39105027252526986)]\n",
      "Top 10 most similar in other vectors to dependent word'mostró':\n",
      "[('mostrava', 0.6166518), ('mostrà', 0.60752213), ('mostrat', 0.56866074), ('mostrar', 0.56508636), ('demostrava', 0.5138662), ('mostraven', 0.5088141), ('expressava', 0.4903102), ('mostraren', 0.48959643), ('mostrés', 0.48722148), ('manifestava', 0.48632312)]\n",
      "\n",
      "head_word_replacements:\t10\n",
      "['root', 'loot', 'dalel', 'bottle', 'pushout', 'nettle', 'cottle', 'pusher', 'rooth', 'mottle']\n",
      "dependent_word_replacements:\t10\n",
      "['mostrava', 'mostrà', 'mostrat', 'mostrar', 'demostrava', 'mostraven', 'expressava', 'mostraren', 'mostrés', 'manifestava']\n"
     ]
    },
    {
     "name": "stderr",
     "output_type": "stream",
     "text": [
      "\r",
      " 22%|██████████████████████▋                                                                                | 11/50 [00:50<03:06,  4.79s/it]"
     ]
    },
    {
     "name": "stdout",
     "output_type": "stream",
     "text": [
      "new pairs:\n",
      "new pairs:\t0\n",
      "\n",
      "pair relations:\n",
      "root\n",
      "new relations:\n",
      "conversion dict value:\n",
      "Counter()\n",
      "\n",
      "============\n",
      "head-dependent pair:\t mostró \t partidario\n",
      "Top 10 most similar in other vectors to head word 'mostró':\n",
      "[('mostrava', 0.6166518), ('mostrà', 0.60752213), ('mostrat', 0.56866074), ('mostrar', 0.56508636), ('demostrava', 0.5138662), ('mostraven', 0.5088141), ('expressava', 0.4903102), ('mostraren', 0.48959643), ('mostrés', 0.48722148), ('manifestava', 0.48632312)]\n",
      "Top 10 most similar in other vectors to dependent word'partidario':\n",
      "[('partidari', 0.77052796), ('apartidari', 0.69228023), ('partidaria', 0.6233533), ('transigent', 0.59524083), ('opositor', 0.59194446), ('partidària', 0.59027076), ('intransigent', 0.5770042), ('propugnat', 0.56691265), ('antirepublicà', 0.55584717), ('antirevolucionari', 0.55482244)]\n",
      "\n",
      "head_word_replacements:\t10\n",
      "['mostrava', 'mostrà', 'mostrat', 'mostrar', 'demostrava', 'mostraven', 'expressava', 'mostraren', 'mostrés', 'manifestava']\n",
      "dependent_word_replacements:\t10\n",
      "['partidari', 'apartidari', 'partidaria', 'transigent', 'opositor', 'partidària', 'intransigent', 'propugnat', 'antirepublicà', 'antirevolucionari']\n"
     ]
    },
    {
     "name": "stderr",
     "output_type": "stream",
     "text": [
      "\r",
      " 24%|████████████████████████▋                                                                              | 12/50 [00:55<02:57,  4.67s/it]"
     ]
    },
    {
     "name": "stdout",
     "output_type": "stream",
     "text": [
      "new pairs:\n",
      "('mostrar', 'partidari')\n",
      "('mostrat', 'partidari')\n",
      "new pairs:\t2\n",
      "\n",
      "pair relations:\n",
      "obj\n",
      "new relations:\n",
      "obj\n",
      "conversion dict value:\n",
      "Counter({'obj': 5})\n",
      "\n",
      "============\n",
      "head-dependent pair:\t completar \t de\n",
      "Top 10 most similar in other vectors to head word 'completar':\n",
      "[('completar', 0.7353854), ('#completar', 0.6620714), ('completant', 0.60139287), ('completarà', 0.5918726), ('escriure/actualitzar/completar', 0.56682515), ('completaran', 0.5653466), ('finalitzar', 0.51708925), ('completat', 0.5053604), ('acabar', 0.50337946), ('completaria', 0.49627164)]\n",
      "Top 10 most similar in other vectors to dependent word'de':\n",
      "[('de', 0.74330294), (\"'\", 0.57788193), ('del', 0.55793023), ('d', 0.5549104), ('a', 0.55306077), ('la', 0.5422807), ('i', 0.5241881), (',', 0.5140227), ('x~', 0.5092948), ('l', 0.49390957)]\n",
      "\n",
      "head_word_replacements:\t10\n",
      "['completar', '#completar', 'completant', 'completarà', 'escriure/actualitzar/completar', 'completaran', 'finalitzar', 'completat', 'acabar', 'completaria']\n",
      "dependent_word_replacements:\t10\n",
      "['de', \"'\", 'del', 'd', 'a', 'la', 'i', ',', 'x~', 'l']\n"
     ]
    },
    {
     "name": "stderr",
     "output_type": "stream",
     "text": [
      "\r",
      " 26%|██████████████████████████▊                                                                            | 13/50 [00:59<02:46,  4.50s/it]"
     ]
    },
    {
     "name": "stdout",
     "output_type": "stream",
     "text": [
      "new pairs:\n",
      "('completar', ',')\n",
      "('completar', 'a')\n",
      "('acabar', 'i')\n",
      "('acabar', ',')\n",
      "('acabar', 'a')\n",
      "('finalitzar', ',')\n",
      "('finalitzar', 'de')\n",
      "new pairs:\t7\n",
      "\n",
      "pair relations:\n",
      "mark\n",
      "new relations:\n",
      "punct\n",
      "mark\n",
      "cc\n",
      "advmod\n",
      "conversion dict value:\n",
      "Counter({'punct': 19, 'mark': 8, 'cc': 5, 'advmod': 1})\n",
      "\n",
      "============\n",
      "head-dependent pair:\t partidario \t completar\n",
      "Top 10 most similar in other vectors to head word 'partidario':\n",
      "[('partidari', 0.77052796), ('apartidari', 0.69228023), ('partidaria', 0.6233533), ('transigent', 0.59524083), ('opositor', 0.59194446), ('partidària', 0.59027076), ('intransigent', 0.5770042), ('propugnat', 0.56691265), ('antirepublicà', 0.55584717), ('antirevolucionari', 0.55482244)]\n",
      "Top 10 most similar in other vectors to dependent word'completar':\n",
      "[('completar', 0.7353854), ('#completar', 0.6620714), ('completant', 0.60139287), ('completarà', 0.5918726), ('escriure/actualitzar/completar', 0.56682515), ('completaran', 0.5653466), ('finalitzar', 0.51708925), ('completat', 0.5053604), ('acabar', 0.50337946), ('completaria', 0.49627164)]\n",
      "\n",
      "head_word_replacements:\t10\n",
      "['partidari', 'apartidari', 'partidaria', 'transigent', 'opositor', 'partidària', 'intransigent', 'propugnat', 'antirepublicà', 'antirevolucionari']\n",
      "dependent_word_replacements:\t10\n",
      "['completar', '#completar', 'completant', 'completarà', 'escriure/actualitzar/completar', 'completaran', 'finalitzar', 'completat', 'acabar', 'completaria']\n"
     ]
    },
    {
     "name": "stderr",
     "output_type": "stream",
     "text": [
      "\r",
      " 28%|████████████████████████████▊                                                                          | 14/50 [01:03<02:40,  4.46s/it]"
     ]
    },
    {
     "name": "stdout",
     "output_type": "stream",
     "text": [
      "new pairs:\n",
      "new pairs:\t0\n",
      "\n",
      "pair relations:\n",
      "acl\n",
      "new relations:\n",
      "conversion dict value:\n",
      "Counter()\n",
      "\n",
      "============\n",
      "head-dependent pair:\t liberalización \t esta\n",
      "Top 10 most similar in other vectors to head word 'liberalización':\n",
      "[('liberalització', 0.83493555), ('estatització', 0.7031184), ('privatització', 0.7011248), ('democratització', 0.6952894), ('institucionalització', 0.6919092), ('burocratització', 0.68549395), ('bancarització', 0.6718182), ('nacionalització', 0.6647066), ('federalització', 0.65722775), ('ruralització', 0.653075)]\n",
      "Top 10 most similar in other vectors to dependent word'esta':\n",
      "[('aquesta', 0.76388997), ('qual', 0.6096393), ('precisament', 0.60579264), ('altra', 0.5954594), ('aquest', 0.58218396), ('—aquesta', 0.5744293), ('}}aquesta', 0.5744051), ('mateixa', 0.5715874), ('concreta', 0.5685049), ('ja', 0.56121933)]\n",
      "\n",
      "head_word_replacements:\t10\n",
      "['liberalització', 'estatització', 'privatització', 'democratització', 'institucionalització', 'burocratització', 'bancarització', 'nacionalització', 'federalització', 'ruralització']\n",
      "dependent_word_replacements:\t10\n",
      "['aquesta', 'qual', 'precisament', 'altra', 'aquest', '—aquesta', '}}aquesta', 'mateixa', 'concreta', 'ja']\n"
     ]
    },
    {
     "name": "stderr",
     "output_type": "stream",
     "text": [
      "\r",
      " 30%|██████████████████████████████▉                                                                        | 15/50 [01:08<02:33,  4.40s/it]"
     ]
    },
    {
     "name": "stdout",
     "output_type": "stream",
     "text": [
      "new pairs:\n",
      "new pairs:\t0\n",
      "\n",
      "pair relations:\n",
      "det\n",
      "new relations:\n",
      "conversion dict value:\n",
      "Counter()\n",
      "\n",
      "============\n",
      "head-dependent pair:\t completar \t liberalización\n",
      "Top 10 most similar in other vectors to head word 'completar':\n",
      "[('completar', 0.7353854), ('#completar', 0.6620714), ('completant', 0.60139287), ('completarà', 0.5918726), ('escriure/actualitzar/completar', 0.56682515), ('completaran', 0.5653466), ('finalitzar', 0.51708925), ('completat', 0.5053604), ('acabar', 0.50337946), ('completaria', 0.49627164)]\n",
      "Top 10 most similar in other vectors to dependent word'liberalización':\n",
      "[('liberalització', 0.83493555), ('estatització', 0.7031184), ('privatització', 0.7011248), ('democratització', 0.6952894), ('institucionalització', 0.6919092), ('burocratització', 0.68549395), ('bancarització', 0.6718182), ('nacionalització', 0.6647066), ('federalització', 0.65722775), ('ruralització', 0.653075)]\n",
      "\n",
      "head_word_replacements:\t10\n",
      "['completar', '#completar', 'completant', 'completarà', 'escriure/actualitzar/completar', 'completaran', 'finalitzar', 'completat', 'acabar', 'completaria']\n",
      "dependent_word_replacements:\t10\n",
      "['liberalització', 'estatització', 'privatització', 'democratització', 'institucionalització', 'burocratització', 'bancarització', 'nacionalització', 'federalització', 'ruralització']\n"
     ]
    },
    {
     "name": "stderr",
     "output_type": "stream",
     "text": [
      "\r",
      " 32%|████████████████████████████████▉                                                                      | 16/50 [01:12<02:29,  4.39s/it]"
     ]
    },
    {
     "name": "stdout",
     "output_type": "stream",
     "text": [
      "new pairs:\n",
      "new pairs:\t0\n",
      "\n",
      "pair relations:\n",
      "obj\n",
      "new relations:\n",
      "conversion dict value:\n",
      "Counter()\n",
      "\n",
      "============\n",
      "head-dependent pair:\t telecomunicaciones \t de\n",
      "Top 10 most similar in other vectors to head word 'telecomunicaciones':\n",
      "[('telecomunicacions', 0.81836605), ('telecomunicació', 0.7921549), ('telecomunicaciones', 0.7366557), ('telecomunicación', 0.6981592), ('radiocomunicació', 0.6844809), ('radiocomunicacions', 0.6785231), ('comunicacional', 0.6456834), ('comunicacions', 0.61884373), ('electrocomunicació', 0.60164165), ('communicacions', 0.60073817)]\n",
      "Top 10 most similar in other vectors to dependent word'de':\n",
      "[('de', 0.74330294), (\"'\", 0.57788193), ('del', 0.55793023), ('d', 0.5549104), ('a', 0.55306077), ('la', 0.5422807), ('i', 0.5241881), (',', 0.5140227), ('x~', 0.5092948), ('l', 0.49390957)]\n",
      "\n",
      "head_word_replacements:\t10\n",
      "['telecomunicacions', 'telecomunicació', 'telecomunicaciones', 'telecomunicación', 'radiocomunicació', 'radiocomunicacions', 'comunicacional', 'comunicacions', 'electrocomunicació', 'communicacions']\n",
      "dependent_word_replacements:\t10\n",
      "['de', \"'\", 'del', 'd', 'a', 'la', 'i', ',', 'x~', 'l']\n"
     ]
    },
    {
     "name": "stderr",
     "output_type": "stream",
     "text": [
      "\r",
      " 34%|███████████████████████████████████                                                                    | 17/50 [01:16<02:22,  4.32s/it]"
     ]
    },
    {
     "name": "stdout",
     "output_type": "stream",
     "text": [
      "new pairs:\n",
      "('telecomunicacions', 'i')\n",
      "('telecomunicacions', ',')\n",
      "('telecomunicacions', 'de')\n",
      "('telecomunicació', 'i')\n",
      "('telecomunicació', 'la')\n",
      "('telecomunicació', 'de')\n",
      "('comunicacions', 'i')\n",
      "('comunicacions', ',')\n",
      "('comunicacions', 'a')\n",
      "('comunicacions', 'de')\n",
      "new pairs:\t10\n",
      "\n",
      "pair relations:\n",
      "case\n",
      "amod\n",
      "new relations:\n",
      "cc\n",
      "punct\n",
      "case\n",
      "det\n",
      "conversion dict value:\n",
      "Counter({'case': 17, 'cc': 7, 'punct': 2, 'det': 1})\n",
      "\n",
      "============\n",
      "head-dependent pair:\t telecomunicaciones \t las\n",
      "Top 10 most similar in other vectors to head word 'telecomunicaciones':\n",
      "[('telecomunicacions', 0.81836605), ('telecomunicació', 0.7921549), ('telecomunicaciones', 0.7366557), ('telecomunicación', 0.6981592), ('radiocomunicació', 0.6844809), ('radiocomunicacions', 0.6785231), ('comunicacional', 0.6456834), ('comunicacions', 0.61884373), ('electrocomunicació', 0.60164165), ('communicacions', 0.60073817)]\n",
      "Top 10 most similar in other vectors to dependent word'las':\n",
      "[('les', 0.57690024), ('aquestes', 0.48949176), ('estants', 0.4864323), ('els', 0.48307794), ('seves', 0.48121202), ('aquests', 0.47799188), ('fonamentacions', 0.4731453), ('aviàries', 0.46422112), ('lacions', 0.46421632), ('cions', 0.4633788)]\n",
      "\n",
      "head_word_replacements:\t10\n",
      "['telecomunicacions', 'telecomunicació', 'telecomunicaciones', 'telecomunicación', 'radiocomunicació', 'radiocomunicacions', 'comunicacional', 'comunicacions', 'electrocomunicació', 'communicacions']\n",
      "dependent_word_replacements:\t10\n",
      "['les', 'aquestes', 'estants', 'els', 'seves', 'aquests', 'fonamentacions', 'aviàries', 'lacions', 'cions']\n"
     ]
    },
    {
     "name": "stderr",
     "output_type": "stream",
     "text": [
      "\r",
      " 36%|█████████████████████████████████████                                                                  | 18/50 [01:20<02:16,  4.27s/it]"
     ]
    },
    {
     "name": "stdout",
     "output_type": "stream",
     "text": [
      "new pairs:\n",
      "('telecomunicacions', 'les')\n",
      "('comunicacions', 'seves')\n",
      "('comunicacions', 'les')\n",
      "new pairs:\t3\n",
      "\n",
      "pair relations:\n",
      "nummod\n",
      "det\n",
      "new relations:\n",
      "det\n",
      "conversion dict value:\n",
      "Counter({'det': 9})\n",
      "\n",
      "============\n",
      "head-dependent pair:\t liberalización \t telecomunicaciones\n",
      "Top 10 most similar in other vectors to head word 'liberalización':\n",
      "[('liberalització', 0.83493555), ('estatització', 0.7031184), ('privatització', 0.7011248), ('democratització', 0.6952894), ('institucionalització', 0.6919092), ('burocratització', 0.68549395), ('bancarització', 0.6718182), ('nacionalització', 0.6647066), ('federalització', 0.65722775), ('ruralització', 0.653075)]\n",
      "Top 10 most similar in other vectors to dependent word'telecomunicaciones':\n",
      "[('telecomunicacions', 0.81836605), ('telecomunicació', 0.7921549), ('telecomunicaciones', 0.7366557), ('telecomunicación', 0.6981592), ('radiocomunicació', 0.6844809), ('radiocomunicacions', 0.6785231), ('comunicacional', 0.6456834), ('comunicacions', 0.61884373), ('electrocomunicació', 0.60164165), ('communicacions', 0.60073817)]\n",
      "\n",
      "head_word_replacements:\t10\n",
      "['liberalització', 'estatització', 'privatització', 'democratització', 'institucionalització', 'burocratització', 'bancarització', 'nacionalització', 'federalització', 'ruralització']\n",
      "dependent_word_replacements:\t10\n",
      "['telecomunicacions', 'telecomunicació', 'telecomunicaciones', 'telecomunicación', 'radiocomunicació', 'radiocomunicacions', 'comunicacional', 'comunicacions', 'electrocomunicació', 'communicacions']\n"
     ]
    },
    {
     "name": "stderr",
     "output_type": "stream",
     "text": [
      "\r",
      " 38%|███████████████████████████████████████▏                                                               | 19/50 [01:25<02:12,  4.28s/it]"
     ]
    },
    {
     "name": "stdout",
     "output_type": "stream",
     "text": [
      "new pairs:\n",
      "('liberalització', 'telecomunicacions')\n",
      "new pairs:\t1\n",
      "\n",
      "pair relations:\n",
      "nmod\n",
      "new relations:\n",
      "nmod\n",
      "conversion dict value:\n",
      "Counter({'nmod': 1})\n",
      "\n",
      "============\n",
      "head-dependent pair:\t medidas \t con\n",
      "Top 10 most similar in other vectors to head word 'medidas':\n",
      "[('mesures', 0.7843344), ('#mesures', 0.679863), ('proteccions', 0.5538439), ('mesurem', 0.53801167), ('recomanacions', 0.52614886), ('resolucions', 0.5240412), ('contramesures', 0.52271456), ('preventives', 0.5198057), ('toleràncies', 0.5185776), ('mesure', 0.5157394)]\n",
      "Top 10 most similar in other vectors to dependent word'con':\n",
      "[('amb', 0.72742337), ('compartint', 0.4799688), ('i', 0.46633428), ('així', 0.4640686), ('amb un', 0.45634174), ('altre', 0.45586067), ('mateix', 0.45522654), ('qual', 0.44584337), ('comptant', 0.44497988), ('tenint', 0.44300783)]\n",
      "\n",
      "head_word_replacements:\t10\n",
      "['mesures', '#mesures', 'proteccions', 'mesurem', 'recomanacions', 'resolucions', 'contramesures', 'preventives', 'toleràncies', 'mesure']\n",
      "dependent_word_replacements:\t10\n",
      "['amb', 'compartint', 'i', 'així', 'amb un', 'altre', 'mateix', 'qual', 'comptant', 'tenint']\n"
     ]
    },
    {
     "name": "stderr",
     "output_type": "stream",
     "text": [
      "\r",
      " 40%|█████████████████████████████████████████▏                                                             | 20/50 [01:29<02:09,  4.32s/it]"
     ]
    },
    {
     "name": "stdout",
     "output_type": "stream",
     "text": [
      "new pairs:\n",
      "('mesures', 'amb')\n",
      "new pairs:\t1\n",
      "\n",
      "pair relations:\n",
      "case\n",
      "new relations:\n",
      "case\n",
      "conversion dict value:\n",
      "Counter({'case': 1})\n",
      "\n",
      "============\n",
      "head-dependent pair:\t medidas \t otras\n",
      "Top 10 most similar in other vectors to head word 'medidas':\n",
      "[('mesures', 0.7843344), ('#mesures', 0.679863), ('proteccions', 0.5538439), ('mesurem', 0.53801167), ('recomanacions', 0.52614886), ('resolucions', 0.5240412), ('contramesures', 0.52271456), ('preventives', 0.5198057), ('toleràncies', 0.5185776), ('mesure', 0.5157394)]\n",
      "Top 10 most similar in other vectors to dependent word'otras':\n",
      "[('algunes', 0.55438817), ('moltes', 0.539552), ('elles', 0.52391124), ('altres', 0.51738155), ('diverses', 0.51191646), ('—algunes', 0.47744504), ('—altres', 0.47726578), ('les', 0.46580037), ('aquestes', 0.46215832), ('diferents', 0.459394)]\n",
      "\n",
      "head_word_replacements:\t10\n",
      "['mesures', '#mesures', 'proteccions', 'mesurem', 'recomanacions', 'resolucions', 'contramesures', 'preventives', 'toleràncies', 'mesure']\n",
      "dependent_word_replacements:\t10\n",
      "['algunes', 'moltes', 'elles', 'altres', 'diverses', '—algunes', '—altres', 'les', 'aquestes', 'diferents']\n"
     ]
    },
    {
     "name": "stderr",
     "output_type": "stream",
     "text": [
      "\r",
      " 42%|███████████████████████████████████████████▎                                                           | 21/50 [01:33<02:04,  4.29s/it]"
     ]
    },
    {
     "name": "stdout",
     "output_type": "stream",
     "text": [
      "new pairs:\n",
      "('mesures', 'diverses')\n",
      "('mesures', 'altres')\n",
      "('mesures', 'les')\n",
      "('mesures', 'aquestes')\n",
      "('resolucions', 'diverses')\n",
      "('recomanacions', 'les')\n",
      "new pairs:\t6\n",
      "\n",
      "pair relations:\n",
      "det\n",
      "new relations:\n",
      "det\n",
      "conversion dict value:\n",
      "Counter({'det': 50})\n",
      "\n",
      "============\n",
      "head-dependent pair:\t completar \t medidas\n",
      "Top 10 most similar in other vectors to head word 'completar':\n",
      "[('completar', 0.7353854), ('#completar', 0.6620714), ('completant', 0.60139287), ('completarà', 0.5918726), ('escriure/actualitzar/completar', 0.56682515), ('completaran', 0.5653466), ('finalitzar', 0.51708925), ('completat', 0.5053604), ('acabar', 0.50337946), ('completaria', 0.49627164)]\n",
      "Top 10 most similar in other vectors to dependent word'medidas':\n",
      "[('mesures', 0.7843344), ('#mesures', 0.679863), ('proteccions', 0.5538439), ('mesurem', 0.53801167), ('recomanacions', 0.52614886), ('resolucions', 0.5240412), ('contramesures', 0.52271456), ('preventives', 0.5198057), ('toleràncies', 0.5185776), ('mesure', 0.5157394)]\n",
      "\n",
      "head_word_replacements:\t10\n",
      "['completar', '#completar', 'completant', 'completarà', 'escriure/actualitzar/completar', 'completaran', 'finalitzar', 'completat', 'acabar', 'completaria']\n",
      "dependent_word_replacements:\t10\n",
      "['mesures', '#mesures', 'proteccions', 'mesurem', 'recomanacions', 'resolucions', 'contramesures', 'preventives', 'toleràncies', 'mesure']\n"
     ]
    },
    {
     "name": "stderr",
     "output_type": "stream",
     "text": [
      "\r",
      " 44%|█████████████████████████████████████████████▎                                                         | 22/50 [01:38<02:01,  4.32s/it]"
     ]
    },
    {
     "name": "stdout",
     "output_type": "stream",
     "text": [
      "new pairs:\n",
      "new pairs:\t0\n",
      "\n",
      "pair relations:\n",
      "det\n",
      "new relations:\n",
      "conversion dict value:\n",
      "Counter()\n",
      "\n",
      "============\n",
      "head-dependent pair:\t incentiven \t que\n",
      "Top 10 most similar in other vectors to head word 'incentiven':\n",
      "[('incentiven', 0.65700537), ('incentivar', 0.6366647), ('incentivades', 0.621042), ('incentivació', 0.61964595), ('incentiva', 0.619195), ('incentives', 0.6151159), ('incentivant', 0.60637283), ('incentivà', 0.6053264), ('incentiu', 0.58780986), ('incentivada', 0.58493066)]\n",
      "Top 10 most similar in other vectors to dependent word'que':\n",
      "[('que', 0.7339536), ('ja', 0.6920104), ('perquè', 0.6761713), ('això', 0.64199054), ('aquest', 0.6312045), ('qual', 0.6289538), ('però', 0.62871194), ('realment', 0.6165755), ('doncs', 0.6147189), ('aquesta', 0.61471176)]\n",
      "\n",
      "head_word_replacements:\t10\n",
      "['incentiven', 'incentivar', 'incentivades', 'incentivació', 'incentiva', 'incentives', 'incentivant', 'incentivà', 'incentiu', 'incentivada']\n",
      "dependent_word_replacements:\t10\n",
      "['que', 'ja', 'perquè', 'això', 'aquest', 'qual', 'però', 'realment', 'doncs', 'aquesta']\n"
     ]
    },
    {
     "name": "stderr",
     "output_type": "stream",
     "text": [
      "\r",
      " 46%|███████████████████████████████████████████████▍                                                       | 23/50 [01:42<01:57,  4.35s/it]"
     ]
    },
    {
     "name": "stdout",
     "output_type": "stream",
     "text": [
      "new pairs:\n",
      "new pairs:\t0\n",
      "\n",
      "pair relations:\n",
      "nsubj\n",
      "new relations:\n",
      "conversion dict value:\n",
      "Counter()\n",
      "\n",
      "============\n",
      "head-dependent pair:\t medidas \t incentiven\n",
      "Top 10 most similar in other vectors to head word 'medidas':\n",
      "[('mesures', 0.7843344), ('#mesures', 0.679863), ('proteccions', 0.5538439), ('mesurem', 0.53801167), ('recomanacions', 0.52614886), ('resolucions', 0.5240412), ('contramesures', 0.52271456), ('preventives', 0.5198057), ('toleràncies', 0.5185776), ('mesure', 0.5157394)]\n",
      "Top 10 most similar in other vectors to dependent word'incentiven':\n",
      "[('incentiven', 0.65700537), ('incentivar', 0.6366647), ('incentivades', 0.621042), ('incentivació', 0.61964595), ('incentiva', 0.619195), ('incentives', 0.6151159), ('incentivant', 0.60637283), ('incentivà', 0.6053264), ('incentiu', 0.58780986), ('incentivada', 0.58493066)]\n",
      "\n",
      "head_word_replacements:\t10\n",
      "['mesures', '#mesures', 'proteccions', 'mesurem', 'recomanacions', 'resolucions', 'contramesures', 'preventives', 'toleràncies', 'mesure']\n",
      "dependent_word_replacements:\t10\n",
      "['incentiven', 'incentivar', 'incentivades', 'incentivació', 'incentiva', 'incentives', 'incentivant', 'incentivà', 'incentiu', 'incentivada']\n"
     ]
    },
    {
     "name": "stderr",
     "output_type": "stream",
     "text": [
      "\r",
      " 48%|█████████████████████████████████████████████████▍                                                     | 24/50 [01:46<01:52,  4.33s/it]"
     ]
    },
    {
     "name": "stdout",
     "output_type": "stream",
     "text": [
      "new pairs:\n",
      "new pairs:\t0\n",
      "\n",
      "pair relations:\n",
      "acl\n",
      "new relations:\n",
      "conversion dict value:\n",
      "Counter()\n",
      "\n",
      "============\n",
      "head-dependent pair:\t competencia \t la\n",
      "Top 10 most similar in other vectors to head word 'competencia':\n",
      "[('competència', 0.6729742), ('competitiva', 0.56915987), ('competitivitat', 0.56023264), ('competió', 0.55149424), ('competa', 0.54471993), ('competitivament', 0.54036164), ('compet', 0.5383154), ('competitiu', 0.53084826), ('concursal', 0.5146544), ('concursa', 0.511065)]\n",
      "Top 10 most similar in other vectors to dependent word'la':\n",
      "[('la', 0.7238208), ('aquesta', 0.66121995), ('qual', 0.6001394), ('l', 0.5950333), ('seva', 0.575773), ('de', 0.5750422), ('a', 0.55924535), (\"'\", 0.5427709), ('altra', 0.537653), ('una', 0.5370233)]\n",
      "\n",
      "head_word_replacements:\t10\n",
      "['competència', 'competitiva', 'competitivitat', 'competió', 'competa', 'competitivament', 'compet', 'competitiu', 'concursal', 'concursa']\n",
      "dependent_word_replacements:\t10\n",
      "['la', 'aquesta', 'qual', 'l', 'seva', 'de', 'a', \"'\", 'altra', 'una']\n"
     ]
    },
    {
     "name": "stderr",
     "output_type": "stream",
     "text": [
      "\r",
      " 50%|███████████████████████████████████████████████████▌                                                   | 25/50 [01:50<01:46,  4.27s/it]"
     ]
    },
    {
     "name": "stdout",
     "output_type": "stream",
     "text": [
      "new pairs:\n",
      "('competència', 'seva')\n",
      "('competència', 'una')\n",
      "('competència', 'a')\n",
      "('competència', 'la')\n",
      "('competència', 'de')\n",
      "('competitivitat', 'la')\n",
      "('competitivitat', 'de')\n",
      "new pairs:\t7\n",
      "\n",
      "pair relations:\n",
      "det\n",
      "new relations:\n",
      "det\n",
      "case\n",
      "conversion dict value:\n",
      "Counter({'det': 20, 'case': 12})\n",
      "\n",
      "============\n",
      "head-dependent pair:\t incentiven \t competencia\n",
      "Top 10 most similar in other vectors to head word 'incentiven':\n",
      "[('incentiven', 0.65700537), ('incentivar', 0.6366647), ('incentivades', 0.621042), ('incentivació', 0.61964595), ('incentiva', 0.619195), ('incentives', 0.6151159), ('incentivant', 0.60637283), ('incentivà', 0.6053264), ('incentiu', 0.58780986), ('incentivada', 0.58493066)]\n",
      "Top 10 most similar in other vectors to dependent word'competencia':\n",
      "[('competència', 0.6729742), ('competitiva', 0.56915987), ('competitivitat', 0.56023264), ('competió', 0.55149424), ('competa', 0.54471993), ('competitivament', 0.54036164), ('compet', 0.5383154), ('competitiu', 0.53084826), ('concursal', 0.5146544), ('concursa', 0.511065)]\n",
      "\n",
      "head_word_replacements:\t10\n",
      "['incentiven', 'incentivar', 'incentivades', 'incentivació', 'incentiva', 'incentives', 'incentivant', 'incentivà', 'incentiu', 'incentivada']\n",
      "dependent_word_replacements:\t10\n",
      "['competència', 'competitiva', 'competitivitat', 'competió', 'competa', 'competitivament', 'compet', 'competitiu', 'concursal', 'concursa']\n"
     ]
    },
    {
     "name": "stderr",
     "output_type": "stream",
     "text": [
      "\r",
      " 52%|█████████████████████████████████████████████████████▌                                                 | 26/50 [01:55<01:42,  4.28s/it]"
     ]
    },
    {
     "name": "stdout",
     "output_type": "stream",
     "text": [
      "new pairs:\n",
      "new pairs:\t0\n",
      "\n",
      "pair relations:\n",
      "obj\n",
      "new relations:\n",
      "conversion dict value:\n",
      "Counter()\n",
      "\n",
      "============\n",
      "head-dependent pair:\t abrir \t como\n",
      "Top 10 most similar in other vectors to head word 'abrir':\n",
      "[('obrir', 0.750409), ('obrira', 0.6439365), ('tancar', 0.6422751), ('obrir/tancar', 0.62847716), ('obriré', 0.60815156), ('obre', 0.5856759), ('obrint', 0.5586349), ('obrim', 0.5526234), ('obriran', 0.5408083), ('obriu', 0.5402242)]\n",
      "Top 10 most similar in other vectors to dependent word'como':\n",
      "[('com', 0.70379966), ('també', 0.6246611), ('tant', 0.5457145), ('ara', 0.5417408), ('així', 0.52198046), ('igualment', 0.52122855), ('ja', 0.4736622), ('ocasionalment', 0.4683017), ('exemple', 0.46357927), (',també', 0.45938772)]\n",
      "\n",
      "head_word_replacements:\t10\n",
      "['obrir', 'obrira', 'tancar', 'obrir/tancar', 'obriré', 'obre', 'obrint', 'obrim', 'obriran', 'obriu']\n",
      "dependent_word_replacements:\t10\n",
      "['com', 'també', 'tant', 'ara', 'així', 'igualment', 'ja', 'ocasionalment', 'exemple', ',també']\n"
     ]
    },
    {
     "name": "stderr",
     "output_type": "stream",
     "text": [
      "\r",
      " 54%|███████████████████████████████████████████████████████▌                                               | 27/50 [01:59<01:38,  4.28s/it]"
     ]
    },
    {
     "name": "stdout",
     "output_type": "stream",
     "text": [
      "new pairs:\n",
      "('obrir', 'ja')\n",
      "('obre', 'així')\n",
      "('tancar', 'també')\n",
      "new pairs:\t3\n",
      "\n",
      "pair relations:\n",
      "mark\n",
      "new relations:\n",
      "advmod\n",
      "conversion dict value:\n",
      "Counter({'advmod': 3})\n",
      "\n",
      "============\n",
      "head-dependent pair:\t como \t puede\n",
      "Top 10 most similar in other vectors to head word 'como':\n",
      "[('com', 0.70379966), ('també', 0.6246611), ('tant', 0.5457145), ('ara', 0.5417408), ('així', 0.52198046), ('igualment', 0.52122855), ('ja', 0.4736622), ('ocasionalment', 0.4683017), ('exemple', 0.46357927), (',també', 0.45938772)]\n",
      "Top 10 most similar in other vectors to dependent word'puede':\n",
      "[('pot', 0.7113652), ('pugui', 0.588613), ('podrà', 0.57087207), ('sigui', 0.5457089), ('necessita', 0.5381712), ('permet', 0.5313156), ('tendeixi', 0.5252514), ('podem', 0.5192039), ('acostuma', 0.5183754), ('tingui', 0.51457536)]\n",
      "\n",
      "head_word_replacements:\t10\n",
      "['com', 'també', 'tant', 'ara', 'així', 'igualment', 'ja', 'ocasionalment', 'exemple', ',també']\n",
      "dependent_word_replacements:\t10\n",
      "['pot', 'pugui', 'podrà', 'sigui', 'necessita', 'permet', 'tendeixi', 'podem', 'acostuma', 'tingui']\n"
     ]
    },
    {
     "name": "stderr",
     "output_type": "stream",
     "text": [
      "\r",
      " 56%|█████████████████████████████████████████████████████████▋                                             | 28/50 [02:03<01:34,  4.29s/it]"
     ]
    },
    {
     "name": "stdout",
     "output_type": "stream",
     "text": [
      "new pairs:\n",
      "('tant', 'pugui')\n",
      "('ja', 'sigui')\n",
      "new pairs:\t2\n",
      "\n",
      "pair relations:\n",
      "fixed\n",
      "new relations:\n",
      "advcl\n",
      "fixed\n",
      "conversion dict value:\n",
      "Counter({'fixed': 7, 'advcl': 3})\n",
      "\n",
      "============\n",
      "head-dependent pair:\t como \t ser\n",
      "Top 10 most similar in other vectors to head word 'como':\n",
      "[('com', 0.70379966), ('també', 0.6246611), ('tant', 0.5457145), ('ara', 0.5417408), ('així', 0.52198046), ('igualment', 0.52122855), ('ja', 0.4736622), ('ocasionalment', 0.4683017), ('exemple', 0.46357927), (',també', 0.45938772)]\n",
      "Top 10 most similar in other vectors to dependent word'ser':\n",
      "[('ser', 0.6814089), ('ésser', 0.58442605), ('considerar', 0.56618357), ('semblar', 0.5452578), ('sigui', 0.5341587), ('ja', 0.53336054), ('necesàriament', 0.5290549), ('però', 0.52814955), ('realment', 0.5256978), ('essent', 0.5204203)]\n",
      "\n",
      "head_word_replacements:\t10\n",
      "['com', 'també', 'tant', 'ara', 'així', 'igualment', 'ja', 'ocasionalment', 'exemple', ',també']\n",
      "dependent_word_replacements:\t10\n",
      "['ser', 'ésser', 'considerar', 'semblar', 'sigui', 'ja', 'necesàriament', 'però', 'realment', 'essent']\n"
     ]
    },
    {
     "name": "stderr",
     "output_type": "stream",
     "text": [
      "\r",
      " 58%|███████████████████████████████████████████████████████████▋                                           | 29/50 [02:08<01:29,  4.28s/it]"
     ]
    },
    {
     "name": "stdout",
     "output_type": "stream",
     "text": [
      "new pairs:\n",
      "('també', 'però')\n",
      "('ara', 'ja')\n",
      "('ja', 'sigui')\n",
      "('així', 'ja')\n",
      "('així', 'ser')\n",
      "('com', 'ser')\n",
      "new pairs:\t6\n",
      "\n",
      "pair relations:\n",
      "fixed\n",
      "new relations:\n",
      "cc\n",
      "mark\n",
      "fixed\n",
      "advmod\n",
      "cop\n",
      "conversion dict value:\n",
      "Counter({'cop': 8, 'fixed': 7, 'cc': 5, 'mark': 1, 'advmod': 1})\n",
      "\n",
      "============\n",
      "head-dependent pair:\t medidas \t abrir\n",
      "Top 10 most similar in other vectors to head word 'medidas':\n",
      "[('mesures', 0.7843344), ('#mesures', 0.679863), ('proteccions', 0.5538439), ('mesurem', 0.53801167), ('recomanacions', 0.52614886), ('resolucions', 0.5240412), ('contramesures', 0.52271456), ('preventives', 0.5198057), ('toleràncies', 0.5185776), ('mesure', 0.5157394)]\n",
      "Top 10 most similar in other vectors to dependent word'abrir':\n",
      "[('obrir', 0.750409), ('obrira', 0.6439365), ('tancar', 0.6422751), ('obrir/tancar', 0.62847716), ('obriré', 0.60815156), ('obre', 0.5856759), ('obrint', 0.5586349), ('obrim', 0.5526234), ('obriran', 0.5408083), ('obriu', 0.5402242)]\n",
      "\n",
      "head_word_replacements:\t10\n",
      "['mesures', '#mesures', 'proteccions', 'mesurem', 'recomanacions', 'resolucions', 'contramesures', 'preventives', 'toleràncies', 'mesure']\n",
      "dependent_word_replacements:\t10\n",
      "['obrir', 'obrira', 'tancar', 'obrir/tancar', 'obriré', 'obre', 'obrint', 'obrim', 'obriran', 'obriu']\n"
     ]
    },
    {
     "name": "stderr",
     "output_type": "stream",
     "text": [
      "\r",
      " 60%|█████████████████████████████████████████████████████████████▊                                         | 30/50 [02:12<01:26,  4.31s/it]"
     ]
    },
    {
     "name": "stdout",
     "output_type": "stream",
     "text": [
      "new pairs:\n",
      "new pairs:\t0\n",
      "\n",
      "pair relations:\n",
      "acl\n",
      "new relations:\n",
      "conversion dict value:\n",
      "Counter()\n",
      "\n",
      "============\n",
      "head-dependent pair:\t acceso \t el\n",
      "Top 10 most similar in other vectors to head word 'acceso':\n",
      "[('accés', 0.7847638), ('entrada', 0.5742043), ('accessibilitat', 0.5724952), ('ccés', 0.56629205), ('accedir', 0.5526934), ('accessos', 0.53378), ('accesibilitat', 0.5300305), ('accedim', 0.52833843), ('accedeixi', 0.51795584), ('accessible', 0.5129564)]\n",
      "Top 10 most similar in other vectors to dependent word'el':\n",
      "[('el', 0.66387546), ('del', 0.62886745), ('aquest', 0.58512557), ('qual', 0.52690804), ('mateix', 0.51868904), ('al', 0.51843226), ('de', 0.5155387), ('primer', 0.5052873), ('x~', 0.48803133), ('i—', 0.4842274)]\n",
      "\n",
      "head_word_replacements:\t10\n",
      "['accés', 'entrada', 'accessibilitat', 'ccés', 'accedir', 'accessos', 'accesibilitat', 'accedim', 'accedeixi', 'accessible']\n",
      "dependent_word_replacements:\t10\n",
      "['el', 'del', 'aquest', 'qual', 'mateix', 'al', 'de', 'primer', 'x~', 'i—']\n"
     ]
    },
    {
     "name": "stderr",
     "output_type": "stream",
     "text": [
      "\r",
      " 62%|███████████████████████████████████████████████████████████████▊                                       | 31/50 [02:16<01:18,  4.13s/it]"
     ]
    },
    {
     "name": "stdout",
     "output_type": "stream",
     "text": [
      "new pairs:\n",
      "('accessos', 'de')\n",
      "('accedir', 'de')\n",
      "('accés', 'el')\n",
      "('accés', 'de')\n",
      "('entrada', 'de')\n",
      "new pairs:\t5\n",
      "\n",
      "pair relations:\n",
      "det\n",
      "new relations:\n",
      "case\n",
      "mark\n",
      "det\n",
      "conversion dict value:\n",
      "Counter({'case': 8, 'det': 2, 'mark': 1})\n",
      "\n",
      "============\n",
      "head-dependent pair:\t abrir \t acceso\n",
      "Top 10 most similar in other vectors to head word 'abrir':\n",
      "[('obrir', 0.750409), ('obrira', 0.6439365), ('tancar', 0.6422751), ('obrir/tancar', 0.62847716), ('obriré', 0.60815156), ('obre', 0.5856759), ('obrint', 0.5586349), ('obrim', 0.5526234), ('obriran', 0.5408083), ('obriu', 0.5402242)]\n",
      "Top 10 most similar in other vectors to dependent word'acceso':\n",
      "[('accés', 0.7847638), ('entrada', 0.5742043), ('accessibilitat', 0.5724952), ('ccés', 0.56629205), ('accedir', 0.5526934), ('accessos', 0.53378), ('accesibilitat', 0.5300305), ('accedim', 0.52833843), ('accedeixi', 0.51795584), ('accessible', 0.5129564)]\n",
      "\n",
      "head_word_replacements:\t10\n",
      "['obrir', 'obrira', 'tancar', 'obrir/tancar', 'obriré', 'obre', 'obrint', 'obrim', 'obriran', 'obriu']\n",
      "dependent_word_replacements:\t10\n",
      "['accés', 'entrada', 'accessibilitat', 'ccés', 'accedir', 'accessos', 'accesibilitat', 'accedim', 'accedeixi', 'accessible']\n"
     ]
    },
    {
     "name": "stderr",
     "output_type": "stream",
     "text": [
      "\r",
      " 64%|█████████████████████████████████████████████████████████████████▉                                     | 32/50 [02:19<01:12,  4.03s/it]"
     ]
    },
    {
     "name": "stdout",
     "output_type": "stream",
     "text": [
      "new pairs:\n",
      "new pairs:\t0\n",
      "\n",
      "pair relations:\n",
      "obj\n",
      "new relations:\n",
      "conversion dict value:\n",
      "Counter()\n",
      "\n",
      "============\n",
      "head-dependent pair:\t información \t a\n",
      "Top 10 most similar in other vectors to head word 'información':\n",
      "[('informació', 0.7124048), ('informació,', 0.65709513), ('informacio', 0.5693282), ('documentació', 0.55438626), ('documentació—', 0.54990244), ('informació}}', 0.54965246), ('informació»', 0.5439695), ('informacions', 0.54374754), ('geoinformació', 0.54224443), ('informacional', 0.53900886)]\n",
      "Top 10 most similar in other vectors to dependent word'a':\n",
      "[('a', 0.5865974), ('aquesta', 0.48589265), ('quan', 0.4850715), ('x~', 0.48257285), ('precisament', 0.47854972), ('i', 0.46922582), ('aquest', 0.4553196), ('veure', 0.44833398), ('qual', 0.44708994), ('ɹ', 0.44417292)]\n",
      "\n",
      "head_word_replacements:\t10\n",
      "['informació', 'informació,', 'informacio', 'documentació', 'documentació—', 'informació}}', 'informació»', 'informacions', 'geoinformació', 'informacional']\n",
      "dependent_word_replacements:\t10\n",
      "['a', 'aquesta', 'quan', 'x~', 'precisament', 'i', 'aquest', 'veure', 'qual', 'ɹ']\n"
     ]
    },
    {
     "name": "stderr",
     "output_type": "stream",
     "text": [
      "\r",
      " 66%|███████████████████████████████████████████████████████████████████▉                                   | 33/50 [02:23<01:06,  3.88s/it]"
     ]
    },
    {
     "name": "stdout",
     "output_type": "stream",
     "text": [
      "new pairs:\n",
      "('informació', 'aquesta')\n",
      "('informació', 'a')\n",
      "('informació', 'i')\n",
      "new pairs:\t3\n",
      "\n",
      "pair relations:\n",
      "case\n",
      "new relations:\n",
      "det\n",
      "case\n",
      "cc\n",
      "conversion dict value:\n",
      "Counter({'case': 7, 'cc': 6, 'det': 3})\n",
      "\n",
      "============\n",
      "head-dependent pair:\t información \t la\n",
      "Top 10 most similar in other vectors to head word 'información':\n",
      "[('informació', 0.7124048), ('informació,', 0.65709513), ('informacio', 0.5693282), ('documentació', 0.55438626), ('documentació—', 0.54990244), ('informació}}', 0.54965246), ('informació»', 0.5439695), ('informacions', 0.54374754), ('geoinformació', 0.54224443), ('informacional', 0.53900886)]\n",
      "Top 10 most similar in other vectors to dependent word'la':\n",
      "[('la', 0.7238208), ('aquesta', 0.66121995), ('qual', 0.6001394), ('l', 0.5950333), ('seva', 0.575773), ('de', 0.5750422), ('a', 0.55924535), (\"'\", 0.5427709), ('altra', 0.537653), ('una', 0.5370233)]\n",
      "\n",
      "head_word_replacements:\t10\n",
      "['informació', 'informació,', 'informacio', 'documentació', 'documentació—', 'informació}}', 'informació»', 'informacions', 'geoinformació', 'informacional']\n",
      "dependent_word_replacements:\t10\n",
      "['la', 'aquesta', 'qual', 'l', 'seva', 'de', 'a', \"'\", 'altra', 'una']\n"
     ]
    },
    {
     "name": "stderr",
     "output_type": "stream",
     "text": [
      "\r",
      " 68%|██████████████████████████████████████████████████████████████████████                                 | 34/50 [02:27<01:00,  3.81s/it]"
     ]
    },
    {
     "name": "stdout",
     "output_type": "stream",
     "text": [
      "new pairs:\n",
      "('informacions', 'de')\n",
      "('informació', \"'\")\n",
      "('informació', 'una')\n",
      "('informació', 'aquesta')\n",
      "('informació', 'a')\n",
      "('informació', 'la')\n",
      "('informació', 'de')\n",
      "('documentació', 'la')\n",
      "('documentació', 'de')\n",
      "new pairs:\t9\n",
      "\n",
      "pair relations:\n",
      "advmod\n",
      "det\n",
      "nmod\n",
      "new relations:\n",
      "case\n",
      "nmod\n",
      "det\n",
      "conj\n",
      "conversion dict value:\n",
      "Counter({'det': 51, 'case': 28, 'nmod': 2, 'conj': 1})\n",
      "\n",
      "============\n",
      "head-dependent pair:\t acceso \t información\n",
      "Top 10 most similar in other vectors to head word 'acceso':\n",
      "[('accés', 0.7847638), ('entrada', 0.5742043), ('accessibilitat', 0.5724952), ('ccés', 0.56629205), ('accedir', 0.5526934), ('accessos', 0.53378), ('accesibilitat', 0.5300305), ('accedim', 0.52833843), ('accedeixi', 0.51795584), ('accessible', 0.5129564)]\n",
      "Top 10 most similar in other vectors to dependent word'información':\n",
      "[('informació', 0.7124048), ('informació,', 0.65709513), ('informacio', 0.5693282), ('documentació', 0.55438626), ('documentació—', 0.54990244), ('informació}}', 0.54965246), ('informació»', 0.5439695), ('informacions', 0.54374754), ('geoinformació', 0.54224443), ('informacional', 0.53900886)]\n",
      "\n",
      "head_word_replacements:\t10\n",
      "['accés', 'entrada', 'accessibilitat', 'ccés', 'accedir', 'accessos', 'accesibilitat', 'accedim', 'accedeixi', 'accessible']\n",
      "dependent_word_replacements:\t10\n",
      "['informació', 'informació,', 'informacio', 'documentació', 'documentació—', 'informació}}', 'informació»', 'informacions', 'geoinformació', 'informacional']\n"
     ]
    },
    {
     "name": "stderr",
     "output_type": "stream",
     "text": [
      "\r",
      " 70%|████████████████████████████████████████████████████████████████████████                               | 35/50 [02:30<00:56,  3.79s/it]"
     ]
    },
    {
     "name": "stdout",
     "output_type": "stream",
     "text": [
      "new pairs:\n",
      "('accedir', 'informació')\n",
      "new pairs:\t1\n",
      "\n",
      "pair relations:\n",
      "nmod\n",
      "new relations:\n",
      "obj\n",
      "conversion dict value:\n",
      "Counter({'obj': 2})\n",
      "\n",
      "============\n",
      "head-dependent pair:\t clientes \t de\n",
      "Top 10 most similar in other vectors to head word 'clientes':\n",
      "[('clients', 0.83978844), ('compradors', 0.68323284), ('client', 0.6595127), ('client/tgs', 0.6374639), ('venedors', 0.6239265), ('proveïdors', 0.6149895), ('prestadors', 0.6053883), ('clientelars', 0.5918485), ('clientes', 0.5879779), ('cliens', 0.5803673)]\n",
      "Top 10 most similar in other vectors to dependent word'de':\n",
      "[('de', 0.74330294), (\"'\", 0.57788193), ('del', 0.55793023), ('d', 0.5549104), ('a', 0.55306077), ('la', 0.5422807), ('i', 0.5241881), (',', 0.5140227), ('x~', 0.5092948), ('l', 0.49390957)]\n",
      "\n",
      "head_word_replacements:\t10\n",
      "['clients', 'compradors', 'client', 'client/tgs', 'venedors', 'proveïdors', 'prestadors', 'clientelars', 'clientes', 'cliens']\n",
      "dependent_word_replacements:\t10\n",
      "['de', \"'\", 'del', 'd', 'a', 'la', 'i', ',', 'x~', 'l']\n"
     ]
    },
    {
     "name": "stderr",
     "output_type": "stream",
     "text": [
      "\r",
      " 72%|██████████████████████████████████████████████████████████████████████████▏                            | 36/50 [02:34<00:52,  3.75s/it]"
     ]
    },
    {
     "name": "stdout",
     "output_type": "stream",
     "text": [
      "new pairs:\n",
      "('client', 'a')\n",
      "('client', 'de')\n",
      "('venedors', ',')\n",
      "('compradors', 'de')\n",
      "('clients', 'i')\n",
      "('clients', 'a')\n",
      "('clients', 'de')\n",
      "new pairs:\t7\n",
      "\n",
      "pair relations:\n",
      "fixed\n",
      "case\n",
      "new relations:\n",
      "case\n",
      "punct\n",
      "cc\n",
      "conversion dict value:\n",
      "Counter({'case': 13, 'punct': 1, 'cc': 1})\n",
      "\n",
      "============\n",
      "head-dependent pair:\t clientes \t los\n",
      "Top 10 most similar in other vectors to head word 'clientes':\n",
      "[('clients', 0.83978844), ('compradors', 0.68323284), ('client', 0.6595127), ('client/tgs', 0.6374639), ('venedors', 0.6239265), ('proveïdors', 0.6149895), ('prestadors', 0.6053883), ('clientelars', 0.5918485), ('clientes', 0.5879779), ('cliens', 0.5803673)]\n",
      "Top 10 most similar in other vectors to dependent word'los':\n",
      "[('els', 0.6711513), ('aquests', 0.61716044), ('##els', 0.5633054), ('dels', 0.549716), ('sobretots', 0.5408505), ('mateixos', 0.53209543), ('ells', 0.5108447), ('als', 0.5018856), ('#els', 0.50023717), ('onerosos', 0.49897563)]\n",
      "\n",
      "head_word_replacements:\t10\n",
      "['clients', 'compradors', 'client', 'client/tgs', 'venedors', 'proveïdors', 'prestadors', 'clientelars', 'clientes', 'cliens']\n",
      "dependent_word_replacements:\t10\n",
      "['els', 'aquests', '##els', 'dels', 'sobretots', 'mateixos', 'ells', 'als', '#els', 'onerosos']\n"
     ]
    },
    {
     "name": "stderr",
     "output_type": "stream",
     "text": [
      "\r",
      " 74%|████████████████████████████████████████████████████████████████████████████▏                          | 37/50 [02:38<00:48,  3.73s/it]"
     ]
    },
    {
     "name": "stdout",
     "output_type": "stream",
     "text": [
      "new pairs:\n",
      "('compradors', 'els')\n",
      "('clients', 'els')\n",
      "('proveïdors', 'els')\n",
      "new pairs:\t3\n",
      "\n",
      "pair relations:\n",
      "det\n",
      "new relations:\n",
      "det\n",
      "conversion dict value:\n",
      "Counter({'det': 17})\n",
      "\n",
      "============\n",
      "head-dependent pair:\t información \t clientes\n",
      "Top 10 most similar in other vectors to head word 'información':\n",
      "[('informació', 0.7124048), ('informació,', 0.65709513), ('informacio', 0.5693282), ('documentació', 0.55438626), ('documentació—', 0.54990244), ('informació}}', 0.54965246), ('informació»', 0.5439695), ('informacions', 0.54374754), ('geoinformació', 0.54224443), ('informacional', 0.53900886)]\n",
      "Top 10 most similar in other vectors to dependent word'clientes':\n",
      "[('clients', 0.83978844), ('compradors', 0.68323284), ('client', 0.6595127), ('client/tgs', 0.6374639), ('venedors', 0.6239265), ('proveïdors', 0.6149895), ('prestadors', 0.6053883), ('clientelars', 0.5918485), ('clientes', 0.5879779), ('cliens', 0.5803673)]\n",
      "\n",
      "head_word_replacements:\t10\n",
      "['informació', 'informació,', 'informacio', 'documentació', 'documentació—', 'informació}}', 'informació»', 'informacions', 'geoinformació', 'informacional']\n",
      "dependent_word_replacements:\t10\n",
      "['clients', 'compradors', 'client', 'client/tgs', 'venedors', 'proveïdors', 'prestadors', 'clientelars', 'clientes', 'cliens']\n"
     ]
    },
    {
     "name": "stderr",
     "output_type": "stream",
     "text": [
      "\r",
      " 76%|██████████████████████████████████████████████████████████████████████████████▎                        | 38/50 [02:41<00:44,  3.70s/it]"
     ]
    },
    {
     "name": "stdout",
     "output_type": "stream",
     "text": [
      "new pairs:\n",
      "new pairs:\t0\n",
      "\n",
      "pair relations:\n",
      "nmod\n",
      "new relations:\n",
      "conversion dict value:\n",
      "Counter()\n",
      "\n",
      "============\n",
      "head-dependent pair:\t Telefónica \t de\n",
      "Top 10 most similar in other vectors to head word 'Telefónica':\n",
      "[('telefònica', 0.6680335804067828), ('telefònicament', 0.6033531490261341), ('telèfon', 0.5630195098995372), ('trucada', 0.5487685633101562), ('videotrucada', 0.5434650677093942), ('videotelèfon', 0.5420494080692895), ('telefé', 0.5331136921786233), ('telefónica', 0.5296591840807116), ('telefe', 0.5160182251107461), ('telefoto', 0.5142662690323383)]\n",
      "Top 10 most similar in other vectors to dependent word'de':\n",
      "[('de', 0.74330294), (\"'\", 0.57788193), ('del', 0.55793023), ('d', 0.5549104), ('a', 0.55306077), ('la', 0.5422807), ('i', 0.5241881), (',', 0.5140227), ('x~', 0.5092948), ('l', 0.49390957)]\n",
      "\n",
      "head_word_replacements:\t10\n",
      "['telefònica', 'telefònicament', 'telèfon', 'trucada', 'videotrucada', 'videotelèfon', 'telefé', 'telefónica', 'telefe', 'telefoto']\n",
      "dependent_word_replacements:\t10\n",
      "['de', \"'\", 'del', 'd', 'a', 'la', 'i', ',', 'x~', 'l']\n"
     ]
    },
    {
     "name": "stderr",
     "output_type": "stream",
     "text": [
      "\r",
      " 78%|████████████████████████████████████████████████████████████████████████████████▎                      | 39/50 [02:46<00:42,  3.88s/it]"
     ]
    },
    {
     "name": "stdout",
     "output_type": "stream",
     "text": [
      "new pairs:\n",
      "('telèfon', 'i')\n",
      "('telèfon', ',')\n",
      "('telèfon', 'a')\n",
      "('telèfon', 'de')\n",
      "('trucada', 'la')\n",
      "('trucada', 'de')\n",
      "new pairs:\t6\n",
      "\n",
      "pair relations:\n",
      "case\n",
      "new relations:\n",
      "cc\n",
      "punct\n",
      "case\n",
      "det\n",
      "conversion dict value:\n",
      "Counter({'case': 8, 'punct': 5, 'cc': 2, 'det': 2})\n",
      "\n",
      "============\n",
      "head-dependent pair:\t clientes \t Telefónica\n",
      "Top 10 most similar in other vectors to head word 'clientes':\n",
      "[('clients', 0.83978844), ('compradors', 0.68323284), ('client', 0.6595127), ('client/tgs', 0.6374639), ('venedors', 0.6239265), ('proveïdors', 0.6149895), ('prestadors', 0.6053883), ('clientelars', 0.5918485), ('clientes', 0.5879779), ('cliens', 0.5803673)]\n",
      "Top 10 most similar in other vectors to dependent word'Telefónica':\n",
      "[('telefònica', 0.6680335804067828), ('telefònicament', 0.6033531490261341), ('telèfon', 0.5630195098995372), ('trucada', 0.5487685633101562), ('videotrucada', 0.5434650677093942), ('videotelèfon', 0.5420494080692895), ('telefé', 0.5331136921786233), ('telefónica', 0.5296591840807116), ('telefe', 0.5160182251107461), ('telefoto', 0.5142662690323383)]\n",
      "\n",
      "head_word_replacements:\t10\n",
      "['clients', 'compradors', 'client', 'client/tgs', 'venedors', 'proveïdors', 'prestadors', 'clientelars', 'clientes', 'cliens']\n",
      "dependent_word_replacements:\t10\n",
      "['telefònica', 'telefònicament', 'telèfon', 'trucada', 'videotrucada', 'videotelèfon', 'telefé', 'telefónica', 'telefe', 'telefoto']\n"
     ]
    },
    {
     "name": "stderr",
     "output_type": "stream",
     "text": [
      "\r",
      " 80%|██████████████████████████████████████████████████████████████████████████████████▍                    | 40/50 [02:50<00:40,  4.07s/it]"
     ]
    },
    {
     "name": "stdout",
     "output_type": "stream",
     "text": [
      "new pairs:\n",
      "new pairs:\t0\n",
      "\n",
      "pair relations:\n",
      "mark\n",
      "new relations:\n",
      "conversion dict value:\n",
      "Counter()\n",
      "\n",
      "============\n",
      "head-dependent pair:\t operadores \t a\n",
      "Top 10 most similar in other vectors to head word 'operadores':\n",
      "[('operadors', 0.7812675), ('teleoperadors', 0.67881906), ('operadores', 0.6482042), ('cooperadors', 0.5756985), ('operador', 0.55113685), ('operacionals', 0.5464495), ('generadors', 0.5429789), ('telefònics', 0.5388919), ('iteradors', 0.5361887), ('w_operador', 0.5357794)]\n",
      "Top 10 most similar in other vectors to dependent word'a':\n",
      "[('a', 0.5865974), ('aquesta', 0.48589265), ('quan', 0.4850715), ('x~', 0.48257285), ('precisament', 0.47854972), ('i', 0.46922582), ('aquest', 0.4553196), ('veure', 0.44833398), ('qual', 0.44708994), ('ɹ', 0.44417292)]\n",
      "\n",
      "head_word_replacements:\t10\n",
      "['operadors', 'teleoperadors', 'operadores', 'cooperadors', 'operador', 'operacionals', 'generadors', 'telefònics', 'iteradors', 'w_operador']\n",
      "dependent_word_replacements:\t10\n",
      "['a', 'aquesta', 'quan', 'x~', 'precisament', 'i', 'aquest', 'veure', 'qual', 'ɹ']\n"
     ]
    },
    {
     "name": "stderr",
     "output_type": "stream",
     "text": [
      "\r",
      " 82%|████████████████████████████████████████████████████████████████████████████████████▍                  | 41/50 [02:54<00:35,  3.96s/it]"
     ]
    },
    {
     "name": "stdout",
     "output_type": "stream",
     "text": [
      "new pairs:\n",
      "('operador', 'i')\n",
      "new pairs:\t1\n",
      "\n",
      "pair relations:\n",
      "case\n",
      "nmod\n",
      "new relations:\n",
      "cc\n",
      "conversion dict value:\n",
      "Counter({'cc': 1})\n",
      "\n",
      "============\n",
      "head-dependent pair:\t operadores \t otros\n",
      "Top 10 most similar in other vectors to head word 'operadores':\n",
      "[('operadors', 0.7812675), ('teleoperadors', 0.67881906), ('operadores', 0.6482042), ('cooperadors', 0.5756985), ('operador', 0.55113685), ('operacionals', 0.5464495), ('generadors', 0.5429789), ('telefònics', 0.5388919), ('iteradors', 0.5361887), ('w_operador', 0.5357794)]\n",
      "Top 10 most similar in other vectors to dependent word'otros':\n",
      "[('altres', 0.64116883), ('sobretots', 0.569803), ('diversos', 0.5622288), ('molts', 0.5619622), ('ells', 0.55455947), ('alguns', 0.55439794), ('també', 0.53955793), ('—altres', 0.537204), ('aquests', 0.5317067), ('ara', 0.52132106)]\n",
      "\n",
      "head_word_replacements:\t10\n",
      "['operadors', 'teleoperadors', 'operadores', 'cooperadors', 'operador', 'operacionals', 'generadors', 'telefònics', 'iteradors', 'w_operador']\n",
      "dependent_word_replacements:\t10\n",
      "['altres', 'sobretots', 'diversos', 'molts', 'ells', 'alguns', 'també', '—altres', 'aquests', 'ara']\n"
     ]
    },
    {
     "name": "stderr",
     "output_type": "stream",
     "text": [
      "\r",
      " 84%|██████████████████████████████████████████████████████████████████████████████████████▌                | 42/50 [02:58<00:31,  3.91s/it]"
     ]
    },
    {
     "name": "stdout",
     "output_type": "stream",
     "text": [
      "new pairs:\n",
      "new pairs:\t0\n",
      "\n",
      "pair relations:\n",
      "det\n",
      "conj\n",
      "new relations:\n",
      "conversion dict value:\n",
      "Counter()\n",
      "\n",
      "============\n",
      "head-dependent pair:\t abrir \t operadores\n",
      "Top 10 most similar in other vectors to head word 'abrir':\n",
      "[('obrir', 0.750409), ('obrira', 0.6439365), ('tancar', 0.6422751), ('obrir/tancar', 0.62847716), ('obriré', 0.60815156), ('obre', 0.5856759), ('obrint', 0.5586349), ('obrim', 0.5526234), ('obriran', 0.5408083), ('obriu', 0.5402242)]\n",
      "Top 10 most similar in other vectors to dependent word'operadores':\n",
      "[('operadors', 0.7812675), ('teleoperadors', 0.67881906), ('operadores', 0.6482042), ('cooperadors', 0.5756985), ('operador', 0.55113685), ('operacionals', 0.5464495), ('generadors', 0.5429789), ('telefònics', 0.5388919), ('iteradors', 0.5361887), ('w_operador', 0.5357794)]\n",
      "\n",
      "head_word_replacements:\t10\n",
      "['obrir', 'obrira', 'tancar', 'obrir/tancar', 'obriré', 'obre', 'obrint', 'obrim', 'obriran', 'obriu']\n",
      "dependent_word_replacements:\t10\n",
      "['operadors', 'teleoperadors', 'operadores', 'cooperadors', 'operador', 'operacionals', 'generadors', 'telefònics', 'iteradors', 'w_operador']\n"
     ]
    },
    {
     "name": "stderr",
     "output_type": "stream",
     "text": [
      "\r",
      " 86%|████████████████████████████████████████████████████████████████████████████████████████▌              | 43/50 [03:01<00:26,  3.84s/it]"
     ]
    },
    {
     "name": "stdout",
     "output_type": "stream",
     "text": [
      "new pairs:\n",
      "new pairs:\t0\n",
      "\n",
      "pair relations:\n",
      "obj\n",
      "det\n",
      "punct\n",
      "new relations:\n",
      "conversion dict value:\n",
      "Counter()\n",
      "\n",
      "============\n",
      "head-dependent pair:\t mostró \t .\n",
      "Top 10 most similar in other vectors to head word 'mostró':\n",
      "[('mostrava', 0.6166518), ('mostrà', 0.60752213), ('mostrat', 0.56866074), ('mostrar', 0.56508636), ('demostrava', 0.5138662), ('mostraven', 0.5088141), ('expressava', 0.4903102), ('mostraren', 0.48959643), ('mostrés', 0.48722148), ('manifestava', 0.48632312)]\n",
      "Top 10 most similar in other vectors to dependent word'.':\n",
      "[('.', 0.7868407), (',', 0.5958666), ('a', 0.52985835), ('i', 0.5204216), (')', 0.51117855), ('(', 0.4999926), ('m+m', 0.49587888), ('de', 0.49108642), ('x~', 0.48637253), ('b–', 0.47231996)]\n",
      "\n",
      "head_word_replacements:\t10\n",
      "['mostrava', 'mostrà', 'mostrat', 'mostrar', 'demostrava', 'mostraven', 'expressava', 'mostraren', 'mostrés', 'manifestava']\n",
      "dependent_word_replacements:\t10\n",
      "['.', ',', 'a', 'i', ')', '(', 'm+m', 'de', 'x~', 'b–']\n"
     ]
    },
    {
     "name": "stderr",
     "output_type": "stream",
     "text": [
      "\r",
      " 88%|██████████████████████████████████████████████████████████████████████████████████████████▋            | 44/50 [03:05<00:22,  3.75s/it]"
     ]
    },
    {
     "name": "stdout",
     "output_type": "stream",
     "text": [
      "new pairs:\n",
      "('mostrava', '.')\n",
      "('mostrés', ',')\n",
      "('mostrés', 'i')\n",
      "('mostrar', ',')\n",
      "('mostrar', 'a')\n",
      "('mostrar', '.')\n",
      "('mostrar', 'i')\n",
      "('mostrar', 'de')\n",
      "('mostrat', ',')\n",
      "('mostrat', '.')\n",
      "('mostrat', 'i')\n",
      "new pairs:\t11\n",
      "\n",
      "pair relations:\n",
      "punct\n",
      "new relations:\n",
      "punct\n",
      "cc\n",
      "mark\n",
      "advmod\n",
      "conversion dict value:\n",
      "Counter({'punct': 76, 'mark': 9, 'cc': 6, 'advmod': 1})\n",
      "\n",
      "============\n",
      "head-dependent pair:\t oferta \t Sobre\n",
      "Top 10 most similar in other vectors to head word 'oferta':\n",
      "[('oferta', 0.7495537), ('ofertes', 0.5404173), ('oferiment', 0.53299147), ('oferira', 0.5274901), ('demanda', 0.50175583), ('oferir', 0.5007278), ('oferim', 0.49233752), ('ofertas', 0.48048794), ('oferent', 0.47428387), ('oferisc', 0.47054183)]\n",
      "Top 10 most similar in other vectors to dependent word'Sobre':\n",
      "[('sobre', 0.6598638400032312), ('‘sobre', 0.5534283097624682), ('–sobre', 0.4783523461732667), ('damunt', 0.4181079696015381), ('sostenint', 0.4169892788969512), ('#sobre', 0.4158770635566071), ('recolza', 0.4142359646464793), ('—sobre', 0.40984708485152743), ('sosté', 0.4095567637177882), ('esbiaixada', 0.40017129719642625)]\n",
      "\n",
      "head_word_replacements:\t10\n",
      "['oferta', 'ofertes', 'oferiment', 'oferira', 'demanda', 'oferir', 'oferim', 'ofertas', 'oferent', 'oferisc']\n",
      "dependent_word_replacements:\t10\n",
      "['sobre', '‘sobre', '–sobre', 'damunt', 'sostenint', '#sobre', 'recolza', '—sobre', 'sosté', 'esbiaixada']\n"
     ]
    },
    {
     "name": "stderr",
     "output_type": "stream",
     "text": [
      "\r",
      " 90%|████████████████████████████████████████████████████████████████████████████████████████████▋          | 45/50 [03:09<00:19,  3.90s/it]"
     ]
    },
    {
     "name": "stdout",
     "output_type": "stream",
     "text": [
      "new pairs:\n",
      "('oferta', 'sobre')\n",
      "('demanda', 'sobre')\n",
      "new pairs:\t2\n",
      "\n",
      "pair relations:\n",
      "case\n",
      "new relations:\n",
      "case\n",
      "conversion dict value:\n",
      "Counter({'case': 2})\n",
      "\n",
      "============\n",
      "head-dependent pair:\t oferta \t la\n",
      "Top 10 most similar in other vectors to head word 'oferta':\n",
      "[('oferta', 0.7495537), ('ofertes', 0.5404173), ('oferiment', 0.53299147), ('oferira', 0.5274901), ('demanda', 0.50175583), ('oferir', 0.5007278), ('oferim', 0.49233752), ('ofertas', 0.48048794), ('oferent', 0.47428387), ('oferisc', 0.47054183)]\n",
      "Top 10 most similar in other vectors to dependent word'la':\n",
      "[('la', 0.7238208), ('aquesta', 0.66121995), ('qual', 0.6001394), ('l', 0.5950333), ('seva', 0.575773), ('de', 0.5750422), ('a', 0.55924535), (\"'\", 0.5427709), ('altra', 0.537653), ('una', 0.5370233)]\n",
      "\n",
      "head_word_replacements:\t10\n",
      "['oferta', 'ofertes', 'oferiment', 'oferira', 'demanda', 'oferir', 'oferim', 'ofertas', 'oferent', 'oferisc']\n",
      "dependent_word_replacements:\t10\n",
      "['la', 'aquesta', 'qual', 'l', 'seva', 'de', 'a', \"'\", 'altra', 'una']\n"
     ]
    },
    {
     "name": "stderr",
     "output_type": "stream",
     "text": [
      "\r",
      " 92%|██████████████████████████████████████████████████████████████████████████████████████████████▊        | 46/50 [03:13<00:15,  3.77s/it]"
     ]
    },
    {
     "name": "stdout",
     "output_type": "stream",
     "text": [
      "new pairs:\n",
      "('oferta', 'seva')\n",
      "('oferta', 'una')\n",
      "('oferta', 'aquesta')\n",
      "('oferta', 'a')\n",
      "('oferta', 'la')\n",
      "('oferta', 'de')\n",
      "('ofertes', 'a')\n",
      "('ofertes', 'de')\n",
      "('oferim', \"'\")\n",
      "('oferir', 'a')\n",
      "('oferir', 'la')\n",
      "('oferir', 'de')\n",
      "('oferir', 'qual')\n",
      "('demanda', 'una')\n",
      "('demanda', 'aquesta')\n",
      "('demanda', 'a')\n",
      "('demanda', 'la')\n",
      "('demanda', 'de')\n",
      "new pairs:\t18\n",
      "\n",
      "pair relations:\n",
      "amod\n",
      "det\n",
      "new relations:\n",
      "det\n",
      "case\n",
      "nmod\n",
      "conj\n",
      "mark\n",
      "advmod\n",
      "obj\n",
      "nsubj\n",
      "obl\n",
      "conversion dict value:\n",
      "Counter({'det': 63, 'case': 30, 'mark': 8, 'nmod': 1, 'conj': 1, 'advmod': 1, 'obj': 1, 'nsubj': 1, 'obl': 1})\n",
      "\n",
      "============\n",
      "head-dependent pair:\t dijo \t oferta\n",
      "Top 10 most similar in other vectors to head word 'dijo':\n",
      "[('digué', 0.6285484), ('dient', 0.6253166), ('afirmar', 0.6185749), ('comentar', 0.61487204), ('preguntar', 0.60455185), ('afirmà', 0.6022276), ('preguntat', 0.6018858), ('afirmaria', 0.57378936), ('preguntava', 0.56970024), ('contestar', 0.5590306)]\n",
      "Top 10 most similar in other vectors to dependent word'oferta':\n",
      "[('oferta', 0.7495537), ('ofertes', 0.5404173), ('oferiment', 0.53299147), ('oferira', 0.5274901), ('demanda', 0.50175583), ('oferir', 0.5007278), ('oferim', 0.49233752), ('ofertas', 0.48048794), ('oferent', 0.47428387), ('oferisc', 0.47054183)]\n",
      "\n",
      "head_word_replacements:\t10\n",
      "['digué', 'dient', 'afirmar', 'comentar', 'preguntar', 'afirmà', 'preguntat', 'afirmaria', 'preguntava', 'contestar']\n",
      "dependent_word_replacements:\t10\n",
      "['oferta', 'ofertes', 'oferiment', 'oferira', 'demanda', 'oferir', 'oferim', 'ofertas', 'oferent', 'oferisc']\n"
     ]
    },
    {
     "name": "stderr",
     "output_type": "stream",
     "text": [
      "\r",
      " 94%|████████████████████████████████████████████████████████████████████████████████████████████████▊      | 47/50 [03:16<00:11,  3.77s/it]"
     ]
    },
    {
     "name": "stdout",
     "output_type": "stream",
     "text": [
      "new pairs:\n",
      "new pairs:\t0\n",
      "\n",
      "pair relations:\n",
      "obl\n",
      "new relations:\n",
      "conversion dict value:\n",
      "Counter()\n",
      "\n",
      "============\n",
      "head-dependent pair:\t interconexión \t de\n",
      "Top 10 most similar in other vectors to head word 'interconexión':\n",
      "[('interconnexió', 0.74914557), ('interconnecta', 0.7267012), ('interconnectar', 0.7109319), ('interconnectant', 0.7084331), ('interconnect', 0.6881845), ('interconnectada', 0.6756256), ('interconnectat', 0.67195195), ('interconnecten', 0.6597936), ('interconnexions', 0.655693), ('interconnectades', 0.6479728)]\n",
      "Top 10 most similar in other vectors to dependent word'de':\n",
      "[('de', 0.74330294), (\"'\", 0.57788193), ('del', 0.55793023), ('d', 0.5549104), ('a', 0.55306077), ('la', 0.5422807), ('i', 0.5241881), (',', 0.5140227), ('x~', 0.5092948), ('l', 0.49390957)]\n",
      "\n",
      "head_word_replacements:\t10\n",
      "['interconnexió', 'interconnecta', 'interconnectar', 'interconnectant', 'interconnect', 'interconnectada', 'interconnectat', 'interconnecten', 'interconnexions', 'interconnectades']\n",
      "dependent_word_replacements:\t10\n",
      "['de', \"'\", 'del', 'd', 'a', 'la', 'i', ',', 'x~', 'l']\n"
     ]
    },
    {
     "name": "stderr",
     "output_type": "stream",
     "text": [
      "\r",
      " 96%|██████████████████████████████████████████████████████████████████████████████████████████████████▉    | 48/50 [03:20<00:07,  3.75s/it]"
     ]
    },
    {
     "name": "stdout",
     "output_type": "stream",
     "text": [
      "new pairs:\n",
      "('interconnexió', 'la')\n",
      "new pairs:\t1\n",
      "\n",
      "pair relations:\n",
      "case\n",
      "new relations:\n",
      "det\n",
      "conversion dict value:\n",
      "Counter({'det': 3})\n",
      "\n",
      "============\n",
      "head-dependent pair:\t oferta \t interconexión\n",
      "Top 10 most similar in other vectors to head word 'oferta':\n",
      "[('oferta', 0.7495537), ('ofertes', 0.5404173), ('oferiment', 0.53299147), ('oferira', 0.5274901), ('demanda', 0.50175583), ('oferir', 0.5007278), ('oferim', 0.49233752), ('ofertas', 0.48048794), ('oferent', 0.47428387), ('oferisc', 0.47054183)]\n",
      "Top 10 most similar in other vectors to dependent word'interconexión':\n",
      "[('interconnexió', 0.74914557), ('interconnecta', 0.7267012), ('interconnectar', 0.7109319), ('interconnectant', 0.7084331), ('interconnect', 0.6881845), ('interconnectada', 0.6756256), ('interconnectat', 0.67195195), ('interconnecten', 0.6597936), ('interconnexions', 0.655693), ('interconnectades', 0.6479728)]\n",
      "\n",
      "head_word_replacements:\t10\n",
      "['oferta', 'ofertes', 'oferiment', 'oferira', 'demanda', 'oferir', 'oferim', 'ofertas', 'oferent', 'oferisc']\n",
      "dependent_word_replacements:\t10\n",
      "['interconnexió', 'interconnecta', 'interconnectar', 'interconnectant', 'interconnect', 'interconnectada', 'interconnectat', 'interconnecten', 'interconnexions', 'interconnectades']\n"
     ]
    },
    {
     "name": "stderr",
     "output_type": "stream",
     "text": [
      "\r",
      " 98%|████████████████████████████████████████████████████████████████████████████████████████████████████▉  | 49/50 [03:24<00:03,  3.76s/it]"
     ]
    },
    {
     "name": "stdout",
     "output_type": "stream",
     "text": [
      "new pairs:\n",
      "new pairs:\t0\n",
      "\n",
      "pair relations:\n",
      "nmod\n",
      "new relations:\n",
      "conversion dict value:\n",
      "Counter()\n",
      "\n",
      "============\n",
      "head-dependent pair:\t Telefónica \t con\n",
      "Top 10 most similar in other vectors to head word 'Telefónica':\n",
      "[('telefònica', 0.6680335804067828), ('telefònicament', 0.6033531490261341), ('telèfon', 0.5630195098995372), ('trucada', 0.5487685633101562), ('videotrucada', 0.5434650677093942), ('videotelèfon', 0.5420494080692895), ('telefé', 0.5331136921786233), ('telefónica', 0.5296591840807116), ('telefe', 0.5160182251107461), ('telefoto', 0.5142662690323383)]\n",
      "Top 10 most similar in other vectors to dependent word'con':\n",
      "[('amb', 0.72742337), ('compartint', 0.4799688), ('i', 0.46633428), ('així', 0.4640686), ('amb un', 0.45634174), ('altre', 0.45586067), ('mateix', 0.45522654), ('qual', 0.44584337), ('comptant', 0.44497988), ('tenint', 0.44300783)]\n",
      "\n",
      "head_word_replacements:\t10\n",
      "['telefònica', 'telefònicament', 'telèfon', 'trucada', 'videotrucada', 'videotelèfon', 'telefé', 'telefónica', 'telefe', 'telefoto']\n",
      "dependent_word_replacements:\t10\n",
      "['amb', 'compartint', 'i', 'així', 'amb un', 'altre', 'mateix', 'qual', 'comptant', 'tenint']\n"
     ]
    },
    {
     "name": "stderr",
     "output_type": "stream",
     "text": [
      "100%|███████████████████████████████████████████████████████████████████████████████████████████████████████| 50/50 [03:28<00:00,  4.17s/it]\n"
     ]
    },
    {
     "name": "stdout",
     "output_type": "stream",
     "text": [
      "new pairs:\n",
      "('telèfon', 'i')\n",
      "('telèfon', 'amb')\n",
      "new pairs:\t2\n",
      "\n",
      "pair relations:\n",
      "case\n",
      "new relations:\n",
      "cc\n",
      "case\n",
      "conversion dict value:\n",
      "Counter({'cc': 2, 'case': 2})\n"
     ]
    },
    {
     "name": "stderr",
     "output_type": "stream",
     "text": [
      "  0%|                                                                                                              | 0/1000 [00:00<?, ?it/s]\n"
     ]
    },
    {
     "ename": "FileNotFoundError",
     "evalue": "[Errno 2] No such file or directory: 'DEBUG_train_data/es/es_noise=20_tokens_conversion=vectors-ud-train.conllu'",
     "output_type": "error",
     "traceback": [
      "\u001b[0;31m---------------------------------------------------------------------------\u001b[0m",
      "\u001b[0;31mFileNotFoundError\u001b[0m                         Traceback (most recent call last)",
      "\u001b[0;32m/tmp/ipykernel_6350/1150370319.py\u001b[0m in \u001b[0;36m<module>\u001b[0;34m\u001b[0m\n\u001b[1;32m     67\u001b[0m \u001b[0;31m#     print(f\"Word pairs w/ other relations in Slovenian:\\t{i}\")\u001b[0m\u001b[0;34m\u001b[0m\u001b[0;34m\u001b[0m\u001b[0;34m\u001b[0m\u001b[0m\n\u001b[1;32m     68\u001b[0m \u001b[0;34m\u001b[0m\u001b[0m\n\u001b[0;32m---> 69\u001b[0;31m     \u001b[0;34m(\u001b[0m\u001b[0mtotal_lines\u001b[0m\u001b[0;34m,\u001b[0m \u001b[0mchanged\u001b[0m\u001b[0;34m)\u001b[0m \u001b[0;34m=\u001b[0m \u001b[0mf\u001b[0m\u001b[0;34m.\u001b[0m\u001b[0mapply_conversions_bilingual\u001b[0m\u001b[0;34m(\u001b[0m\u001b[0mcorpus_es\u001b[0m\u001b[0;34m,\u001b[0m \u001b[0mconverted_corpus_es\u001b[0m\u001b[0;34m,\u001b[0m \u001b[0mconversion_es\u001b[0m\u001b[0;34m)\u001b[0m\u001b[0;34m\u001b[0m\u001b[0;34m\u001b[0m\u001b[0m\n\u001b[0m\u001b[1;32m     70\u001b[0m     \u001b[0mprint\u001b[0m\u001b[0;34m(\u001b[0m\u001b[0;34mf\"Total lines:\\t{total_lines}\"\u001b[0m\u001b[0;34m)\u001b[0m\u001b[0;34m\u001b[0m\u001b[0;34m\u001b[0m\u001b[0m\n\u001b[1;32m     71\u001b[0m     \u001b[0mprint\u001b[0m\u001b[0;34m(\u001b[0m\u001b[0;34mf\"Lines changed:\\t{changed}\"\u001b[0m\u001b[0;34m)\u001b[0m\u001b[0;34m\u001b[0m\u001b[0;34m\u001b[0m\u001b[0m\n",
      "\u001b[0;32m~/githubRepos/parsing-mismatches/functions.py\u001b[0m in \u001b[0;36mapply_conversions_bilingual\u001b[0;34m(input_file, output_file, conversion_dictionary)\u001b[0m\n\u001b[1;32m   1097\u001b[0m             \u001b[0;32melse\u001b[0m\u001b[0;34m:\u001b[0m\u001b[0;34m\u001b[0m\u001b[0;34m\u001b[0m\u001b[0m\n\u001b[1;32m   1098\u001b[0m                 \u001b[0;32mcontinue\u001b[0m\u001b[0;34m\u001b[0m\u001b[0;34m\u001b[0m\u001b[0m\n\u001b[0;32m-> 1099\u001b[0;31m         \u001b[0;32mwith\u001b[0m \u001b[0mopen\u001b[0m\u001b[0;34m(\u001b[0m\u001b[0moutput_file\u001b[0m\u001b[0;34m,\u001b[0m \u001b[0;34m\"a\"\u001b[0m\u001b[0;34m)\u001b[0m \u001b[0;32mas\u001b[0m \u001b[0moutfile\u001b[0m\u001b[0;34m:\u001b[0m\u001b[0;34m\u001b[0m\u001b[0;34m\u001b[0m\u001b[0m\n\u001b[0m\u001b[1;32m   1100\u001b[0m             \u001b[0;32mfor\u001b[0m \u001b[0msent\u001b[0m \u001b[0;32min\u001b[0m \u001b[0msentence\u001b[0m\u001b[0;34m:\u001b[0m\u001b[0;34m\u001b[0m\u001b[0;34m\u001b[0m\u001b[0m\n\u001b[1;32m   1101\u001b[0m                 \u001b[0moutfile\u001b[0m\u001b[0;34m.\u001b[0m\u001b[0mwrite\u001b[0m\u001b[0;34m(\u001b[0m\u001b[0;34m\"\\t\"\u001b[0m\u001b[0;34m.\u001b[0m\u001b[0mjoin\u001b[0m\u001b[0;34m(\u001b[0m\u001b[0msent\u001b[0m\u001b[0;34m)\u001b[0m\u001b[0;34m)\u001b[0m\u001b[0;34m\u001b[0m\u001b[0;34m\u001b[0m\u001b[0m\n",
      "\u001b[0;31mFileNotFoundError\u001b[0m: [Errno 2] No such file or directory: 'DEBUG_train_data/es/es_noise=20_tokens_conversion=vectors-ud-train.conllu'"
     ]
    }
   ],
   "source": [
    "# set hyperparameters\n",
    "# noise_type = [\"none\", \"freq\", \"10_types\", \"20_types\", \"30_types\", \"40_types\", \"50_types\"]\n",
    "# noise_type = [\"none_tokens\"]\n",
    "# noise_type = [\"freq_tokens\"]\n",
    "# noise_type = ['none_tokens']\n",
    "# noise_type = ['freq_tokens', '10_tokens', '20_tokens', '30_tokens']\n",
    "# noise_type = ['10_tokens']\n",
    "noise_type = ['20_tokens']\n",
    "# noise_type = ['30_tokens']\n",
    "top_n = 20\n",
    "threshold = 0.0\n",
    "\n",
    "# # load vectors\n",
    "print(\"loading vectors...\")\n",
    "# vectors_hr = \"wiki.hr.align.magnitude\"\n",
    "# vectors_sl = \"wiki.sl.align.magnitude\"\n",
    "vectors_es = \"wiki.es.align.magnitude\"\n",
    "vectors_ca = \"wiki.ca.align.magnitude\"\n",
    "# vectors_dir = \"./gd-ga-en-vecs/\"\n",
    "# vectors_gd = vectors_dir+\"src=gd_tgt=ga/vectors-gd-aligned-w-ga.magnitude\"\n",
    "# vectors_ga = vectors_dir+\"src=gd_tgt=ga/vectors-ga-aligned-w-gd.magnitude\"\n",
    "\n",
    "for noise in noise_type:\n",
    "    print(f\"Generating training data based on noise_type: {noise}\")\n",
    "    \n",
    "#     print(\"First language (Croatian)...\")\n",
    "#     ## Do HR first\n",
    "\n",
    "#     corpus_hr = \"train_data/hr/hr_noise=\"+str(noise)+\"-ud-train.conllu\"\n",
    "#     corpus_sl = \"train_data/sl/sl_noise=none-ud-train.conllu\"\n",
    "\n",
    "    corpus_es = \"train_data/es/es_noise=\"+str(noise)+\"-ud-train.conllu\"\n",
    "#     corpus_es = \"dev_data/es/es_noise=\"+str(noise)+\"-ud-dev.conllu\"\n",
    "#     corpus_ca = \"train_data/ca/ca_noise=none-ud-train.conllu\"\n",
    "    corpus_ca = \"data/UD_Catalan-AnCora/ca_ancora-ud-train.conllu\"\n",
    "#     corpus_ca = \"data/UD_Catalan-AnCora/ca_ancora-ud-dev.conllu\"\n",
    "\n",
    "    # train data\n",
    "    list_es, sentences_es = f.process_training_data(corpus_es)\n",
    "    list_ca, sentences_ca = f.process_training_data(corpus_ca)\n",
    "    \n",
    "    # Train Data\n",
    "#     corpus_gd = \"train_data/gd/gd_noise=\"+str(noise)+\"-ud-train.conllu\"\n",
    "#     corpus_ga = \"train_data/ga/ga_noise=none-ud-train.conllu\"\n",
    "    # corpus_en = \"train_data/en/en_noise=none-ud-train.conllu\"\n",
    "#     list_gd, sentences_gd = f.process_training_data(corpus_gd)\n",
    "#     list_ga, sentences_ga = f.process_training_data(corpus_ga)    \n",
    "\n",
    "    # Dev Data\n",
    "#     corpus_gd = \"dev_data/gd/gd_noise=\"+str(noise)+\"-ud-dev.conllu\"\n",
    "#     corpus_ga = \"dev_data/ga/ga_noise=none-ud-dev.conllu\"\n",
    "\n",
    "    # vector conversion only\n",
    "    conversion_es = conv.get_conversions_bilingual_vectors(list_es, list_ca,\n",
    "                                                    vectors_es, vectors_ca)\n",
    "    converted_corpus_es = corpus_es[:-16]+\"_conversion=vectors_DEBUG-ud-train.conllu\"\n",
    "\n",
    "#     i = 0\n",
    "#     j = len(conversion_hr)\n",
    "#     for item in conversion_hr:\n",
    "#         if len(list(conversion_hr[item])) != 0:\n",
    "#     #         print(item, conversion_hr[item])\n",
    "#             i += 1\n",
    "\n",
    "#     print(f\"Total word pairs:\\t{j}\")\n",
    "#     print(f\"Word pairs w/ other relations in Slovenian:\\t{i}\")\n",
    "\n",
    "    (total_lines, changed) = f.apply_conversions_bilingual(corpus_es, converted_corpus_es, conversion_es)\n",
    "    print(f\"Total lines:\\t{total_lines}\")\n",
    "    print(f\"Lines changed:\\t{changed}\")"
   ]
  },
  {
   "cell_type": "markdown",
   "metadata": {},
   "source": [
    "### Set hyperparameters"
   ]
  },
  {
   "cell_type": "code",
   "execution_count": null,
   "metadata": {},
   "outputs": [],
   "source": [
    "# Select number of similar words to create new word pairs\n",
    "top_n = 20\n",
    "# threshold = [0.95, 0.9, 0.8, 0.7, 0.6, 0.5, 0.4, 0.3, 0.2, 0.1, 0,0]\n",
    "threshold = 0.0\n",
    "\n",
    "# Select seed for training data (1-3)\n",
    "seed = 1\n",
    "\n",
    "# Select noise method\n",
    "# noise=\"none\"\n",
    "# noise=\"freq\"\n",
    "# noise=\"50_types\"\n",
    "noise=\"50_tokens\""
   ]
  },
  {
   "cell_type": "markdown",
   "metadata": {},
   "source": [
    "### Load corpora"
   ]
  },
  {
   "cell_type": "code",
   "execution_count": null,
   "metadata": {},
   "outputs": [],
   "source": [
    "# corpus_A, corpus_B = f.load_corpus(language)"
   ]
  },
  {
   "cell_type": "markdown",
   "metadata": {},
   "source": [
    "### Load vectors"
   ]
  },
  {
   "cell_type": "code",
   "execution_count": null,
   "metadata": {},
   "outputs": [],
   "source": [
    "vectors_dir = \"./gd-ga-en-vecs/\"\n",
    "vectors_gd = vectors_dir+\"src=gd_tgt=ga/vectors-gd-aligned-w-ga.magnitude\"\n",
    "vectors_ga = vectors_dir+\"src=gd_tgt=ga/vectors-ga-aligned-w-gd.magnitude\""
   ]
  },
  {
   "cell_type": "markdown",
   "metadata": {},
   "source": [
    "### Get word-word-relation triples for each corpus"
   ]
  },
  {
   "cell_type": "code",
   "execution_count": null,
   "metadata": {},
   "outputs": [],
   "source": [
    "# Train Data\n",
    "# corpus_gd = \"train_data/gd/gd_noise=\"+str(noise)+\"-ud-train.conllu\"\n",
    "# corpus_ga = \"train_data/ga/ga_noise=none-ud-train.conllu\"\n",
    "# corpus_en = \"train_data/en/en_noise=none-ud-train.conllu\"\n",
    "\n",
    "# Dev Data\n",
    "corpus_gd = \"dev_data/gd/gd_noise=\"+str(noise)+\"-ud-dev.conllu\"\n",
    "corpus_ga = \"dev_data/ga/ga_noise=none-ud-dev.conllu\""
   ]
  },
  {
   "cell_type": "code",
   "execution_count": null,
   "metadata": {},
   "outputs": [],
   "source": [
    "list_gd, sentences_gd = f.process_training_data(corpus_gd)"
   ]
  },
  {
   "cell_type": "code",
   "execution_count": null,
   "metadata": {},
   "outputs": [],
   "source": [
    "list_ga, sentences_ga = f.process_training_data(corpus_ga)"
   ]
  },
  {
   "cell_type": "code",
   "execution_count": null,
   "metadata": {},
   "outputs": [],
   "source": [
    "# output_A = language+\"_A_mismatches\"+\".tsv\"\n",
    "# output_B = language+\"_B_mismatches\"+\".tsv\"\n",
    "# get list for corpus A data\n",
    "# list_A, sentences_A = f.process_ud_data(corpus_A, num_sents_A)\n",
    "# get list for corpus B data\n",
    "# need to keep process_wsj_data for now for English data\n",
    "# list_B, sentences_B = f.process_wsj_data(corpus_B, num_sents_B)\n",
    "# list_B, sentences_B = f.process_ud_data(corpus_B, num_sents_B)"
   ]
  },
  {
   "cell_type": "markdown",
   "metadata": {},
   "source": [
    "### Load text dictionaries"
   ]
  },
  {
   "cell_type": "code",
   "execution_count": null,
   "metadata": {},
   "outputs": [],
   "source": [
    "gd2ga_dict = \"gd2ga_dict.txt\"\n",
    "# # gd2en = \"\"\n",
    "# gd2ga_dict = {}\n",
    "# with open(gd2ga) as f:\n",
    "#     dictionary = f.readlines()\n",
    "# for item in dictionary:\n",
    "#     item = item.strip().lower().split(\"\\t\")\n",
    "#     if item[0] in gd2ga_dict:\n",
    "#         gd2ga_dict[item[0]].append(item[1])\n",
    "#     else:\n",
    "#         gd2ga_dict[item[0]] = [item[1]]"
   ]
  },
  {
   "cell_type": "code",
   "execution_count": null,
   "metadata": {},
   "outputs": [],
   "source": [
    "# print(gd2ga_dict)"
   ]
  },
  {
   "cell_type": "markdown",
   "metadata": {},
   "source": [
    "### Create Converted Files"
   ]
  },
  {
   "cell_type": "markdown",
   "metadata": {},
   "source": [
    "#### Dictionary"
   ]
  },
  {
   "cell_type": "code",
   "execution_count": null,
   "metadata": {
    "scrolled": true
   },
   "outputs": [],
   "source": [
    "conversion_gd = f.get_conversions_bilingual_dict(sentences_gd,\n",
    "                                                 list_gd, list_ga,\n",
    "                                                 gd2ga_dict)"
   ]
  },
  {
   "cell_type": "code",
   "execution_count": null,
   "metadata": {},
   "outputs": [],
   "source": [
    "converted_corpus_gd = corpus_gd[:-16]+\"_conversion=dict-ud-dev.conllu\"\n",
    "converted_corpus_gd"
   ]
  },
  {
   "cell_type": "code",
   "execution_count": null,
   "metadata": {},
   "outputs": [],
   "source": [
    "i = 0\n",
    "j = len(conversion_gd)\n",
    "for item in conversion_gd:\n",
    "    if len(list(conversion_gd[item])) != 0:\n",
    "#         print(item, conversion_gd[item])\n",
    "        i += 1\n",
    "\n",
    "print(f\"Total word pairs:\\t{j}\")\n",
    "print(f\"Word pairs w/ other relations in Irish:\\t{i}\")"
   ]
  },
  {
   "cell_type": "code",
   "execution_count": null,
   "metadata": {},
   "outputs": [],
   "source": [
    "(total_lines, changed) = f.apply_conversions_bilingual(corpus_gd, converted_corpus_gd, conversion_gd)"
   ]
  },
  {
   "cell_type": "code",
   "execution_count": null,
   "metadata": {},
   "outputs": [],
   "source": [
    "print(f\"Total lines:\\t{total_lines}\")\n",
    "print(f\"Lines changed:\\t{changed}\")"
   ]
  },
  {
   "cell_type": "markdown",
   "metadata": {},
   "source": [
    "#### Vectors"
   ]
  },
  {
   "cell_type": "code",
   "execution_count": null,
   "metadata": {},
   "outputs": [],
   "source": [
    "conversion_gd = f.get_conversions_bilingual_vectors(sentences_gd,\n",
    "                                                    list_gd, list_ga,\n",
    "                                                    vectors_gd, vectors_ga)"
   ]
  },
  {
   "cell_type": "code",
   "execution_count": null,
   "metadata": {},
   "outputs": [],
   "source": [
    "converted_corpus_gd = corpus_gd[:-16]+\"_conversion=vectors-ud-dev.conllu\"\n",
    "converted_corpus_gd"
   ]
  },
  {
   "cell_type": "code",
   "execution_count": null,
   "metadata": {},
   "outputs": [],
   "source": [
    "i = 0\n",
    "j = len(conversion_gd)\n",
    "for item in conversion_gd:\n",
    "    if len(list(conversion_gd[item])) != 0:\n",
    "#         print(item, conversion_gd[item])\n",
    "        i += 1\n",
    "\n",
    "print(f\"Total word pairs:\\t{j}\")\n",
    "print(f\"Word pairs w/ other relations in Irish:\\t{i}\")"
   ]
  },
  {
   "cell_type": "code",
   "execution_count": null,
   "metadata": {},
   "outputs": [],
   "source": [
    "(total_lines, changed) = f.apply_conversions_bilingual(corpus_gd, converted_corpus_gd, conversion_gd)"
   ]
  },
  {
   "cell_type": "code",
   "execution_count": null,
   "metadata": {},
   "outputs": [],
   "source": [
    "print(f\"Total lines:\\t{total_lines}\")\n",
    "print(f\"Lines changed:\\t{changed}\")"
   ]
  },
  {
   "cell_type": "markdown",
   "metadata": {},
   "source": [
    "#### Dictionary + Vectors"
   ]
  },
  {
   "cell_type": "code",
   "execution_count": null,
   "metadata": {},
   "outputs": [],
   "source": [
    "conversion_gd = f.get_conversions_bilingual_dict_vectors(sentences_gd,\n",
    "                                                         list_gd, list_ga,\n",
    "                                                         vectors_gd, vectors_ga,\n",
    "                                                         gd2ga_dict)"
   ]
  },
  {
   "cell_type": "code",
   "execution_count": null,
   "metadata": {},
   "outputs": [],
   "source": [
    "converted_corpus_gd = corpus_gd[:-16]+\"_conversion=dict+vectors-ud-dev.conllu\"\n",
    "converted_corpus_gd"
   ]
  },
  {
   "cell_type": "code",
   "execution_count": null,
   "metadata": {},
   "outputs": [],
   "source": [
    "i = 0\n",
    "j = len(conversion_gd)\n",
    "for item in conversion_gd:\n",
    "    if len(list(conversion_gd[item])) != 0:\n",
    "#         print(item, conversion_gd[item])\n",
    "        i += 1\n",
    "\n",
    "print(f\"Total word pairs:\\t{j}\")\n",
    "print(f\"Word pairs w/ other relations in Irish:\\t{i}\")"
   ]
  },
  {
   "cell_type": "code",
   "execution_count": null,
   "metadata": {},
   "outputs": [],
   "source": [
    "(total_lines, changed) = f.apply_conversions_bilingual(corpus_gd, converted_corpus_gd, conversion_gd)"
   ]
  },
  {
   "cell_type": "code",
   "execution_count": null,
   "metadata": {},
   "outputs": [],
   "source": [
    "print(f\"Total lines:\\t{total_lines}\")\n",
    "print(f\"Lines changed:\\t{changed}\")"
   ]
  },
  {
   "cell_type": "markdown",
   "metadata": {},
   "source": [
    "#### Vectors + Dictionary"
   ]
  },
  {
   "cell_type": "code",
   "execution_count": null,
   "metadata": {},
   "outputs": [],
   "source": [
    "conversion_gd = f.get_conversions_bilingual_vectors_dict(sentences_gd,\n",
    "                                                         list_gd, list_ga,\n",
    "                                                         vectors_gd, vectors_ga,\n",
    "                                                         gd2ga_dict)"
   ]
  },
  {
   "cell_type": "code",
   "execution_count": null,
   "metadata": {},
   "outputs": [],
   "source": [
    "converted_corpus_gd = corpus_gd[:-16]+\"_conversion=vectors+dict-ud-dev.conllu\"\n",
    "converted_corpus_gd"
   ]
  },
  {
   "cell_type": "code",
   "execution_count": null,
   "metadata": {},
   "outputs": [],
   "source": [
    "i = 0\n",
    "j = len(conversion_gd)\n",
    "for item in conversion_gd:\n",
    "    if len(list(conversion_gd[item])) != 0:\n",
    "#         print(item, conversion_gd[item])\n",
    "        i += 1\n",
    "\n",
    "print(f\"Total word pairs:\\t{j}\")\n",
    "print(f\"Word pairs w/ other relations in Irish:\\t{i}\")"
   ]
  },
  {
   "cell_type": "code",
   "execution_count": null,
   "metadata": {},
   "outputs": [],
   "source": [
    "(total_lines, changed) = f.apply_conversions_bilingual(corpus_gd, converted_corpus_gd, conversion_gd)"
   ]
  },
  {
   "cell_type": "code",
   "execution_count": null,
   "metadata": {},
   "outputs": [],
   "source": [
    "print(f\"Total lines:\\t{total_lines}\")\n",
    "print(f\"Lines changed:\\t{changed}\")"
   ]
  },
  {
   "cell_type": "code",
   "execution_count": null,
   "metadata": {},
   "outputs": [],
   "source": [
    "# conversion_gd = f.get_conversions_bilingual_vectors_vectors(sentences_gd,\n",
    "#                                                             list_gd, list_ga,\n",
    "#                                                             vectors_gd, vectors_ga)"
   ]
  },
  {
   "cell_type": "code",
   "execution_count": null,
   "metadata": {},
   "outputs": [],
   "source": [
    "# conversion_gd = f.get_conversions_bilingual(sentences_gd, \n",
    "#                                             list_gd, \n",
    "#                                             list_ga,\n",
    "#                                             vectors_gd,\n",
    "#                                             vectors_ga,\n",
    "#                                             top_n)\n",
    "# converted_corpus_gd = corpus_gd[:-4]+\"_converted_pretrained=\"+vector_type+\".conllu\"\n",
    "# f.apply_conversions(corpus_gd, converted_corpus_gd, conversion_gd)"
   ]
  },
  {
   "cell_type": "markdown",
   "metadata": {},
   "source": [
    "#### Create converted files for corpus A and corpus B"
   ]
  },
  {
   "cell_type": "code",
   "execution_count": null,
   "metadata": {},
   "outputs": [],
   "source": [
    "# converted_corpus_A_pretrained = corpus_A[:-4]+\"_converted_pretrained=\"+vector_type+\".conllu\"\n",
    "# converted_corpus_B_pretrained = corpus_B[:-4]+\"_converted_pretrained=\"+vector_type+\".conllu\""
   ]
  },
  {
   "cell_type": "code",
   "execution_count": null,
   "metadata": {},
   "outputs": [],
   "source": [
    "# f.apply_conversions(corpus_A, converted_corpus_A_pretrained, conversion_A_pretrained)\n",
    "# f.apply_conversions(corpus_B, converted_corpus_B_pretrained, conversion_B_pretrained)"
   ]
  },
  {
   "cell_type": "code",
   "execution_count": null,
   "metadata": {},
   "outputs": [],
   "source": [
    "# conversion_B_BERT = f.get_conversions_pretrained(mismatches_B, \n",
    "#                                                        sentences_B, \n",
    "#                                                        list_B, \n",
    "#                                                        list_A,\n",
    "#                                                        vectors,\n",
    "\n",
    "#                                                        top_n,\n",
    "#                                                        threshold)\n",
    "# converted_corpus_B_BERT = corpus_B[:-4]+\"_converted_BERT.conllu\"\n",
    "# f.apply_conversions(corpus_B, converted_corpus_B_BERT, conversion_B_BERT)"
   ]
  },
  {
   "cell_type": "code",
   "execution_count": null,
   "metadata": {},
   "outputs": [],
   "source": []
  }
 ],
 "metadata": {
  "kernelspec": {
   "display_name": "Python 3 (ipykernel)",
   "language": "python",
   "name": "python3"
  },
  "language_info": {
   "codemirror_mode": {
    "name": "ipython",
    "version": 3
   },
   "file_extension": ".py",
   "mimetype": "text/x-python",
   "name": "python",
   "nbconvert_exporter": "python",
   "pygments_lexer": "ipython3",
   "version": "3.7.4"
  }
 },
 "nbformat": 4,
 "nbformat_minor": 4
}
