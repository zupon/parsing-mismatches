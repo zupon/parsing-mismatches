{
 "cells": [
  {
   "cell_type": "code",
   "execution_count": 1,
   "id": "ef4a63cb",
   "metadata": {
    "scrolled": false
   },
   "outputs": [
    {
     "name": "stdout",
     "output_type": "stream",
     "text": [
      "loading vectors...\n",
      "\n",
      "Generating training data based on noise_type: none\n",
      "\n",
      "2,613 sentences processed\n",
      "51,610 tokens processed\n",
      "Average sentence length:\t19.751243781094526\n",
      "29,476 head-dependent:relation pairs\n",
      "30,808 head-dependent-relation:sentence triples\n",
      "4,005 sentences processed\n",
      "95,881 tokens processed\n",
      "Average sentence length:\t23.940324594257177\n",
      "63,769 head-dependent:relation pairs\n",
      "64,946 head-dependent-relation:sentence triples\n"
     ]
    },
    {
     "name": "stderr",
     "output_type": "stream",
     "text": [
      "100%|███████████████████████████████████| 29476/29476 [4:45:52<00:00,  1.72it/s]\n"
     ]
    },
    {
     "name": "stdout",
     "output_type": "stream",
     "text": [
      "Original word pairs:\t29476\n",
      "New word pairs:\t13514\n",
      "Total word pairs:\t29476\n",
      "Word pairs w/ other relations in Irish (train):\t6773\n"
     ]
    },
    {
     "name": "stderr",
     "output_type": "stream",
     "text": [
      "100%|████████████████████████████████████| 2613/2613 [00:00<00:00, 15506.52it/s]\n"
     ]
    },
    {
     "name": "stdout",
     "output_type": "stream",
     "text": [
      "Total lines:\t51610\n",
      "Number of lines changed:\t8132\n",
      "Total lines:\t51610\n",
      "Lines changed:\t8132\n",
      "\n",
      "Generating dev data based on noise_type: none\n",
      "\n",
      "646 sentences processed\n",
      "10,409 tokens processed\n",
      "Average sentence length:\t16.113003095975234\n",
      "7,410 head-dependent:relation pairs\n",
      "7,590 head-dependent-relation:sentence triples\n",
      "451 sentences processed\n",
      "10,000 tokens processed\n",
      "Average sentence length:\t22.172949002217294\n",
      "8,685 head-dependent:relation pairs\n",
      "8,760 head-dependent-relation:sentence triples\n"
     ]
    },
    {
     "name": "stderr",
     "output_type": "stream",
     "text": [
      "100%|███████████████████████████████████████| 7410/7410 [07:23<00:00, 16.72it/s]\n"
     ]
    },
    {
     "name": "stdout",
     "output_type": "stream",
     "text": [
      "Original word pairs:\t7410\n",
      "New word pairs:\t842\n",
      "Total word pairs:\t7410\n",
      "Word pairs w/ other relations in Irish (dev):\t641\n"
     ]
    },
    {
     "name": "stderr",
     "output_type": "stream",
     "text": [
      "100%|██████████████████████████████████████| 646/646 [00:00<00:00, 13998.28it/s]\n"
     ]
    },
    {
     "name": "stdout",
     "output_type": "stream",
     "text": [
      "Total lines:\t10409\n",
      "Number of lines changed:\t653\n",
      "Total lines:\t10409\n",
      "Lines changed:\t653\n",
      "\n",
      "Generating training data based on noise_type: freq\n",
      "\n",
      "2,613 sentences processed\n",
      "51,610 tokens processed\n",
      "Average sentence length:\t19.751243781094526\n",
      "29,476 head-dependent:relation pairs\n",
      "29,476 head-dependent-relation:sentence triples\n",
      "4,005 sentences processed\n",
      "95,881 tokens processed\n",
      "Average sentence length:\t23.940324594257177\n",
      "63,769 head-dependent:relation pairs\n",
      "64,946 head-dependent-relation:sentence triples\n"
     ]
    },
    {
     "name": "stderr",
     "output_type": "stream",
     "text": [
      "100%|███████████████████████████████████| 29476/29476 [5:07:36<00:00,  1.60it/s]\n"
     ]
    },
    {
     "name": "stdout",
     "output_type": "stream",
     "text": [
      "Original word pairs:\t29476\n",
      "New word pairs:\t13514\n",
      "Total word pairs:\t29476\n",
      "Word pairs w/ other relations in Irish (train):\t6773\n"
     ]
    },
    {
     "name": "stderr",
     "output_type": "stream",
     "text": [
      "100%|████████████████████████████████████| 2613/2613 [00:00<00:00, 14679.95it/s]\n"
     ]
    },
    {
     "name": "stdout",
     "output_type": "stream",
     "text": [
      "Total lines:\t51610\n",
      "Number of lines changed:\t9681\n",
      "Total lines:\t51610\n",
      "Lines changed:\t9681\n",
      "\n",
      "Generating dev data based on noise_type: freq\n",
      "\n",
      "646 sentences processed\n",
      "10,409 tokens processed\n",
      "Average sentence length:\t16.113003095975234\n",
      "7,410 head-dependent:relation pairs\n",
      "7,410 head-dependent-relation:sentence triples\n",
      "451 sentences processed\n",
      "10,000 tokens processed\n",
      "Average sentence length:\t22.172949002217294\n",
      "8,685 head-dependent:relation pairs\n",
      "8,760 head-dependent-relation:sentence triples\n"
     ]
    },
    {
     "name": "stderr",
     "output_type": "stream",
     "text": [
      "100%|███████████████████████████████████████| 7410/7410 [07:41<00:00, 16.07it/s]\n"
     ]
    },
    {
     "name": "stdout",
     "output_type": "stream",
     "text": [
      "Original word pairs:\t7410\n",
      "New word pairs:\t842\n",
      "Total word pairs:\t7410\n",
      "Word pairs w/ other relations in Irish (dev):\t641\n"
     ]
    },
    {
     "name": "stderr",
     "output_type": "stream",
     "text": [
      "100%|██████████████████████████████████████| 646/646 [00:00<00:00, 13947.69it/s]"
     ]
    },
    {
     "name": "stdout",
     "output_type": "stream",
     "text": [
      "Total lines:\t10409\n",
      "Number of lines changed:\t680\n",
      "Total lines:\t10409\n",
      "Lines changed:\t680\n"
     ]
    },
    {
     "name": "stderr",
     "output_type": "stream",
     "text": [
      "\n"
     ]
    }
   ],
   "source": [
    "import sys\n",
    "from tqdm import tqdm\n",
    "from collections import Counter\n",
    "import functions as f\n",
    "\n",
    "# set hyperparameters\n",
    "# noise_type = [\"none\", \"freq\", \"10_types\", \"20_types\", \"30_types\", \"40_types\", \"50_types\"]\n",
    "# noise_type = [\"10_types\", \"20_types\", \"30_types\", \"40_types\", \"50_types\"]\n",
    "# noise_type = [\"10_tokens\", \"20_tokens\", \"30_tokens\", \"40_tokens\", \"50_tokens\"]\n",
    "noise_type = [\"none\", \"freq\"]\n",
    "top_n = 20\n",
    "threshold = 0.0\n",
    "\n",
    "# load vectors\n",
    "print(\"loading vectors...\")\n",
    "vectors_gd = \"bilingual_vectors_scannell.magnitude\"\n",
    "vectors_ga = \"bilingual_vectors_scannell.magnitude\"\n",
    "\n",
    "for noise in noise_type:\n",
    "    print(f\"\\nGenerating training data based on noise_type: {noise}\\n\")\n",
    "\n",
    "    corpus_gd = \"train_data/gd/gd_noise=\"+str(noise)+\"-ud-train.conllu\"\n",
    "    corpus_ga = \"train_data/ga/ga_noise=none-ud-train.conllu\"\n",
    "\n",
    "    # train data\n",
    "    list_gd, sentences_gd = f.process_training_data(corpus_gd)\n",
    "    list_ga, sentences_ga = f.process_training_data(corpus_ga)\n",
    "\n",
    "    # vector conversion only\n",
    "    conversion_gd = f.get_conversions_bilingual_vectors(sentences_gd,\n",
    "                                                    list_gd, list_ga,\n",
    "                                                    vectors_gd, vectors_ga)\n",
    "    converted_corpus_gd = corpus_gd[:-16]+\"_conversion=bilingual_vectors_scannell-ud-train.conllu\"\n",
    "\n",
    "    i = 0\n",
    "    j = len(conversion_gd)\n",
    "    for item in conversion_gd:\n",
    "        if len(list(conversion_gd[item])) != 0:\n",
    "    #         print(item, conversion_gd[item])\n",
    "            i += 1\n",
    "\n",
    "    print(f\"Total word pairs:\\t{j}\")\n",
    "    print(f\"Word pairs w/ other relations in Irish (train):\\t{i}\")\n",
    "\n",
    "    (total_lines, changed) = f.apply_conversions_bilingual(corpus_gd, converted_corpus_gd, conversion_gd)\n",
    "    print(f\"Total lines:\\t{total_lines}\")\n",
    "    print(f\"Lines changed:\\t{changed}\")\n",
    "    \n",
    "    \n",
    "    print(f\"\\nGenerating dev data based on noise_type: {noise}\\n\")\n",
    "    corpus_gd = \"dev_data/gd/gd_noise=\"+str(noise)+\"-ud-dev.conllu\"\n",
    "    corpus_ga = \"dev_data/ga/ga_noise=none-ud-dev.conllu\"\n",
    "\n",
    "    # dev data\n",
    "    list_gd, sentences_gd = f.process_training_data(corpus_gd)\n",
    "    list_ga, sentences_ga = f.process_training_data(corpus_ga)\n",
    "\n",
    "    # vector conversion only\n",
    "    conversion_gd = f.get_conversions_bilingual_vectors(sentences_gd,\n",
    "                                                    list_gd, list_ga,\n",
    "                                                    vectors_gd, vectors_ga)\n",
    "    converted_corpus_gd = corpus_gd[:-14]+\"_conversion=bilingual_vectors_scannell-ud-dev.conllu\"\n",
    "\n",
    "    i = 0\n",
    "    j = len(conversion_gd)\n",
    "    for item in conversion_gd:\n",
    "        if len(list(conversion_gd[item])) != 0:\n",
    "    #         print(item, conversion_gd[item])\n",
    "            i += 1\n",
    "\n",
    "    print(f\"Total word pairs:\\t{j}\")\n",
    "    print(f\"Word pairs w/ other relations in Irish (dev):\\t{i}\")\n",
    "\n",
    "    (total_lines, changed) = f.apply_conversions_bilingual(corpus_gd, converted_corpus_gd, conversion_gd)\n",
    "    print(f\"Total lines:\\t{total_lines}\")\n",
    "    print(f\"Lines changed:\\t{changed}\")\n"
   ]
  },
  {
   "cell_type": "code",
   "execution_count": 2,
   "id": "8acbb409",
   "metadata": {},
   "outputs": [
    {
     "name": "stdout",
     "output_type": "stream",
     "text": [
      "loading vectors...\n",
      "\n",
      "Generating training data based on noise_type: 10_types\n",
      "\n",
      "2,613 sentences processed\n",
      "51,610 tokens processed\n",
      "Average sentence length:\t19.751243781094526\n",
      "29,476 head-dependent:relation pairs\n",
      "33,156 head-dependent-relation:sentence triples\n",
      "4,005 sentences processed\n",
      "95,881 tokens processed\n",
      "Average sentence length:\t23.940324594257177\n",
      "63,769 head-dependent:relation pairs\n",
      "64,946 head-dependent-relation:sentence triples\n"
     ]
    },
    {
     "name": "stderr",
     "output_type": "stream",
     "text": [
      "100%|███████████████████████████████████| 29476/29476 [5:26:38<00:00,  1.50it/s]\n"
     ]
    },
    {
     "name": "stdout",
     "output_type": "stream",
     "text": [
      "Original word pairs:\t29476\n",
      "New word pairs:\t13514\n",
      "Total word pairs:\t29476\n",
      "Word pairs w/ other relations in Irish (train):\t6773\n"
     ]
    },
    {
     "name": "stderr",
     "output_type": "stream",
     "text": [
      "100%|████████████████████████████████████| 2613/2613 [00:00<00:00, 13040.96it/s]\n"
     ]
    },
    {
     "name": "stdout",
     "output_type": "stream",
     "text": [
      "Total lines:\t51610\n",
      "Number of lines changed:\t8729\n",
      "Total lines:\t51610\n",
      "Lines changed:\t8729\n",
      "\n",
      "Generating dev data based on noise_type: 10_types\n",
      "\n",
      "646 sentences processed\n",
      "10,409 tokens processed\n",
      "Average sentence length:\t16.113003095975234\n",
      "7,410 head-dependent:relation pairs\n",
      "7,959 head-dependent-relation:sentence triples\n",
      "451 sentences processed\n",
      "10,000 tokens processed\n",
      "Average sentence length:\t22.172949002217294\n",
      "8,685 head-dependent:relation pairs\n",
      "8,760 head-dependent-relation:sentence triples\n"
     ]
    },
    {
     "name": "stderr",
     "output_type": "stream",
     "text": [
      "100%|███████████████████████████████████████| 7410/7410 [07:50<00:00, 15.76it/s]\n"
     ]
    },
    {
     "name": "stdout",
     "output_type": "stream",
     "text": [
      "Original word pairs:\t7410\n",
      "New word pairs:\t842\n",
      "Total word pairs:\t7410\n",
      "Word pairs w/ other relations in Irish (dev):\t641\n"
     ]
    },
    {
     "name": "stderr",
     "output_type": "stream",
     "text": [
      "100%|██████████████████████████████████████| 646/646 [00:00<00:00, 13946.90it/s]\n"
     ]
    },
    {
     "name": "stdout",
     "output_type": "stream",
     "text": [
      "Total lines:\t10409\n",
      "Number of lines changed:\t692\n",
      "Total lines:\t10409\n",
      "Lines changed:\t692\n",
      "\n",
      "Generating training data based on noise_type: 20_types\n",
      "\n",
      "2,613 sentences processed\n",
      "51,610 tokens processed\n",
      "Average sentence length:\t19.751243781094526\n",
      "29,476 head-dependent:relation pairs\n",
      "35,353 head-dependent-relation:sentence triples\n",
      "4,005 sentences processed\n",
      "95,881 tokens processed\n",
      "Average sentence length:\t23.940324594257177\n",
      "63,769 head-dependent:relation pairs\n",
      "64,946 head-dependent-relation:sentence triples\n"
     ]
    },
    {
     "name": "stderr",
     "output_type": "stream",
     "text": [
      "100%|███████████████████████████████████| 29476/29476 [5:30:38<00:00,  1.49it/s]\n"
     ]
    },
    {
     "name": "stdout",
     "output_type": "stream",
     "text": [
      "Original word pairs:\t29476\n",
      "New word pairs:\t13514\n",
      "Total word pairs:\t29476\n",
      "Word pairs w/ other relations in Irish (train):\t6773\n"
     ]
    },
    {
     "name": "stderr",
     "output_type": "stream",
     "text": [
      "100%|████████████████████████████████████| 2613/2613 [00:00<00:00, 11311.83it/s]\n"
     ]
    },
    {
     "name": "stdout",
     "output_type": "stream",
     "text": [
      "Total lines:\t51610\n",
      "Number of lines changed:\t9386\n",
      "Total lines:\t51610\n",
      "Lines changed:\t9386\n",
      "\n",
      "Generating dev data based on noise_type: 20_types\n",
      "\n",
      "646 sentences processed\n",
      "10,409 tokens processed\n",
      "Average sentence length:\t16.113003095975234\n",
      "7,410 head-dependent:relation pairs\n",
      "8,316 head-dependent-relation:sentence triples\n",
      "451 sentences processed\n",
      "10,000 tokens processed\n",
      "Average sentence length:\t22.172949002217294\n",
      "8,685 head-dependent:relation pairs\n",
      "8,760 head-dependent-relation:sentence triples\n"
     ]
    },
    {
     "name": "stderr",
     "output_type": "stream",
     "text": [
      "100%|███████████████████████████████████████| 7410/7410 [07:51<00:00, 15.73it/s]\n"
     ]
    },
    {
     "name": "stdout",
     "output_type": "stream",
     "text": [
      "Original word pairs:\t7410\n",
      "New word pairs:\t842\n",
      "Total word pairs:\t7410\n",
      "Word pairs w/ other relations in Irish (dev):\t641\n"
     ]
    },
    {
     "name": "stderr",
     "output_type": "stream",
     "text": [
      "100%|██████████████████████████████████████| 646/646 [00:00<00:00, 12382.30it/s]\n"
     ]
    },
    {
     "name": "stdout",
     "output_type": "stream",
     "text": [
      "Total lines:\t10409\n",
      "Number of lines changed:\t734\n",
      "Total lines:\t10409\n",
      "Lines changed:\t734\n",
      "\n",
      "Generating training data based on noise_type: 30_types\n",
      "\n",
      "2,613 sentences processed\n",
      "51,610 tokens processed\n",
      "Average sentence length:\t19.751243781094526\n",
      "29,476 head-dependent:relation pairs\n",
      "37,456 head-dependent-relation:sentence triples\n",
      "4,005 sentences processed\n",
      "95,881 tokens processed\n",
      "Average sentence length:\t23.940324594257177\n",
      "63,769 head-dependent:relation pairs\n",
      "64,946 head-dependent-relation:sentence triples\n"
     ]
    },
    {
     "name": "stderr",
     "output_type": "stream",
     "text": [
      "100%|███████████████████████████████████| 29476/29476 [5:32:36<00:00,  1.48it/s]\n"
     ]
    },
    {
     "name": "stdout",
     "output_type": "stream",
     "text": [
      "Original word pairs:\t29476\n",
      "New word pairs:\t13514\n",
      "Total word pairs:\t29476\n",
      "Word pairs w/ other relations in Irish (train):\t6773\n"
     ]
    },
    {
     "name": "stderr",
     "output_type": "stream",
     "text": [
      "100%|████████████████████████████████████| 2613/2613 [00:00<00:00, 13097.63it/s]\n"
     ]
    },
    {
     "name": "stdout",
     "output_type": "stream",
     "text": [
      "Total lines:\t51610\n",
      "Number of lines changed:\t9978\n",
      "Total lines:\t51610\n",
      "Lines changed:\t9978\n",
      "\n",
      "Generating dev data based on noise_type: 30_types\n",
      "\n",
      "646 sentences processed\n",
      "10,409 tokens processed\n",
      "Average sentence length:\t16.113003095975234\n",
      "7,410 head-dependent:relation pairs\n",
      "8,659 head-dependent-relation:sentence triples\n",
      "451 sentences processed\n",
      "10,000 tokens processed\n",
      "Average sentence length:\t22.172949002217294\n",
      "8,685 head-dependent:relation pairs\n",
      "8,760 head-dependent-relation:sentence triples\n"
     ]
    },
    {
     "name": "stderr",
     "output_type": "stream",
     "text": [
      "100%|███████████████████████████████████████| 7410/7410 [07:51<00:00, 15.70it/s]\n"
     ]
    },
    {
     "name": "stdout",
     "output_type": "stream",
     "text": [
      "Original word pairs:\t7410\n",
      "New word pairs:\t842\n",
      "Total word pairs:\t7410\n",
      "Word pairs w/ other relations in Irish (dev):\t641\n"
     ]
    },
    {
     "name": "stderr",
     "output_type": "stream",
     "text": [
      "100%|██████████████████████████████████████| 646/646 [00:00<00:00, 13414.73it/s]\n"
     ]
    },
    {
     "name": "stdout",
     "output_type": "stream",
     "text": [
      "Total lines:\t10409\n",
      "Number of lines changed:\t768\n",
      "Total lines:\t10409\n",
      "Lines changed:\t768\n",
      "\n",
      "Generating training data based on noise_type: 40_types\n",
      "\n",
      "2,613 sentences processed\n",
      "51,610 tokens processed\n",
      "Average sentence length:\t19.751243781094526\n",
      "29,476 head-dependent:relation pairs\n",
      "39,206 head-dependent-relation:sentence triples\n",
      "4,005 sentences processed\n",
      "95,881 tokens processed\n",
      "Average sentence length:\t23.940324594257177\n",
      "63,769 head-dependent:relation pairs\n",
      "64,946 head-dependent-relation:sentence triples\n"
     ]
    },
    {
     "name": "stderr",
     "output_type": "stream",
     "text": [
      "100%|███████████████████████████████████| 29476/29476 [5:30:32<00:00,  1.49it/s]\n"
     ]
    },
    {
     "name": "stdout",
     "output_type": "stream",
     "text": [
      "Original word pairs:\t29476\n",
      "New word pairs:\t13514\n",
      "Total word pairs:\t29476\n",
      "Word pairs w/ other relations in Irish (train):\t6773\n"
     ]
    },
    {
     "name": "stderr",
     "output_type": "stream",
     "text": [
      "100%|████████████████████████████████████| 2613/2613 [00:00<00:00, 10753.69it/s]\n"
     ]
    },
    {
     "name": "stdout",
     "output_type": "stream",
     "text": [
      "Total lines:\t51610\n",
      "Number of lines changed:\t10615\n",
      "Total lines:\t51610\n",
      "Lines changed:\t10615\n",
      "\n",
      "Generating dev data based on noise_type: 40_types\n",
      "\n",
      "646 sentences processed\n",
      "10,409 tokens processed\n",
      "Average sentence length:\t16.113003095975234\n",
      "7,410 head-dependent:relation pairs\n",
      "8,954 head-dependent-relation:sentence triples\n",
      "451 sentences processed\n",
      "10,000 tokens processed\n",
      "Average sentence length:\t22.172949002217294\n",
      "8,685 head-dependent:relation pairs\n",
      "8,760 head-dependent-relation:sentence triples\n"
     ]
    },
    {
     "name": "stderr",
     "output_type": "stream",
     "text": [
      "100%|███████████████████████████████████████| 7410/7410 [08:02<00:00, 15.36it/s]\n"
     ]
    },
    {
     "name": "stdout",
     "output_type": "stream",
     "text": [
      "Original word pairs:\t7410\n",
      "New word pairs:\t842\n",
      "Total word pairs:\t7410\n",
      "Word pairs w/ other relations in Irish (dev):\t641\n"
     ]
    },
    {
     "name": "stderr",
     "output_type": "stream",
     "text": [
      "100%|██████████████████████████████████████| 646/646 [00:00<00:00, 14157.14it/s]\n"
     ]
    },
    {
     "name": "stdout",
     "output_type": "stream",
     "text": [
      "Total lines:\t10409\n",
      "Number of lines changed:\t799\n",
      "Total lines:\t10409\n",
      "Lines changed:\t799\n",
      "\n",
      "Generating training data based on noise_type: 50_types\n",
      "\n",
      "2,613 sentences processed\n",
      "51,610 tokens processed\n",
      "Average sentence length:\t19.751243781094526\n",
      "29,476 head-dependent:relation pairs\n",
      "40,888 head-dependent-relation:sentence triples\n",
      "4,005 sentences processed\n",
      "95,881 tokens processed\n",
      "Average sentence length:\t23.940324594257177\n",
      "63,769 head-dependent:relation pairs\n",
      "64,946 head-dependent-relation:sentence triples\n"
     ]
    },
    {
     "name": "stderr",
     "output_type": "stream",
     "text": [
      "100%|███████████████████████████████████| 29476/29476 [5:28:10<00:00,  1.50it/s]\n"
     ]
    },
    {
     "name": "stdout",
     "output_type": "stream",
     "text": [
      "Original word pairs:\t29476\n",
      "New word pairs:\t13514\n",
      "Total word pairs:\t29476\n",
      "Word pairs w/ other relations in Irish (train):\t6773\n"
     ]
    },
    {
     "name": "stderr",
     "output_type": "stream",
     "text": [
      "100%|████████████████████████████████████| 2613/2613 [00:00<00:00, 13717.50it/s]\n"
     ]
    },
    {
     "name": "stdout",
     "output_type": "stream",
     "text": [
      "Total lines:\t51610\n",
      "Number of lines changed:\t11139\n",
      "Total lines:\t51610\n",
      "Lines changed:\t11139\n",
      "\n",
      "Generating dev data based on noise_type: 50_types\n",
      "\n",
      "646 sentences processed\n",
      "10,409 tokens processed\n",
      "Average sentence length:\t16.113003095975234\n",
      "7,410 head-dependent:relation pairs\n",
      "9,142 head-dependent-relation:sentence triples\n",
      "451 sentences processed\n",
      "10,000 tokens processed\n",
      "Average sentence length:\t22.172949002217294\n",
      "8,685 head-dependent:relation pairs\n",
      "8,760 head-dependent-relation:sentence triples\n"
     ]
    },
    {
     "name": "stderr",
     "output_type": "stream",
     "text": [
      "100%|███████████████████████████████████████| 7410/7410 [07:53<00:00, 15.63it/s]\n"
     ]
    },
    {
     "name": "stdout",
     "output_type": "stream",
     "text": [
      "Original word pairs:\t7410\n",
      "New word pairs:\t842\n",
      "Total word pairs:\t7410\n",
      "Word pairs w/ other relations in Irish (dev):\t641\n"
     ]
    },
    {
     "name": "stderr",
     "output_type": "stream",
     "text": [
      "100%|██████████████████████████████████████| 646/646 [00:00<00:00, 14190.21it/s]"
     ]
    },
    {
     "name": "stdout",
     "output_type": "stream",
     "text": [
      "Total lines:\t10409\n",
      "Number of lines changed:\t849\n",
      "Total lines:\t10409\n",
      "Lines changed:\t849\n"
     ]
    },
    {
     "name": "stderr",
     "output_type": "stream",
     "text": [
      "\n"
     ]
    }
   ],
   "source": [
    "# set hyperparameters\n",
    "# noise_type = [\"none\", \"freq\", \"10_types\", \"20_types\", \"30_types\", \"40_types\", \"50_types\"]\n",
    "noise_type = [\"10_types\", \"20_types\", \"30_types\", \"40_types\", \"50_types\"]\n",
    "# noise_type = [\"10_tokens\", \"20_tokens\", \"30_tokens\", \"40_tokens\", \"50_tokens\"]\n",
    "# noise_type = [\"none\", \"freq\"]\n",
    "top_n = 20\n",
    "threshold = 0.0\n",
    "\n",
    "# load vectors\n",
    "print(\"loading vectors...\")\n",
    "vectors_gd = \"bilingual_vectors_scannell.magnitude\"\n",
    "vectors_ga = \"bilingual_vectors_scannell.magnitude\"\n",
    "\n",
    "for noise in noise_type:\n",
    "    print(f\"\\nGenerating training data based on noise_type: {noise}\\n\")\n",
    "\n",
    "    corpus_gd = \"train_data/gd/gd_noise=\"+str(noise)+\"-ud-train.conllu\"\n",
    "    corpus_ga = \"train_data/ga/ga_noise=none-ud-train.conllu\"\n",
    "\n",
    "    # train data\n",
    "    list_gd, sentences_gd = f.process_training_data(corpus_gd)\n",
    "    list_ga, sentences_ga = f.process_training_data(corpus_ga)\n",
    "\n",
    "    # vector conversion only\n",
    "    conversion_gd = f.get_conversions_bilingual_vectors(sentences_gd,\n",
    "                                                    list_gd, list_ga,\n",
    "                                                    vectors_gd, vectors_ga)\n",
    "    converted_corpus_gd = corpus_gd[:-16]+\"_conversion=bilingual_vectors-ud-train.conllu\"\n",
    "\n",
    "    i = 0\n",
    "    j = len(conversion_gd)\n",
    "    for item in conversion_gd:\n",
    "        if len(list(conversion_gd[item])) != 0:\n",
    "    #         print(item, conversion_gd[item])\n",
    "            i += 1\n",
    "\n",
    "    print(f\"Total word pairs:\\t{j}\")\n",
    "    print(f\"Word pairs w/ other relations in Irish (train):\\t{i}\")\n",
    "\n",
    "    (total_lines, changed) = f.apply_conversions_bilingual(corpus_gd, converted_corpus_gd, conversion_gd)\n",
    "    print(f\"Total lines:\\t{total_lines}\")\n",
    "    print(f\"Lines changed:\\t{changed}\")\n",
    "    \n",
    "    \n",
    "    print(f\"\\nGenerating dev data based on noise_type: {noise}\\n\")\n",
    "    corpus_gd = \"dev_data/gd/gd_noise=\"+str(noise)+\"-ud-dev.conllu\"\n",
    "    corpus_ga = \"dev_data/ga/ga_noise=none-ud-dev.conllu\"\n",
    "\n",
    "    # dev data\n",
    "    list_gd, sentences_gd = f.process_training_data(corpus_gd)\n",
    "    list_ga, sentences_ga = f.process_training_data(corpus_ga)\n",
    "\n",
    "    # vector conversion only\n",
    "    conversion_gd = f.get_conversions_bilingual_vectors(sentences_gd,\n",
    "                                                    list_gd, list_ga,\n",
    "                                                    vectors_gd, vectors_ga)\n",
    "    converted_corpus_gd = corpus_gd[:-14]+\"_conversion=bilingual_vectors-ud-dev.conllu\"\n",
    "\n",
    "    i = 0\n",
    "    j = len(conversion_gd)\n",
    "    for item in conversion_gd:\n",
    "        if len(list(conversion_gd[item])) != 0:\n",
    "    #         print(item, conversion_gd[item])\n",
    "            i += 1\n",
    "\n",
    "    print(f\"Total word pairs:\\t{j}\")\n",
    "    print(f\"Word pairs w/ other relations in Irish (dev):\\t{i}\")\n",
    "\n",
    "    (total_lines, changed) = f.apply_conversions_bilingual(corpus_gd, converted_corpus_gd, conversion_gd)\n",
    "    print(f\"Total lines:\\t{total_lines}\")\n",
    "    print(f\"Lines changed:\\t{changed}\")\n"
   ]
  },
  {
   "cell_type": "code",
   "execution_count": 3,
   "id": "72060b77",
   "metadata": {},
   "outputs": [
    {
     "name": "stdout",
     "output_type": "stream",
     "text": [
      "loading vectors...\n",
      "\n",
      "Generating training data based on noise_type: 10_tokens\n",
      "\n",
      "2,613 sentences processed\n",
      "51,610 tokens processed\n",
      "Average sentence length:\t19.751243781094526\n",
      "29,476 head-dependent:relation pairs\n",
      "33,152 head-dependent-relation:sentence triples\n",
      "4,005 sentences processed\n",
      "95,881 tokens processed\n",
      "Average sentence length:\t23.940324594257177\n",
      "63,769 head-dependent:relation pairs\n",
      "64,946 head-dependent-relation:sentence triples\n"
     ]
    },
    {
     "name": "stderr",
     "output_type": "stream",
     "text": [
      "100%|███████████████████████████████████| 29476/29476 [5:56:09<00:00,  1.38it/s]\n"
     ]
    },
    {
     "name": "stdout",
     "output_type": "stream",
     "text": [
      "Original word pairs:\t29476\n",
      "New word pairs:\t13514\n",
      "Total word pairs:\t29476\n",
      "Word pairs w/ other relations in Irish (train):\t6773\n"
     ]
    },
    {
     "name": "stderr",
     "output_type": "stream",
     "text": [
      "100%|████████████████████████████████████| 2613/2613 [00:00<00:00, 12424.46it/s]\n"
     ]
    },
    {
     "name": "stdout",
     "output_type": "stream",
     "text": [
      "Total lines:\t51610\n",
      "Number of lines changed:\t8696\n",
      "Total lines:\t51610\n",
      "Lines changed:\t8696\n",
      "\n",
      "Generating dev data based on noise_type: 10_tokens\n",
      "\n",
      "646 sentences processed\n",
      "10,409 tokens processed\n",
      "Average sentence length:\t16.113003095975234\n",
      "7,410 head-dependent:relation pairs\n",
      "7,937 head-dependent-relation:sentence triples\n",
      "451 sentences processed\n",
      "10,000 tokens processed\n",
      "Average sentence length:\t22.172949002217294\n",
      "8,685 head-dependent:relation pairs\n",
      "8,760 head-dependent-relation:sentence triples\n"
     ]
    },
    {
     "name": "stderr",
     "output_type": "stream",
     "text": [
      "100%|███████████████████████████████████████| 7410/7410 [08:23<00:00, 14.71it/s]\n"
     ]
    },
    {
     "name": "stdout",
     "output_type": "stream",
     "text": [
      "Original word pairs:\t7410\n",
      "New word pairs:\t842\n",
      "Total word pairs:\t7410\n",
      "Word pairs w/ other relations in Irish (dev):\t641\n"
     ]
    },
    {
     "name": "stderr",
     "output_type": "stream",
     "text": [
      "100%|██████████████████████████████████████| 646/646 [00:00<00:00, 12746.07it/s]\n"
     ]
    },
    {
     "name": "stdout",
     "output_type": "stream",
     "text": [
      "Total lines:\t10409\n",
      "Number of lines changed:\t689\n",
      "Total lines:\t10409\n",
      "Lines changed:\t689\n",
      "\n",
      "Generating training data based on noise_type: 20_tokens\n",
      "\n",
      "2,613 sentences processed\n",
      "51,610 tokens processed\n",
      "Average sentence length:\t19.751243781094526\n",
      "29,476 head-dependent:relation pairs\n",
      "35,045 head-dependent-relation:sentence triples\n",
      "4,005 sentences processed\n",
      "95,881 tokens processed\n",
      "Average sentence length:\t23.940324594257177\n",
      "63,769 head-dependent:relation pairs\n",
      "64,946 head-dependent-relation:sentence triples\n"
     ]
    },
    {
     "name": "stderr",
     "output_type": "stream",
     "text": [
      "100%|███████████████████████████████████| 29476/29476 [6:32:31<00:00,  1.25it/s]\n"
     ]
    },
    {
     "name": "stdout",
     "output_type": "stream",
     "text": [
      "Original word pairs:\t29476\n",
      "New word pairs:\t13514\n",
      "Total word pairs:\t29476\n",
      "Word pairs w/ other relations in Irish (train):\t6773\n"
     ]
    },
    {
     "name": "stderr",
     "output_type": "stream",
     "text": [
      "100%|████████████████████████████████████| 2613/2613 [00:00<00:00, 12966.24it/s]\n"
     ]
    },
    {
     "name": "stdout",
     "output_type": "stream",
     "text": [
      "Total lines:\t51610\n",
      "Number of lines changed:\t9311\n",
      "Total lines:\t51610\n",
      "Lines changed:\t9311\n",
      "\n",
      "Generating dev data based on noise_type: 20_tokens\n",
      "\n",
      "646 sentences processed\n",
      "10,409 tokens processed\n",
      "Average sentence length:\t16.113003095975234\n",
      "7,410 head-dependent:relation pairs\n",
      "8,305 head-dependent-relation:sentence triples\n",
      "451 sentences processed\n",
      "10,000 tokens processed\n",
      "Average sentence length:\t22.172949002217294\n",
      "8,685 head-dependent:relation pairs\n",
      "8,760 head-dependent-relation:sentence triples\n"
     ]
    },
    {
     "name": "stderr",
     "output_type": "stream",
     "text": [
      "100%|███████████████████████████████████████| 7410/7410 [07:49<00:00, 15.78it/s]\n"
     ]
    },
    {
     "name": "stdout",
     "output_type": "stream",
     "text": [
      "Original word pairs:\t7410\n",
      "New word pairs:\t842\n",
      "Total word pairs:\t7410\n",
      "Word pairs w/ other relations in Irish (dev):\t641\n"
     ]
    },
    {
     "name": "stderr",
     "output_type": "stream",
     "text": [
      "100%|██████████████████████████████████████| 646/646 [00:00<00:00, 12522.39it/s]\n"
     ]
    },
    {
     "name": "stdout",
     "output_type": "stream",
     "text": [
      "Total lines:\t10409\n",
      "Number of lines changed:\t721\n",
      "Total lines:\t10409\n",
      "Lines changed:\t721\n",
      "\n",
      "Generating training data based on noise_type: 30_tokens\n",
      "\n",
      "2,613 sentences processed\n",
      "51,610 tokens processed\n",
      "Average sentence length:\t19.751243781094526\n",
      "29,476 head-dependent:relation pairs\n",
      "36,850 head-dependent-relation:sentence triples\n",
      "4,005 sentences processed\n",
      "95,881 tokens processed\n",
      "Average sentence length:\t23.940324594257177\n",
      "63,769 head-dependent:relation pairs\n",
      "64,946 head-dependent-relation:sentence triples\n"
     ]
    },
    {
     "name": "stderr",
     "output_type": "stream",
     "text": [
      "100%|███████████████████████████████████| 29476/29476 [5:31:14<00:00,  1.48it/s]\n"
     ]
    },
    {
     "name": "stdout",
     "output_type": "stream",
     "text": [
      "Original word pairs:\t29476\n",
      "New word pairs:\t13514\n",
      "Total word pairs:\t29476\n",
      "Word pairs w/ other relations in Irish (train):\t6773\n"
     ]
    },
    {
     "name": "stderr",
     "output_type": "stream",
     "text": [
      "100%|████████████████████████████████████| 2613/2613 [00:00<00:00, 12040.91it/s]\n"
     ]
    },
    {
     "name": "stdout",
     "output_type": "stream",
     "text": [
      "Total lines:\t51610\n",
      "Number of lines changed:\t9847\n",
      "Total lines:\t51610\n",
      "Lines changed:\t9847\n",
      "\n",
      "Generating dev data based on noise_type: 30_tokens\n",
      "\n",
      "646 sentences processed\n",
      "10,409 tokens processed\n",
      "Average sentence length:\t16.113003095975234\n",
      "7,410 head-dependent:relation pairs\n",
      "8,597 head-dependent-relation:sentence triples\n",
      "451 sentences processed\n",
      "10,000 tokens processed\n",
      "Average sentence length:\t22.172949002217294\n",
      "8,685 head-dependent:relation pairs\n",
      "8,760 head-dependent-relation:sentence triples\n"
     ]
    },
    {
     "name": "stderr",
     "output_type": "stream",
     "text": [
      "100%|███████████████████████████████████████| 7410/7410 [07:50<00:00, 15.76it/s]\n"
     ]
    },
    {
     "name": "stdout",
     "output_type": "stream",
     "text": [
      "Original word pairs:\t7410\n",
      "New word pairs:\t842\n",
      "Total word pairs:\t7410\n",
      "Word pairs w/ other relations in Irish (dev):\t641\n"
     ]
    },
    {
     "name": "stderr",
     "output_type": "stream",
     "text": [
      "100%|██████████████████████████████████████| 646/646 [00:00<00:00, 13100.17it/s]\n"
     ]
    },
    {
     "name": "stdout",
     "output_type": "stream",
     "text": [
      "Total lines:\t10409\n",
      "Number of lines changed:\t767\n",
      "Total lines:\t10409\n",
      "Lines changed:\t767\n",
      "\n",
      "Generating training data based on noise_type: 40_tokens\n",
      "\n",
      "2,613 sentences processed\n",
      "51,610 tokens processed\n",
      "Average sentence length:\t19.751243781094526\n",
      "29,476 head-dependent:relation pairs\n",
      "38,469 head-dependent-relation:sentence triples\n",
      "4,005 sentences processed\n",
      "95,881 tokens processed\n",
      "Average sentence length:\t23.940324594257177\n",
      "63,769 head-dependent:relation pairs\n",
      "64,946 head-dependent-relation:sentence triples\n"
     ]
    },
    {
     "name": "stderr",
     "output_type": "stream",
     "text": [
      "100%|███████████████████████████████████| 29476/29476 [5:31:05<00:00,  1.48it/s]\n"
     ]
    },
    {
     "name": "stdout",
     "output_type": "stream",
     "text": [
      "Original word pairs:\t29476\n",
      "New word pairs:\t13514\n",
      "Total word pairs:\t29476\n",
      "Word pairs w/ other relations in Irish (train):\t6773\n"
     ]
    },
    {
     "name": "stderr",
     "output_type": "stream",
     "text": [
      "100%|████████████████████████████████████| 2613/2613 [00:00<00:00, 12900.13it/s]\n"
     ]
    },
    {
     "name": "stdout",
     "output_type": "stream",
     "text": [
      "Total lines:\t51610\n",
      "Number of lines changed:\t10433\n",
      "Total lines:\t51610\n",
      "Lines changed:\t10433\n",
      "\n",
      "Generating dev data based on noise_type: 40_tokens\n",
      "\n",
      "646 sentences processed\n",
      "10,409 tokens processed\n",
      "Average sentence length:\t16.113003095975234\n",
      "7,410 head-dependent:relation pairs\n",
      "8,868 head-dependent-relation:sentence triples\n",
      "451 sentences processed\n",
      "10,000 tokens processed\n",
      "Average sentence length:\t22.172949002217294\n",
      "8,685 head-dependent:relation pairs\n",
      "8,760 head-dependent-relation:sentence triples\n"
     ]
    },
    {
     "name": "stderr",
     "output_type": "stream",
     "text": [
      "100%|███████████████████████████████████████| 7410/7410 [07:58<00:00, 15.47it/s]\n"
     ]
    },
    {
     "name": "stdout",
     "output_type": "stream",
     "text": [
      "Original word pairs:\t7410\n",
      "New word pairs:\t842\n",
      "Total word pairs:\t7410\n",
      "Word pairs w/ other relations in Irish (dev):\t641\n"
     ]
    },
    {
     "name": "stderr",
     "output_type": "stream",
     "text": [
      "100%|██████████████████████████████████████| 646/646 [00:00<00:00, 13532.18it/s]\n"
     ]
    },
    {
     "name": "stdout",
     "output_type": "stream",
     "text": [
      "Total lines:\t10409\n",
      "Number of lines changed:\t802\n",
      "Total lines:\t10409\n",
      "Lines changed:\t802\n",
      "\n",
      "Generating training data based on noise_type: 50_tokens\n",
      "\n",
      "2,613 sentences processed\n",
      "51,610 tokens processed\n",
      "Average sentence length:\t19.751243781094526\n",
      "29,476 head-dependent:relation pairs\n",
      "39,729 head-dependent-relation:sentence triples\n",
      "4,005 sentences processed\n",
      "95,881 tokens processed\n",
      "Average sentence length:\t23.940324594257177\n",
      "63,769 head-dependent:relation pairs\n",
      "64,946 head-dependent-relation:sentence triples\n"
     ]
    },
    {
     "name": "stderr",
     "output_type": "stream",
     "text": [
      "100%|███████████████████████████████████| 29476/29476 [5:36:28<00:00,  1.46it/s]\n"
     ]
    },
    {
     "name": "stdout",
     "output_type": "stream",
     "text": [
      "Original word pairs:\t29476\n",
      "New word pairs:\t13514\n",
      "Total word pairs:\t29476\n",
      "Word pairs w/ other relations in Irish (train):\t6773\n"
     ]
    },
    {
     "name": "stderr",
     "output_type": "stream",
     "text": [
      "100%|████████████████████████████████████| 2613/2613 [00:00<00:00, 13285.66it/s]\n"
     ]
    },
    {
     "name": "stdout",
     "output_type": "stream",
     "text": [
      "Total lines:\t51610\n",
      "Number of lines changed:\t11032\n",
      "Total lines:\t51610\n",
      "Lines changed:\t11032\n",
      "\n",
      "Generating dev data based on noise_type: 50_tokens\n",
      "\n",
      "646 sentences processed\n",
      "10,409 tokens processed\n",
      "Average sentence length:\t16.113003095975234\n",
      "7,410 head-dependent:relation pairs\n",
      "9,110 head-dependent-relation:sentence triples\n",
      "451 sentences processed\n",
      "10,000 tokens processed\n",
      "Average sentence length:\t22.172949002217294\n",
      "8,685 head-dependent:relation pairs\n",
      "8,760 head-dependent-relation:sentence triples\n"
     ]
    },
    {
     "name": "stderr",
     "output_type": "stream",
     "text": [
      "100%|███████████████████████████████████████| 7410/7410 [07:57<00:00, 15.52it/s]\n"
     ]
    },
    {
     "name": "stdout",
     "output_type": "stream",
     "text": [
      "Original word pairs:\t7410\n",
      "New word pairs:\t842\n",
      "Total word pairs:\t7410\n",
      "Word pairs w/ other relations in Irish (dev):\t641\n"
     ]
    },
    {
     "name": "stderr",
     "output_type": "stream",
     "text": [
      "100%|██████████████████████████████████████| 646/646 [00:00<00:00, 13560.28it/s]"
     ]
    },
    {
     "name": "stdout",
     "output_type": "stream",
     "text": [
      "Total lines:\t10409\n",
      "Number of lines changed:\t820\n",
      "Total lines:\t10409\n",
      "Lines changed:\t820\n"
     ]
    },
    {
     "name": "stderr",
     "output_type": "stream",
     "text": [
      "\n"
     ]
    }
   ],
   "source": [
    "# set hyperparameters\n",
    "# noise_type = [\"none\", \"freq\", \"10_types\", \"20_types\", \"30_types\", \"40_types\", \"50_types\"]\n",
    "# noise_type = [\"10_types\", \"20_types\", \"30_types\", \"40_types\", \"50_types\"]\n",
    "noise_type = [\"10_tokens\", \"20_tokens\", \"30_tokens\", \"40_tokens\", \"50_tokens\"]\n",
    "# noise_type = [\"none\", \"freq\"]\n",
    "top_n = 20\n",
    "threshold = 0.0\n",
    "\n",
    "# load vectors\n",
    "print(\"loading vectors...\")\n",
    "vectors_gd = \"bilingual_vectors_scannell.magnitude\"\n",
    "vectors_ga = \"bilingual_vectors_scannell.magnitude\"\n",
    "\n",
    "for noise in noise_type:\n",
    "    print(f\"\\nGenerating training data based on noise_type: {noise}\\n\")\n",
    "\n",
    "    corpus_gd = \"train_data/gd/gd_noise=\"+str(noise)+\"-ud-train.conllu\"\n",
    "    corpus_ga = \"train_data/ga/ga_noise=none-ud-train.conllu\"\n",
    "\n",
    "    # train data\n",
    "    list_gd, sentences_gd = f.process_training_data(corpus_gd)\n",
    "    list_ga, sentences_ga = f.process_training_data(corpus_ga)\n",
    "\n",
    "    # vector conversion only\n",
    "    conversion_gd = f.get_conversions_bilingual_vectors(sentences_gd,\n",
    "                                                    list_gd, list_ga,\n",
    "                                                    vectors_gd, vectors_ga)\n",
    "    converted_corpus_gd = corpus_gd[:-16]+\"_conversion=bilingual_vectors-ud-train.conllu\"\n",
    "\n",
    "    i = 0\n",
    "    j = len(conversion_gd)\n",
    "    for item in conversion_gd:\n",
    "        if len(list(conversion_gd[item])) != 0:\n",
    "    #         print(item, conversion_gd[item])\n",
    "            i += 1\n",
    "\n",
    "    print(f\"Total word pairs:\\t{j}\")\n",
    "    print(f\"Word pairs w/ other relations in Irish (train):\\t{i}\")\n",
    "\n",
    "    (total_lines, changed) = f.apply_conversions_bilingual(corpus_gd, converted_corpus_gd, conversion_gd)\n",
    "    print(f\"Total lines:\\t{total_lines}\")\n",
    "    print(f\"Lines changed:\\t{changed}\")\n",
    "    \n",
    "    \n",
    "    print(f\"\\nGenerating dev data based on noise_type: {noise}\\n\")\n",
    "    corpus_gd = \"dev_data/gd/gd_noise=\"+str(noise)+\"-ud-dev.conllu\"\n",
    "    corpus_ga = \"dev_data/ga/ga_noise=none-ud-dev.conllu\"\n",
    "\n",
    "    # dev data\n",
    "    list_gd, sentences_gd = f.process_training_data(corpus_gd)\n",
    "    list_ga, sentences_ga = f.process_training_data(corpus_ga)\n",
    "\n",
    "    # vector conversion only\n",
    "    conversion_gd = f.get_conversions_bilingual_vectors(sentences_gd,\n",
    "                                                    list_gd, list_ga,\n",
    "                                                    vectors_gd, vectors_ga)\n",
    "    converted_corpus_gd = corpus_gd[:-14]+\"_conversion=bilingual_vectors-ud-dev.conllu\"\n",
    "\n",
    "    i = 0\n",
    "    j = len(conversion_gd)\n",
    "    for item in conversion_gd:\n",
    "        if len(list(conversion_gd[item])) != 0:\n",
    "    #         print(item, conversion_gd[item])\n",
    "            i += 1\n",
    "\n",
    "    print(f\"Total word pairs:\\t{j}\")\n",
    "    print(f\"Word pairs w/ other relations in Irish (dev):\\t{i}\")\n",
    "\n",
    "    (total_lines, changed) = f.apply_conversions_bilingual(corpus_gd, converted_corpus_gd, conversion_gd)\n",
    "    print(f\"Total lines:\\t{total_lines}\")\n",
    "    print(f\"Lines changed:\\t{changed}\")\n"
   ]
  },
  {
   "cell_type": "code",
   "execution_count": null,
   "id": "f3213d86",
   "metadata": {},
   "outputs": [],
   "source": []
  }
 ],
 "metadata": {
  "kernelspec": {
   "display_name": "Python 3 (ipykernel)",
   "language": "python",
   "name": "python3"
  },
  "language_info": {
   "codemirror_mode": {
    "name": "ipython",
    "version": 3
   },
   "file_extension": ".py",
   "mimetype": "text/x-python",
   "name": "python",
   "nbconvert_exporter": "python",
   "pygments_lexer": "ipython3",
   "version": "3.7.4"
  }
 },
 "nbformat": 4,
 "nbformat_minor": 5
}
