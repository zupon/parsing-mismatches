{
 "cells": [
  {
   "cell_type": "code",
   "execution_count": 1,
   "id": "ef4a63cb",
   "metadata": {},
   "outputs": [
    {
     "name": "stdout",
     "output_type": "stream",
     "text": [
      "loading vectors...\n",
      "\n",
      "Generating training data based on noise_type: none\n",
      "2,613 sentences processed\n",
      "51,610 tokens processed\n",
      "Average sentence length:\t19.751243781094526\n",
      "29,476 head-dependent:relation pairs\n",
      "30,808 head-dependent-relation:sentence triples\n",
      "4,005 sentences processed\n",
      "95,881 tokens processed\n",
      "Average sentence length:\t23.940324594257177\n",
      "63,769 head-dependent:relation pairs\n",
      "64,946 head-dependent-relation:sentence triples\n"
     ]
    },
    {
     "name": "stderr",
     "output_type": "stream",
     "text": [
      "  0%|▎                                                                                                | 112/29476 [01:21<5:56:07,  1.37it/s]\n"
     ]
    },
    {
     "ename": "KeyboardInterrupt",
     "evalue": "",
     "output_type": "error",
     "traceback": [
      "\u001b[0;31m---------------------------------------------------------------------------\u001b[0m",
      "\u001b[0;31mKeyboardInterrupt\u001b[0m                         Traceback (most recent call last)",
      "\u001b[0;32m/tmp/ipykernel_1329150/1292251608.py\u001b[0m in \u001b[0;36m<module>\u001b[0;34m\u001b[0m\n\u001b[1;32m     29\u001b[0m     conversion_gd = f.get_conversions_bilingual_vectors(sentences_gd,\n\u001b[1;32m     30\u001b[0m                                                     \u001b[0mlist_gd\u001b[0m\u001b[0;34m,\u001b[0m \u001b[0mlist_ga\u001b[0m\u001b[0;34m,\u001b[0m\u001b[0;34m\u001b[0m\u001b[0;34m\u001b[0m\u001b[0m\n\u001b[0;32m---> 31\u001b[0;31m                                                     vectors_gd, vectors_ga)\n\u001b[0m\u001b[1;32m     32\u001b[0m     \u001b[0mconverted_corpus_gd\u001b[0m \u001b[0;34m=\u001b[0m \u001b[0mcorpus_gd\u001b[0m\u001b[0;34m[\u001b[0m\u001b[0;34m:\u001b[0m\u001b[0;34m-\u001b[0m\u001b[0;36m16\u001b[0m\u001b[0;34m]\u001b[0m\u001b[0;34m+\u001b[0m\u001b[0;34m\"_conversion=bilingual_vectors-ud-train.conllu\"\u001b[0m\u001b[0;34m\u001b[0m\u001b[0;34m\u001b[0m\u001b[0m\n\u001b[1;32m     33\u001b[0m \u001b[0;34m\u001b[0m\u001b[0m\n",
      "\u001b[0;32m~/githubRepos/parsing-mismatches/functions.py\u001b[0m in \u001b[0;36mget_conversions_bilingual_vectors\u001b[0;34m(sentences, this_data, other_data, vector_file_this, vector_file_that)\u001b[0m\n\u001b[1;32m    778\u001b[0m         new_pairs = get_new_pairs(set(head_word_replacements),\n\u001b[1;32m    779\u001b[0m                                   \u001b[0mset\u001b[0m\u001b[0;34m(\u001b[0m\u001b[0mdependent_word_replacements\u001b[0m\u001b[0;34m)\u001b[0m\u001b[0;34m,\u001b[0m\u001b[0;34m\u001b[0m\u001b[0;34m\u001b[0m\u001b[0m\n\u001b[0;32m--> 780\u001b[0;31m                                   other_data)\n\u001b[0m\u001b[1;32m    781\u001b[0m         \u001b[0mchanged_pairs\u001b[0m \u001b[0;34m+=\u001b[0m \u001b[0mlen\u001b[0m\u001b[0;34m(\u001b[0m\u001b[0mnew_pairs\u001b[0m\u001b[0;34m)\u001b[0m\u001b[0;34m\u001b[0m\u001b[0;34m\u001b[0m\u001b[0m\n\u001b[1;32m    782\u001b[0m \u001b[0;31m#         print(f\"new pairs:\\t{len(new_pairs)}\")\u001b[0m\u001b[0;34m\u001b[0m\u001b[0;34m\u001b[0m\u001b[0;34m\u001b[0m\u001b[0m\n",
      "\u001b[0;32m~/githubRepos/parsing-mismatches/functions.py\u001b[0m in \u001b[0;36mget_new_pairs\u001b[0;34m(head_replacements, dependent_replacements, other_data)\u001b[0m\n\u001b[1;32m    655\u001b[0m     \u001b[0;32mfor\u001b[0m \u001b[0mhead\u001b[0m \u001b[0;32min\u001b[0m \u001b[0mhead_replacements\u001b[0m\u001b[0;34m:\u001b[0m\u001b[0;34m\u001b[0m\u001b[0;34m\u001b[0m\u001b[0m\n\u001b[1;32m    656\u001b[0m         \u001b[0;32mfor\u001b[0m \u001b[0mdependent\u001b[0m \u001b[0;32min\u001b[0m \u001b[0mdependent_replacements\u001b[0m\u001b[0;34m:\u001b[0m\u001b[0;34m\u001b[0m\u001b[0;34m\u001b[0m\u001b[0m\n\u001b[0;32m--> 657\u001b[0;31m             \u001b[0;32mif\u001b[0m \u001b[0;34m(\u001b[0m\u001b[0mhead\u001b[0m\u001b[0;34m,\u001b[0m \u001b[0mdependent\u001b[0m\u001b[0;34m)\u001b[0m \u001b[0;32min\u001b[0m \u001b[0mlist\u001b[0m\u001b[0;34m(\u001b[0m\u001b[0mother_data\u001b[0m\u001b[0;34m.\u001b[0m\u001b[0mkeys\u001b[0m\u001b[0;34m(\u001b[0m\u001b[0;34m)\u001b[0m\u001b[0;34m)\u001b[0m\u001b[0;34m:\u001b[0m\u001b[0;34m\u001b[0m\u001b[0;34m\u001b[0m\u001b[0m\n\u001b[0m\u001b[1;32m    658\u001b[0m                 \u001b[0mnew_pairs\u001b[0m\u001b[0;34m.\u001b[0m\u001b[0mappend\u001b[0m\u001b[0;34m(\u001b[0m\u001b[0;34m(\u001b[0m\u001b[0mhead\u001b[0m\u001b[0;34m,\u001b[0m\u001b[0mdependent\u001b[0m\u001b[0;34m)\u001b[0m\u001b[0;34m)\u001b[0m\u001b[0;34m\u001b[0m\u001b[0;34m\u001b[0m\u001b[0m\n\u001b[1;32m    659\u001b[0m     \u001b[0;32mreturn\u001b[0m \u001b[0mnew_pairs\u001b[0m\u001b[0;34m\u001b[0m\u001b[0;34m\u001b[0m\u001b[0m\n",
      "\u001b[0;31mKeyboardInterrupt\u001b[0m: "
     ]
    }
   ],
   "source": [
    "import sys\n",
    "from tqdm import tqdm\n",
    "from collections import Counter\n",
    "import functions as f\n",
    "\n",
    "# set hyperparameters\n",
    "# noise_type = [\"none\", \"freq\", \"10_types\", \"20_types\", \"30_types\", \"40_types\", \"50_types\"]\n",
    "# noise_type = [\"10_types\", \"20_types\", \"30_types\", \"40_types\", \"50_types\"]\n",
    "noise_type = [\"none\", \"freq\"]\n",
    "top_n = 20\n",
    "threshold = 0.0\n",
    "\n",
    "# load vectors\n",
    "print(\"loading vectors...\")\n",
    "vectors_gd = \"bilingual_vectors_scannell.magnitude\"\n",
    "vectors_ga = \"bilingual_vectors_scannell.magnitude\"\n",
    "\n",
    "for noise in noise_type:\n",
    "    print(f\"\\nGenerating training data based on noise_type: {noise}\\n\")\n",
    "\n",
    "    corpus_gd = \"train_data/gd/gd_noise=\"+str(noise)+\"-ud-train.conllu\"\n",
    "    corpus_ga = \"train_data/ga/ga_noise=none-ud-train.conllu\"\n",
    "\n",
    "    # train data\n",
    "    list_gd, sentences_gd = f.process_training_data(corpus_gd)\n",
    "    list_ga, sentences_ga = f.process_training_data(corpus_ga)\n",
    "\n",
    "    # vector conversion only\n",
    "    conversion_gd = f.get_conversions_bilingual_vectors(sentences_gd,\n",
    "                                                    list_gd, list_ga,\n",
    "                                                    vectors_gd, vectors_ga)\n",
    "    converted_corpus_gd = corpus_gd[:-16]+\"_conversion=bilingual_vectors-ud-train.conllu\"\n",
    "\n",
    "    i = 0\n",
    "    j = len(conversion_gd)\n",
    "    for item in conversion_gd:\n",
    "        if len(list(conversion_gd[item])) != 0:\n",
    "    #         print(item, conversion_gd[item])\n",
    "            i += 1\n",
    "\n",
    "    print(f\"Total word pairs:\\t{j}\")\n",
    "    print(f\"Word pairs w/ other relations in Irish (train):\\t{i}\")\n",
    "\n",
    "    (total_lines, changed) = f.apply_conversions_bilingual(corpus_gd, converted_corpus_gd, conversion_gd)\n",
    "    print(f\"Total lines:\\t{total_lines}\")\n",
    "    print(f\"Lines changed:\\t{changed}\")\n",
    "    \n",
    "    \n",
    "    print(f\"\\nGenerating dev data based on noise_type: {noise}\\n\")\n",
    "    corpus_gd = \"dev_data/gd/gd_noise=\"+str(noise)+\"-ud-dev.conllu\"\n",
    "    corpus_ga = \"dev_data/ga/ga_noise=none-ud-dev.conllu\"\n",
    "\n",
    "    # dev data\n",
    "    list_gd, sentences_gd = f.process_training_data(corpus_gd)\n",
    "    list_ga, sentences_ga = f.process_training_data(corpus_ga)\n",
    "\n",
    "    # vector conversion only\n",
    "    conversion_gd = f.get_conversions_bilingual_vectors(sentences_gd,\n",
    "                                                    list_gd, list_ga,\n",
    "                                                    vectors_gd, vectors_ga)\n",
    "    converted_corpus_gd = corpus_gd[:-14]+\"_conversion=bilingual_vectors-ud-dev.conllu\"\n",
    "\n",
    "    i = 0\n",
    "    j = len(conversion_gd)\n",
    "    for item in conversion_gd:\n",
    "        if len(list(conversion_gd[item])) != 0:\n",
    "    #         print(item, conversion_gd[item])\n",
    "            i += 1\n",
    "\n",
    "    print(f\"Total word pairs:\\t{j}\")\n",
    "    print(f\"Word pairs w/ other relations in Irish (dev):\\t{i}\")\n",
    "\n",
    "    (total_lines, changed) = f.apply_conversions_bilingual(corpus_gd, converted_corpus_gd, conversion_gd)\n",
    "    print(f\"Total lines:\\t{total_lines}\")\n",
    "    print(f\"Lines changed:\\t{changed}\")\n"
   ]
  },
  {
   "cell_type": "code",
   "execution_count": null,
   "id": "8acbb409",
   "metadata": {},
   "outputs": [],
   "source": []
  }
 ],
 "metadata": {
  "kernelspec": {
   "display_name": "Python 3 (ipykernel)",
   "language": "python",
   "name": "python3"
  },
  "language_info": {
   "codemirror_mode": {
    "name": "ipython",
    "version": 3
   },
   "file_extension": ".py",
   "mimetype": "text/x-python",
   "name": "python",
   "nbconvert_exporter": "python",
   "pygments_lexer": "ipython3",
   "version": "3.7.4"
  }
 },
 "nbformat": 4,
 "nbformat_minor": 5
}
